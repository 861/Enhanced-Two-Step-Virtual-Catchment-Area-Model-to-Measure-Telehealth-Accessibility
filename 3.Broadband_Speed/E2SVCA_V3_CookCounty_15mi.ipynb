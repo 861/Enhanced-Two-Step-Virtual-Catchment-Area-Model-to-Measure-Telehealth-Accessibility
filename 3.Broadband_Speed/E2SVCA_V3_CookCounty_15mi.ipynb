{
 "cells": [
  {
   "cell_type": "code",
   "execution_count": 57,
   "metadata": {},
   "outputs": [],
   "source": [
    "import polars as pl\n",
    "import numpy as np\n",
    "import pandas as pd"
   ]
  },
  {
   "cell_type": "code",
   "execution_count": 58,
   "metadata": {},
   "outputs": [
    {
     "data": {
      "text/html": [
       "<div>\n",
       "<style scoped>\n",
       "    .dataframe tbody tr th:only-of-type {\n",
       "        vertical-align: middle;\n",
       "    }\n",
       "\n",
       "    .dataframe tbody tr th {\n",
       "        vertical-align: top;\n",
       "    }\n",
       "\n",
       "    .dataframe thead th {\n",
       "        text-align: right;\n",
       "    }\n",
       "</style>\n",
       "<table border=\"1\" class=\"dataframe\">\n",
       "  <thead>\n",
       "    <tr style=\"text-align: right;\">\n",
       "      <th></th>\n",
       "      <th>geoid</th>\n",
       "      <th>min_d</th>\n",
       "      <th>min_u</th>\n",
       "      <th>minf_d</th>\n",
       "      <th>minf_u</th>\n",
       "      <th>maxf_d</th>\n",
       "      <th>maxf_u</th>\n",
       "    </tr>\n",
       "  </thead>\n",
       "  <tbody>\n",
       "    <tr>\n",
       "      <th>0</th>\n",
       "      <td>170010001001000</td>\n",
       "      <td>2.0</td>\n",
       "      <td>0.064</td>\n",
       "      <td>2.0</td>\n",
       "      <td>3.0</td>\n",
       "      <td>1000.0</td>\n",
       "      <td>1000.0</td>\n",
       "    </tr>\n",
       "    <tr>\n",
       "      <th>1</th>\n",
       "      <td>170010001001001</td>\n",
       "      <td>2.0</td>\n",
       "      <td>0.064</td>\n",
       "      <td>2.0</td>\n",
       "      <td>3.0</td>\n",
       "      <td>1000.0</td>\n",
       "      <td>3.0</td>\n",
       "    </tr>\n",
       "    <tr>\n",
       "      <th>2</th>\n",
       "      <td>170010001001002</td>\n",
       "      <td>2.0</td>\n",
       "      <td>0.064</td>\n",
       "      <td>2.0</td>\n",
       "      <td>3.0</td>\n",
       "      <td>2.0</td>\n",
       "      <td>3.0</td>\n",
       "    </tr>\n",
       "    <tr>\n",
       "      <th>3</th>\n",
       "      <td>170010001001003</td>\n",
       "      <td>2.0</td>\n",
       "      <td>0.064</td>\n",
       "      <td>2.0</td>\n",
       "      <td>3.0</td>\n",
       "      <td>1000.0</td>\n",
       "      <td>3.0</td>\n",
       "    </tr>\n",
       "    <tr>\n",
       "      <th>4</th>\n",
       "      <td>170010001001004</td>\n",
       "      <td>2.0</td>\n",
       "      <td>0.064</td>\n",
       "      <td>2.0</td>\n",
       "      <td>3.0</td>\n",
       "      <td>2.0</td>\n",
       "      <td>3.0</td>\n",
       "    </tr>\n",
       "    <tr>\n",
       "      <th>5</th>\n",
       "      <td>170010001001005</td>\n",
       "      <td>2.0</td>\n",
       "      <td>0.064</td>\n",
       "      <td>2.0</td>\n",
       "      <td>3.0</td>\n",
       "      <td>2.0</td>\n",
       "      <td>3.0</td>\n",
       "    </tr>\n",
       "    <tr>\n",
       "      <th>6</th>\n",
       "      <td>170010001001006</td>\n",
       "      <td>2.0</td>\n",
       "      <td>0.064</td>\n",
       "      <td>2.0</td>\n",
       "      <td>3.0</td>\n",
       "      <td>2.0</td>\n",
       "      <td>3.0</td>\n",
       "    </tr>\n",
       "    <tr>\n",
       "      <th>7</th>\n",
       "      <td>170010001001007</td>\n",
       "      <td>2.0</td>\n",
       "      <td>0.064</td>\n",
       "      <td>2.0</td>\n",
       "      <td>3.0</td>\n",
       "      <td>1000.0</td>\n",
       "      <td>3.0</td>\n",
       "    </tr>\n",
       "    <tr>\n",
       "      <th>8</th>\n",
       "      <td>170010001001008</td>\n",
       "      <td>2.0</td>\n",
       "      <td>0.064</td>\n",
       "      <td>2.0</td>\n",
       "      <td>3.0</td>\n",
       "      <td>2.0</td>\n",
       "      <td>3.0</td>\n",
       "    </tr>\n",
       "    <tr>\n",
       "      <th>9</th>\n",
       "      <td>170010001001009</td>\n",
       "      <td>2.0</td>\n",
       "      <td>0.064</td>\n",
       "      <td>2.0</td>\n",
       "      <td>3.0</td>\n",
       "      <td>1000.0</td>\n",
       "      <td>3.0</td>\n",
       "    </tr>\n",
       "  </tbody>\n",
       "</table>\n",
       "</div>"
      ],
      "text/plain": [
       "             geoid  min_d  min_u  minf_d  minf_u  maxf_d  maxf_u\n",
       "0  170010001001000    2.0  0.064     2.0     3.0  1000.0  1000.0\n",
       "1  170010001001001    2.0  0.064     2.0     3.0  1000.0     3.0\n",
       "2  170010001001002    2.0  0.064     2.0     3.0     2.0     3.0\n",
       "3  170010001001003    2.0  0.064     2.0     3.0  1000.0     3.0\n",
       "4  170010001001004    2.0  0.064     2.0     3.0     2.0     3.0\n",
       "5  170010001001005    2.0  0.064     2.0     3.0     2.0     3.0\n",
       "6  170010001001006    2.0  0.064     2.0     3.0     2.0     3.0\n",
       "7  170010001001007    2.0  0.064     2.0     3.0  1000.0     3.0\n",
       "8  170010001001008    2.0  0.064     2.0     3.0     2.0     3.0\n",
       "9  170010001001009    2.0  0.064     2.0     3.0  1000.0     3.0"
      ]
     },
     "execution_count": 58,
     "metadata": {},
     "output_type": "execute_result"
    }
   ],
   "source": [
    "df=pd.read_csv(\"Broadband_Speed_Merged_All.csv\")\n",
    "df[\"geoid\"]=df[\"geoid\"].astype('int64')\n",
    "df.head(10)"
   ]
  },
  {
   "cell_type": "code",
   "execution_count": 59,
   "metadata": {},
   "outputs": [
    {
     "data": {
      "text/plain": [
       "((971721, 7),\n",
       " geoid       int64\n",
       " min_d     float64\n",
       " min_u     float64\n",
       " minf_d    float64\n",
       " minf_u    float64\n",
       " maxf_d    float64\n",
       " maxf_u    float64\n",
       " dtype: object)"
      ]
     },
     "execution_count": 59,
     "metadata": {},
     "output_type": "execute_result"
    }
   ],
   "source": [
    "df.shape,df.dtypes"
   ]
  },
  {
   "cell_type": "code",
   "execution_count": 60,
   "metadata": {},
   "outputs": [
    {
     "data": {
      "text/html": [
       "<div>\n",
       "<style scoped>\n",
       "    .dataframe tbody tr th:only-of-type {\n",
       "        vertical-align: middle;\n",
       "    }\n",
       "\n",
       "    .dataframe tbody tr th {\n",
       "        vertical-align: top;\n",
       "    }\n",
       "\n",
       "    .dataframe thead th {\n",
       "        text-align: right;\n",
       "    }\n",
       "</style>\n",
       "<table border=\"1\" class=\"dataframe\">\n",
       "  <thead>\n",
       "    <tr style=\"text-align: right;\">\n",
       "      <th></th>\n",
       "      <th>id</th>\n",
       "      <th>geoid</th>\n",
       "    </tr>\n",
       "  </thead>\n",
       "  <tbody>\n",
       "    <tr>\n",
       "      <th>0</th>\n",
       "      <td>1</td>\n",
       "      <td>170310101001000</td>\n",
       "    </tr>\n",
       "    <tr>\n",
       "      <th>1</th>\n",
       "      <td>2</td>\n",
       "      <td>170310101001001</td>\n",
       "    </tr>\n",
       "    <tr>\n",
       "      <th>2</th>\n",
       "      <td>3</td>\n",
       "      <td>170310101001002</td>\n",
       "    </tr>\n",
       "    <tr>\n",
       "      <th>3</th>\n",
       "      <td>4</td>\n",
       "      <td>170310101001003</td>\n",
       "    </tr>\n",
       "    <tr>\n",
       "      <th>4</th>\n",
       "      <td>5</td>\n",
       "      <td>170310101002000</td>\n",
       "    </tr>\n",
       "  </tbody>\n",
       "</table>\n",
       "</div>"
      ],
      "text/plain": [
       "   id            geoid\n",
       "0   1  170310101001000\n",
       "1   2  170310101001001\n",
       "2   3  170310101001002\n",
       "3   4  170310101001003\n",
       "4   5  170310101002000"
      ]
     },
     "execution_count": 60,
     "metadata": {},
     "output_type": "execute_result"
    }
   ],
   "source": [
    "index_df=pd.read_csv(\"data/17031-Block-Car-OD-index_166987_V2.csv\")\n",
    "index_df[\"geoid\"]=index_df[\"geoid\"].astype('int64')\n",
    "index_df.head()"
   ]
  },
  {
   "cell_type": "code",
   "execution_count": 61,
   "metadata": {},
   "outputs": [
    {
     "data": {
      "text/plain": [
       "((166986, 2),\n",
       " id       int64\n",
       " geoid    int64\n",
       " dtype: object)"
      ]
     },
     "execution_count": 61,
     "metadata": {},
     "output_type": "execute_result"
    }
   ],
   "source": [
    "index_df.shape,index_df.dtypes"
   ]
  },
  {
   "cell_type": "code",
   "execution_count": 62,
   "metadata": {},
   "outputs": [
    {
     "data": {
      "text/html": [
       "<div>\n",
       "<style scoped>\n",
       "    .dataframe tbody tr th:only-of-type {\n",
       "        vertical-align: middle;\n",
       "    }\n",
       "\n",
       "    .dataframe tbody tr th {\n",
       "        vertical-align: top;\n",
       "    }\n",
       "\n",
       "    .dataframe thead th {\n",
       "        text-align: right;\n",
       "    }\n",
       "</style>\n",
       "<table border=\"1\" class=\"dataframe\">\n",
       "  <thead>\n",
       "    <tr style=\"text-align: right;\">\n",
       "      <th></th>\n",
       "      <th>geoid</th>\n",
       "      <th>min_d</th>\n",
       "      <th>min_u</th>\n",
       "      <th>minf_d</th>\n",
       "      <th>minf_u</th>\n",
       "      <th>maxf_d</th>\n",
       "      <th>maxf_u</th>\n",
       "      <th>id</th>\n",
       "    </tr>\n",
       "  </thead>\n",
       "  <tbody>\n",
       "    <tr>\n",
       "      <th>0</th>\n",
       "      <td>170310101001000</td>\n",
       "      <td>2.0</td>\n",
       "      <td>0.384</td>\n",
       "      <td>1000.0</td>\n",
       "      <td>20.0</td>\n",
       "      <td>1000.0</td>\n",
       "      <td>20.0</td>\n",
       "      <td>1</td>\n",
       "    </tr>\n",
       "    <tr>\n",
       "      <th>1</th>\n",
       "      <td>170310101001001</td>\n",
       "      <td>2.0</td>\n",
       "      <td>1.300</td>\n",
       "      <td>1000.0</td>\n",
       "      <td>20.0</td>\n",
       "      <td>1000.0</td>\n",
       "      <td>20.0</td>\n",
       "      <td>2</td>\n",
       "    </tr>\n",
       "    <tr>\n",
       "      <th>2</th>\n",
       "      <td>170310101001002</td>\n",
       "      <td>2.0</td>\n",
       "      <td>1.300</td>\n",
       "      <td>1000.0</td>\n",
       "      <td>20.0</td>\n",
       "      <td>1000.0</td>\n",
       "      <td>20.0</td>\n",
       "      <td>3</td>\n",
       "    </tr>\n",
       "    <tr>\n",
       "      <th>3</th>\n",
       "      <td>170310101001003</td>\n",
       "      <td>2.0</td>\n",
       "      <td>0.512</td>\n",
       "      <td>1000.0</td>\n",
       "      <td>20.0</td>\n",
       "      <td>1000.0</td>\n",
       "      <td>20.0</td>\n",
       "      <td>4</td>\n",
       "    </tr>\n",
       "    <tr>\n",
       "      <th>4</th>\n",
       "      <td>170310101002000</td>\n",
       "      <td>2.0</td>\n",
       "      <td>0.384</td>\n",
       "      <td>1000.0</td>\n",
       "      <td>20.0</td>\n",
       "      <td>1000.0</td>\n",
       "      <td>20.0</td>\n",
       "      <td>5</td>\n",
       "    </tr>\n",
       "  </tbody>\n",
       "</table>\n",
       "</div>"
      ],
      "text/plain": [
       "             geoid  min_d  min_u  minf_d  minf_u  maxf_d  maxf_u  id\n",
       "0  170310101001000    2.0  0.384  1000.0    20.0  1000.0    20.0   1\n",
       "1  170310101001001    2.0  1.300  1000.0    20.0  1000.0    20.0   2\n",
       "2  170310101001002    2.0  1.300  1000.0    20.0  1000.0    20.0   3\n",
       "3  170310101001003    2.0  0.512  1000.0    20.0  1000.0    20.0   4\n",
       "4  170310101002000    2.0  0.384  1000.0    20.0  1000.0    20.0   5"
      ]
     },
     "execution_count": 62,
     "metadata": {},
     "output_type": "execute_result"
    }
   ],
   "source": [
    "df=df.merge(index_df, on='geoid')\n",
    "df.head()"
   ]
  },
  {
   "cell_type": "code",
   "execution_count": 63,
   "metadata": {},
   "outputs": [
    {
     "data": {
      "text/html": [
       "<div>\n",
       "<style scoped>\n",
       "    .dataframe tbody tr th:only-of-type {\n",
       "        vertical-align: middle;\n",
       "    }\n",
       "\n",
       "    .dataframe tbody tr th {\n",
       "        vertical-align: top;\n",
       "    }\n",
       "\n",
       "    .dataframe thead th {\n",
       "        text-align: right;\n",
       "    }\n",
       "</style>\n",
       "<table border=\"1\" class=\"dataframe\">\n",
       "  <thead>\n",
       "    <tr style=\"text-align: right;\">\n",
       "      <th></th>\n",
       "      <th>geoid</th>\n",
       "      <th>id</th>\n",
       "      <th>min_a</th>\n",
       "      <th>min_f</th>\n",
       "      <th>max_f</th>\n",
       "    </tr>\n",
       "  </thead>\n",
       "  <tbody>\n",
       "    <tr>\n",
       "      <th>0</th>\n",
       "      <td>170310101001000</td>\n",
       "      <td>1</td>\n",
       "      <td>0.384</td>\n",
       "      <td>20.0</td>\n",
       "      <td>20.0</td>\n",
       "    </tr>\n",
       "    <tr>\n",
       "      <th>1</th>\n",
       "      <td>170310101001001</td>\n",
       "      <td>2</td>\n",
       "      <td>1.300</td>\n",
       "      <td>20.0</td>\n",
       "      <td>20.0</td>\n",
       "    </tr>\n",
       "    <tr>\n",
       "      <th>2</th>\n",
       "      <td>170310101001002</td>\n",
       "      <td>3</td>\n",
       "      <td>1.300</td>\n",
       "      <td>20.0</td>\n",
       "      <td>20.0</td>\n",
       "    </tr>\n",
       "    <tr>\n",
       "      <th>3</th>\n",
       "      <td>170310101001003</td>\n",
       "      <td>4</td>\n",
       "      <td>0.512</td>\n",
       "      <td>20.0</td>\n",
       "      <td>20.0</td>\n",
       "    </tr>\n",
       "    <tr>\n",
       "      <th>4</th>\n",
       "      <td>170310101002000</td>\n",
       "      <td>5</td>\n",
       "      <td>0.384</td>\n",
       "      <td>20.0</td>\n",
       "      <td>20.0</td>\n",
       "    </tr>\n",
       "  </tbody>\n",
       "</table>\n",
       "</div>"
      ],
      "text/plain": [
       "             geoid  id  min_a  min_f  max_f\n",
       "0  170310101001000   1  0.384   20.0   20.0\n",
       "1  170310101001001   2  1.300   20.0   20.0\n",
       "2  170310101001002   3  1.300   20.0   20.0\n",
       "3  170310101001003   4  0.512   20.0   20.0\n",
       "4  170310101002000   5  0.384   20.0   20.0"
      ]
     },
     "execution_count": 63,
     "metadata": {},
     "output_type": "execute_result"
    }
   ],
   "source": [
    "df['min_a'] = df[['min_d','min_u']].min(axis=1)\n",
    "df['min_f'] = df[['minf_d','minf_u']].min(axis=1)\n",
    "df['max_f'] = df[['maxf_d','maxf_u']].min(axis=1)\n",
    "df.drop(['min_d','min_u','minf_d','minf_u','maxf_d','maxf_u'],axis=1,inplace=True)\n",
    "df.head()"
   ]
  },
  {
   "cell_type": "code",
   "execution_count": 64,
   "metadata": {},
   "outputs": [
    {
     "data": {
      "text/plain": [
       "(166986, 5)"
      ]
     },
     "execution_count": 64,
     "metadata": {},
     "output_type": "execute_result"
    }
   ],
   "source": [
    "df.shape"
   ]
  },
  {
   "cell_type": "code",
   "execution_count": 65,
   "metadata": {},
   "outputs": [],
   "source": [
    "df.to_csv(\"Results/Broadband_Speed_Merged_Min_Cookcounty_15mi.csv\",index=False)"
   ]
  },
  {
   "cell_type": "markdown",
   "metadata": {},
   "source": []
  },
  {
   "cell_type": "code",
   "execution_count": null,
   "metadata": {},
   "outputs": [],
   "source": []
  },
  {
   "cell_type": "code",
   "execution_count": null,
   "metadata": {},
   "outputs": [],
   "source": []
  },
  {
   "cell_type": "code",
   "execution_count": null,
   "metadata": {},
   "outputs": [],
   "source": []
  },
  {
   "cell_type": "code",
   "execution_count": null,
   "metadata": {},
   "outputs": [],
   "source": []
  },
  {
   "cell_type": "code",
   "execution_count": 66,
   "metadata": {},
   "outputs": [],
   "source": [
    "for id, df_i in  enumerate(np.array_split(df, 100)):\n",
    "    df_i.to_csv('Results/Broadband_Speed_Merged_Min_Cookcounty_15mi_split/Broadband_Speed_Merged_Min_Cookcounty_15mi_{id}.csv'.format(id=id),index=False)"
   ]
  },
  {
   "cell_type": "code",
   "execution_count": 67,
   "metadata": {},
   "outputs": [],
   "source": [
    "# zoom 1:1 video bandwidth requirement\n",
    "#zoom_up=[0,0.6,1.2,3.8,9999.0]\n",
    "zoom_down=[0,0.6,1.2,3.0,9999.0]\n",
    "zoom_weight=[0,0.33,0.66,1]"
   ]
  },
  {
   "cell_type": "code",
   "execution_count": null,
   "metadata": {},
   "outputs": [],
   "source": [
    "#assume that zoom download and updload are the same requirements\n",
    "df[\"min_d_w\"] = pd.cut(df[\"min_d\"], right=False,bins=zoom_down, labels=zoom_weight)\n",
    "df[\"minf_d_w\"] = pd.cut(df[\"minf_d\"],right=False, bins=zoom_down, labels=zoom_weight)\n",
    "df[\"maxf_d_w\"] = pd.cut(df[\"maxf_d\"], right=False,bins=zoom_down, labels=zoom_weight)\n",
    "\n",
    "df[\"min_u_w\"] = pd.cut(df[\"min_u\"], right=False,bins=zoom_down, labels=zoom_weight)\n",
    "df[\"minf_u_w\"] = pd.cut(df[\"minf_u\"], right=False,bins=zoom_down, labels=zoom_weight)\n",
    "df[\"maxf_u_w\"] = pd.cut(df[\"maxf_u\"], right=False,bins=zoom_down, labels=zoom_weight)\n",
    "df.head()"
   ]
  },
  {
   "cell_type": "markdown",
   "metadata": {},
   "source": [
    "## Crossjoin"
   ]
  },
  {
   "cell_type": "code",
   "execution_count": 46,
   "metadata": {},
   "outputs": [],
   "source": [
    "import glob\n",
    "csv_list=glob.glob(\"Results/Broadband_Speed_Merged_Min_Cookcounty_15mi_split/Broadband_Speed_Merged_Min_Cookcounty_15mi_*.csv\")"
   ]
  },
  {
   "cell_type": "code",
   "execution_count": 47,
   "metadata": {},
   "outputs": [
    {
     "data": {
      "text/html": [
       "<i>naive plan: (run <b>LazyFrame.describe_optimized_plan()</b> to see the optimized plan)</i>\n",
       "    <p></p>\n",
       "    <div>DATAFRAME(in-memory): [\"geoid\", \"min_a\", \"min_f\", \"max_f\"];<p></p>\tproject */4 columns\t|\tdetails: None;<p></p>\tselection: \"None\"<p></p><p></p><p></p>SLICE[offset: 0, len: 5]</div>"
      ],
      "text/plain": [
       "<polars.internals.lazy_frame.LazyFrame at 0x7fd2c82e5f70>"
      ]
     },
     "execution_count": 47,
     "metadata": {},
     "output_type": "execute_result"
    }
   ],
   "source": [
    "df=pl.read_csv(\"IL_Broadband_Speed_Merged_Min.csv\").lazy()\n",
    "df.head(5)"
   ]
  },
  {
   "cell_type": "code",
   "execution_count": 59,
   "metadata": {},
   "outputs": [
    {
     "name": "stdout",
     "output_type": "stream",
     "text": [
      "joined_data/data/IL_Broadband_Speed_Merged_Min_73.csv\n",
      "joined_data/data/IL_Broadband_Speed_Merged_Min_67.csv\n",
      "joined_data/data/IL_Broadband_Speed_Merged_Min_98.csv\n",
      "joined_data/data/IL_Broadband_Speed_Merged_Min_99.csv\n",
      "joined_data/data/IL_Broadband_Speed_Merged_Min_66.csv\n",
      "joined_data/data/IL_Broadband_Speed_Merged_Min_72.csv\n",
      "joined_data/data/IL_Broadband_Speed_Merged_Min_64.csv\n",
      "joined_data/data/IL_Broadband_Speed_Merged_Min_70.csv\n",
      "joined_data/data/IL_Broadband_Speed_Merged_Min_58.csv\n",
      "joined_data/data/IL_Broadband_Speed_Merged_Min_59.csv\n",
      "joined_data/data/IL_Broadband_Speed_Merged_Min_71.csv\n",
      "joined_data/data/IL_Broadband_Speed_Merged_Min_65.csv\n",
      "joined_data/data/IL_Broadband_Speed_Merged_Min_8.csv\n",
      "joined_data/data/IL_Broadband_Speed_Merged_Min_49.csv\n",
      "joined_data/data/IL_Broadband_Speed_Merged_Min_61.csv\n",
      "joined_data/data/IL_Broadband_Speed_Merged_Min_75.csv\n",
      "joined_data/data/IL_Broadband_Speed_Merged_Min_74.csv\n",
      "joined_data/data/IL_Broadband_Speed_Merged_Min_60.csv\n",
      "joined_data/data/IL_Broadband_Speed_Merged_Min_48.csv\n",
      "joined_data/data/IL_Broadband_Speed_Merged_Min_9.csv\n",
      "joined_data/data/IL_Broadband_Speed_Merged_Min_76.csv\n",
      "joined_data/data/IL_Broadband_Speed_Merged_Min_62.csv\n",
      "joined_data/data/IL_Broadband_Speed_Merged_Min_89.csv\n",
      "joined_data/data/IL_Broadband_Speed_Merged_Min_88.csv\n",
      "joined_data/data/IL_Broadband_Speed_Merged_Min_63.csv\n",
      "joined_data/data/IL_Broadband_Speed_Merged_Min_77.csv\n",
      "joined_data/data/IL_Broadband_Speed_Merged_Min_10.csv\n",
      "joined_data/data/IL_Broadband_Speed_Merged_Min_38.csv\n",
      "joined_data/data/IL_Broadband_Speed_Merged_Min_39.csv\n",
      "joined_data/data/IL_Broadband_Speed_Merged_Min_11.csv\n",
      "joined_data/data/IL_Broadband_Speed_Merged_Min_13.csv\n",
      "joined_data/data/IL_Broadband_Speed_Merged_Min_12.csv\n",
      "joined_data/data/IL_Broadband_Speed_Merged_Min_16.csv\n",
      "joined_data/data/IL_Broadband_Speed_Merged_Min_17.csv\n",
      "joined_data/data/IL_Broadband_Speed_Merged_Min_29.csv\n",
      "joined_data/data/IL_Broadband_Speed_Merged_Min_15.csv\n",
      "joined_data/data/IL_Broadband_Speed_Merged_Min_14.csv\n",
      "joined_data/data/IL_Broadband_Speed_Merged_Min_28.csv\n",
      "joined_data/data/IL_Broadband_Speed_Merged_Min_31.csv\n",
      "joined_data/data/IL_Broadband_Speed_Merged_Min_25.csv\n",
      "joined_data/data/IL_Broadband_Speed_Merged_Min_19.csv\n",
      "joined_data/data/IL_Broadband_Speed_Merged_Min_18.csv\n",
      "joined_data/data/IL_Broadband_Speed_Merged_Min_24.csv\n",
      "joined_data/data/IL_Broadband_Speed_Merged_Min_30.csv\n",
      "joined_data/data/IL_Broadband_Speed_Merged_Min_26.csv\n",
      "joined_data/data/IL_Broadband_Speed_Merged_Min_32.csv\n",
      "joined_data/data/IL_Broadband_Speed_Merged_Min_33.csv\n",
      "joined_data/data/IL_Broadband_Speed_Merged_Min_27.csv\n",
      "joined_data/data/IL_Broadband_Speed_Merged_Min_23.csv\n",
      "joined_data/data/IL_Broadband_Speed_Merged_Min_37.csv\n",
      "joined_data/data/IL_Broadband_Speed_Merged_Min_36.csv\n",
      "joined_data/data/IL_Broadband_Speed_Merged_Min_22.csv\n",
      "joined_data/data/IL_Broadband_Speed_Merged_Min_34.csv\n",
      "joined_data/data/IL_Broadband_Speed_Merged_Min_20.csv\n",
      "joined_data/data/IL_Broadband_Speed_Merged_Min_21.csv\n",
      "joined_data/data/IL_Broadband_Speed_Merged_Min_35.csv\n",
      "joined_data/data/IL_Broadband_Speed_Merged_Min_7.csv\n",
      "joined_data/data/IL_Broadband_Speed_Merged_Min_52.csv\n",
      "joined_data/data/IL_Broadband_Speed_Merged_Min_46.csv\n",
      "joined_data/data/IL_Broadband_Speed_Merged_Min_91.csv\n",
      "joined_data/data/IL_Broadband_Speed_Merged_Min_85.csv\n",
      "joined_data/data/IL_Broadband_Speed_Merged_Min_84.csv\n",
      "joined_data/data/IL_Broadband_Speed_Merged_Min_90.csv\n",
      "joined_data/data/IL_Broadband_Speed_Merged_Min_47.csv\n",
      "joined_data/data/IL_Broadband_Speed_Merged_Min_53.csv\n",
      "joined_data/data/IL_Broadband_Speed_Merged_Min_6.csv\n",
      "joined_data/data/IL_Broadband_Speed_Merged_Min_4.csv\n",
      "joined_data/data/IL_Broadband_Speed_Merged_Min_45.csv\n",
      "joined_data/data/IL_Broadband_Speed_Merged_Min_51.csv\n",
      "joined_data/data/IL_Broadband_Speed_Merged_Min_79.csv\n",
      "joined_data/data/IL_Broadband_Speed_Merged_Min_86.csv\n",
      "joined_data/data/IL_Broadband_Speed_Merged_Min_92.csv\n",
      "joined_data/data/IL_Broadband_Speed_Merged_Min_93.csv\n",
      "joined_data/data/IL_Broadband_Speed_Merged_Min_87.csv\n",
      "joined_data/data/IL_Broadband_Speed_Merged_Min_78.csv\n",
      "joined_data/data/IL_Broadband_Speed_Merged_Min_50.csv\n",
      "joined_data/data/IL_Broadband_Speed_Merged_Min_44.csv\n",
      "joined_data/data/IL_Broadband_Speed_Merged_Min_5.csv\n",
      "joined_data/data/IL_Broadband_Speed_Merged_Min_1.csv\n",
      "joined_data/data/IL_Broadband_Speed_Merged_Min_68.csv\n",
      "joined_data/data/IL_Broadband_Speed_Merged_Min_40.csv\n",
      "joined_data/data/IL_Broadband_Speed_Merged_Min_54.csv\n",
      "joined_data/data/IL_Broadband_Speed_Merged_Min_83.csv\n",
      "joined_data/data/IL_Broadband_Speed_Merged_Min_97.csv\n",
      "joined_data/data/IL_Broadband_Speed_Merged_Min_96.csv\n",
      "joined_data/data/IL_Broadband_Speed_Merged_Min_82.csv\n",
      "joined_data/data/IL_Broadband_Speed_Merged_Min_55.csv\n",
      "joined_data/data/IL_Broadband_Speed_Merged_Min_41.csv\n",
      "joined_data/data/IL_Broadband_Speed_Merged_Min_69.csv\n",
      "joined_data/data/IL_Broadband_Speed_Merged_Min_0.csv\n",
      "joined_data/data/IL_Broadband_Speed_Merged_Min_2.csv\n",
      "joined_data/data/IL_Broadband_Speed_Merged_Min_57.csv\n",
      "joined_data/data/IL_Broadband_Speed_Merged_Min_43.csv\n",
      "joined_data/data/IL_Broadband_Speed_Merged_Min_94.csv\n",
      "joined_data/data/IL_Broadband_Speed_Merged_Min_80.csv\n",
      "joined_data/data/IL_Broadband_Speed_Merged_Min_81.csv\n",
      "joined_data/data/IL_Broadband_Speed_Merged_Min_95.csv\n",
      "joined_data/data/IL_Broadband_Speed_Merged_Min_42.csv\n",
      "joined_data/data/IL_Broadband_Speed_Merged_Min_56.csv\n",
      "joined_data/data/IL_Broadband_Speed_Merged_Min_3.csv\n"
     ]
    }
   ],
   "source": [
    "for csv_i in csv_list:\n",
    "    df_i=pl.read_csv(csv_i).lazy()\n",
    "    temp_df=df_i.join(df,on=\"geoid\",how=\"cross\")\n",
    "    out_df=temp_df.select(\n",
    "        [\n",
    "            pl.col(\"geoid\").alias(\"orig\"),\n",
    "            pl.col(\"geoid_right\").alias(\"dest\"),\n",
    "            pl.min([\"min_a\",\"min_a_right\"]).alias(\"min_a\"),\n",
    "            pl.min([\"min_f\",\"min_f_right\"]).alias(\"min_f\"),\n",
    "            pl.min([\"max_f\",\"max_f_right\"]).alias(\"max_f\"),\n",
    "        ]\n",
    "    ).collect().to_pandas()\n",
    "    #print(out_df.head(5))\n",
    "\n",
    "    out_df[\"min_a_w\"] = pd.cut(out_df[\"min_a\"], right=False,bins=zoom_down, labels=zoom_weight)\n",
    "    out_df[\"min_f_w\"] = pd.cut(out_df[\"min_f\"], right=False,bins=zoom_down, labels=zoom_weight)\n",
    "    out_df[\"max_f_w\"] = pd.cut(out_df[\"max_f\"], right=False,bins=zoom_down, labels=zoom_weight)\n",
    "    out_df.drop([\"min_a\",\"min_f\",\"max_f\"],axis=1,inplace=True)\n",
    "    out_df.to_csv(\"/Volumes/Mac Data/joined_data/\"+csv_i,index=False)\n",
    "    print(\"joined_data/\"+csv_i)\n",
    "    #print(out_df.head(5))\n",
    "    #break;"
   ]
  },
  {
   "cell_type": "code",
   "execution_count": null,
   "metadata": {},
   "outputs": [],
   "source": []
  },
  {
   "cell_type": "code",
   "execution_count": null,
   "metadata": {},
   "outputs": [],
   "source": []
  },
  {
   "cell_type": "code",
   "execution_count": null,
   "metadata": {},
   "outputs": [],
   "source": []
  },
  {
   "cell_type": "code",
   "execution_count": null,
   "metadata": {},
   "outputs": [],
   "source": []
  },
  {
   "cell_type": "markdown",
   "metadata": {},
   "source": [
    "## Computed using polars"
   ]
  },
  {
   "cell_type": "code",
   "execution_count": 70,
   "metadata": {},
   "outputs": [
    {
     "data": {
      "text/html": [
       "<i>naive plan: (run <b>LazyFrame.describe_optimized_plan()</b> to see the optimized plan)</i>\n",
       "    <p></p>\n",
       "    <div>DATAFRAME(in-memory): [\"geoid\", \"id\", \"min_a\", \"min_f\"];<p></p>\tproject */5 columns\t|\tdetails: None;<p></p>\tselection: \"None\"<p></p><p></p><p></p>SLICE[offset: 0, len: 5]</div>"
      ],
      "text/plain": [
       "<polars.internals.lazy_frame.LazyFrame at 0x1d2e8e500>"
      ]
     },
     "execution_count": 70,
     "metadata": {},
     "output_type": "execute_result"
    }
   ],
   "source": [
    "import glob\n",
    "csv_list=glob.glob(\"Results/Broadband_Speed_Merged_Min_Cookcounty_15mi_split/Broadband_Speed_Merged_Min_Cookcounty_15mi_*.csv\")\n",
    "df=pl.read_csv(\"Results/Broadband_Speed_Merged_Min_Cookcounty_15mi.csv\").lazy()\n",
    "df.head(5)"
   ]
  },
  {
   "cell_type": "code",
   "execution_count": 73,
   "metadata": {},
   "outputs": [
    {
     "name": "stdout",
     "output_type": "stream",
     "text": [
      "/Volumes/easystore/3.Broadband_Speed_E2SVCA_15MI_BLOCKS/0.csv\n"
     ]
    }
   ],
   "source": [
    "i=0\n",
    "for csv_i in csv_list:\n",
    "    df_i=pl.read_csv(csv_i).lazy()\n",
    "    temp_df=df_i.join(df,on=\"geoid\",how=\"cross\")\n",
    "    out_df=temp_df.select(\n",
    "        [\n",
    "            pl.col(\"geoid\").alias(\"orig\"),\n",
    "            pl.col(\"geoid_right\").alias(\"dest\"),\n",
    "            pl.min([\"min_a\",\"min_a_right\"]).alias(\"min_a_w\"),\n",
    "            pl.min([\"min_f\",\"min_f_right\"]).alias(\"min_f_w\"),\n",
    "            pl.min([\"max_f\",\"max_f_right\"]).alias(\"max_f_w\"),\n",
    "        ]\n",
    "    ).collect()\n",
    "    #print(out_df.head(5))\n",
    "    \n",
    "    out_df2=out_df.with_column(\n",
    "        pl.when(pl.col([\"min_a_w\",\"min_f_w\",\"max_f_w\"]) <= 0.6)\n",
    "        .then(0.0)\n",
    "        .when(pl.col([\"min_a_w\",\"min_f_w\",\"max_f_w\"]) <= 1.2)\n",
    "        .then(0.33)\n",
    "        .when(pl.col([\"min_a_w\",\"min_f_w\",\"max_f_w\"]) <= 3.0)\n",
    "        .then(0.66)\n",
    "        .otherwise(1)\n",
    "    )\n",
    "\n",
    "    out_df2=out_df2.drop([\"min_a_w\",\"min_f_w\",\"max_f_w\"])\n",
    "    out_df2.columns=[\"orig\",\"dest\",\"min_a_w\",\"min_f_w\",\"max_f_w\"]\n",
    "    out_df2.write_csv(\"/Volumes/easystore/3.Broadband_Speed_E2SVCA_15MI_BLOCKS/\"+str(i)+\".csv\")\n",
    "    print(\"/Volumes/easystore/3.Broadband_Speed_E2SVCA_15MI_BLOCKS/\"+str(i)+\".csv\")\n",
    "    i++;\n",
    "    #print(out_df2.head(5))\n",
    "    #break;"
   ]
  },
  {
   "cell_type": "markdown",
   "metadata": {},
   "source": [
    "## Merged data results"
   ]
  },
  {
   "cell_type": "code",
   "execution_count": 4,
   "metadata": {},
   "outputs": [
    {
     "ename": "Error",
     "evalue": "Canceled future for execute_request message before replies were done",
     "output_type": "error",
     "traceback": [
      "Error: Canceled future for execute_request message before replies were done",
      "at t.KernelShellFutureHandler.dispose (/Users/yaxiongshao/.vscode/extensions/ms-toolsai.jupyter-2022.3.1000901801/out/extension.js:2:1204175)",
      "at /Users/yaxiongshao/.vscode/extensions/ms-toolsai.jupyter-2022.3.1000901801/out/extension.js:2:1223227",
      "at Map.forEach (<anonymous>)",
      "at v._clearKernelState (/Users/yaxiongshao/.vscode/extensions/ms-toolsai.jupyter-2022.3.1000901801/out/extension.js:2:1223212)",
      "at v.dispose (/Users/yaxiongshao/.vscode/extensions/ms-toolsai.jupyter-2022.3.1000901801/out/extension.js:2:1216694)",
      "at /Users/yaxiongshao/.vscode/extensions/ms-toolsai.jupyter-2022.3.1000901801/out/extension.js:2:533674",
      "at t.swallowExceptions (/Users/yaxiongshao/.vscode/extensions/ms-toolsai.jupyter-2022.3.1000901801/out/extension.js:2:913059)",
      "at dispose (/Users/yaxiongshao/.vscode/extensions/ms-toolsai.jupyter-2022.3.1000901801/out/extension.js:2:533652)",
      "at t.RawSession.dispose (/Users/yaxiongshao/.vscode/extensions/ms-toolsai.jupyter-2022.3.1000901801/out/extension.js:2:537330)",
      "at processTicksAndRejections (node:internal/process/task_queues:96:5)"
     ]
    }
   ],
   "source": [
    "df = pl.scan_csv(\"/Volumes/Mac Data/joined_data/data/IL_Broadband_Speed_Merged_Min_*.csv\").collect()\n",
    "df.write_csv(\"/Volumes/Mac Data/joined_data/IL_Broadband_Speed_Merged_Min_all.csv\")\n",
    "#print(df)"
   ]
  },
  {
   "cell_type": "code",
   "execution_count": null,
   "metadata": {},
   "outputs": [],
   "source": []
  }
 ],
 "metadata": {
  "kernelspec": {
   "display_name": "Python 3.10.4 ('base')",
   "language": "python",
   "name": "python3"
  },
  "language_info": {
   "codemirror_mode": {
    "name": "ipython",
    "version": 3
   },
   "file_extension": ".py",
   "mimetype": "text/x-python",
   "name": "python",
   "nbconvert_exporter": "python",
   "pygments_lexer": "ipython3",
   "version": "3.10.4"
  },
  "orig_nbformat": 4,
  "vscode": {
   "interpreter": {
    "hash": "93a3673a3758fdf33d6ba0423f037f6c2442f629d113b8691bc0e228a41716bd"
   }
  }
 },
 "nbformat": 4,
 "nbformat_minor": 2
}
