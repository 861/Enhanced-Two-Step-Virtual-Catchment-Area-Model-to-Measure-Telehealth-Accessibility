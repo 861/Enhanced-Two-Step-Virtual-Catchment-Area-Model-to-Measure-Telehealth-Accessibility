{
 "cells": [
  {
   "cell_type": "code",
   "execution_count": 1,
   "metadata": {},
   "outputs": [],
   "source": [
    "import pandas as pd"
   ]
  },
  {
   "cell_type": "code",
   "execution_count": 3,
   "metadata": {},
   "outputs": [
    {
     "data": {
      "text/html": [
       "<div>\n",
       "<style scoped>\n",
       "    .dataframe tbody tr th:only-of-type {\n",
       "        vertical-align: middle;\n",
       "    }\n",
       "\n",
       "    .dataframe tbody tr th {\n",
       "        vertical-align: top;\n",
       "    }\n",
       "\n",
       "    .dataframe thead th {\n",
       "        text-align: right;\n",
       "    }\n",
       "</style>\n",
       "<table border=\"1\" class=\"dataframe\">\n",
       "  <thead>\n",
       "    <tr style=\"text-align: right;\">\n",
       "      <th></th>\n",
       "      <th>orig</th>\n",
       "      <th>acc2700</th>\n",
       "      <th>acc2700_1000</th>\n",
       "    </tr>\n",
       "  </thead>\n",
       "  <tbody>\n",
       "    <tr>\n",
       "      <th>0</th>\n",
       "      <td>1</td>\n",
       "      <td>0.003950</td>\n",
       "      <td>3.949689</td>\n",
       "    </tr>\n",
       "    <tr>\n",
       "      <th>1</th>\n",
       "      <td>2</td>\n",
       "      <td>0.003945</td>\n",
       "      <td>3.945097</td>\n",
       "    </tr>\n",
       "    <tr>\n",
       "      <th>2</th>\n",
       "      <td>3</td>\n",
       "      <td>0.003880</td>\n",
       "      <td>3.880274</td>\n",
       "    </tr>\n",
       "    <tr>\n",
       "      <th>3</th>\n",
       "      <td>4</td>\n",
       "      <td>0.003925</td>\n",
       "      <td>3.925451</td>\n",
       "    </tr>\n",
       "    <tr>\n",
       "      <th>4</th>\n",
       "      <td>5</td>\n",
       "      <td>0.003867</td>\n",
       "      <td>3.866914</td>\n",
       "    </tr>\n",
       "  </tbody>\n",
       "</table>\n",
       "</div>"
      ],
      "text/plain": [
       "   orig   acc2700  acc2700_1000\n",
       "0     1  0.003950      3.949689\n",
       "1     2  0.003945      3.945097\n",
       "2     3  0.003880      3.880274\n",
       "3     4  0.003925      3.925451\n",
       "4     5  0.003867      3.866914"
      ]
     },
     "execution_count": 3,
     "metadata": {},
     "output_type": "execute_result"
    }
   ],
   "source": [
    "df_2700_1= pd.read_csv('access_2700_1_1000.csv')\n",
    "df_2700_1['acc2700_1000']=df_2700_1['acc2700']*1000\n",
    "df_2700_1.head()"
   ]
  },
  {
   "cell_type": "code",
   "execution_count": 6,
   "metadata": {},
   "outputs": [
    {
     "data": {
      "text/html": [
       "<div>\n",
       "<style scoped>\n",
       "    .dataframe tbody tr th:only-of-type {\n",
       "        vertical-align: middle;\n",
       "    }\n",
       "\n",
       "    .dataframe tbody tr th {\n",
       "        vertical-align: top;\n",
       "    }\n",
       "\n",
       "    .dataframe thead th {\n",
       "        text-align: right;\n",
       "    }\n",
       "</style>\n",
       "<table border=\"1\" class=\"dataframe\">\n",
       "  <thead>\n",
       "    <tr style=\"text-align: right;\">\n",
       "      <th></th>\n",
       "      <th>count</th>\n",
       "      <th>mean</th>\n",
       "      <th>std</th>\n",
       "      <th>min</th>\n",
       "      <th>25%</th>\n",
       "      <th>50%</th>\n",
       "      <th>75%</th>\n",
       "      <th>max</th>\n",
       "    </tr>\n",
       "  </thead>\n",
       "  <tbody>\n",
       "    <tr>\n",
       "      <th>acc2700</th>\n",
       "      <td>166980.0</td>\n",
       "      <td>0.003448</td>\n",
       "      <td>0.001225</td>\n",
       "      <td>0.000008</td>\n",
       "      <td>0.002291</td>\n",
       "      <td>0.003881</td>\n",
       "      <td>0.004425</td>\n",
       "      <td>0.005553</td>\n",
       "    </tr>\n",
       "    <tr>\n",
       "      <th>acc2700_1000</th>\n",
       "      <td>166980.0</td>\n",
       "      <td>3.448125</td>\n",
       "      <td>1.225339</td>\n",
       "      <td>0.008260</td>\n",
       "      <td>2.290611</td>\n",
       "      <td>3.880659</td>\n",
       "      <td>4.424888</td>\n",
       "      <td>5.552998</td>\n",
       "    </tr>\n",
       "  </tbody>\n",
       "</table>\n",
       "</div>"
      ],
      "text/plain": [
       "                 count      mean       std       min       25%       50%  \\\n",
       "acc2700       166980.0  0.003448  0.001225  0.000008  0.002291  0.003881   \n",
       "acc2700_1000  166980.0  3.448125  1.225339  0.008260  2.290611  3.880659   \n",
       "\n",
       "                   75%       max  \n",
       "acc2700       0.004425  0.005553  \n",
       "acc2700_1000  4.424888  5.552998  "
      ]
     },
     "execution_count": 6,
     "metadata": {},
     "output_type": "execute_result"
    }
   ],
   "source": [
    "df_2700_1.describe().drop(columns=['orig']).T"
   ]
  },
  {
   "cell_type": "code",
   "execution_count": null,
   "metadata": {},
   "outputs": [],
   "source": []
  },
  {
   "cell_type": "code",
   "execution_count": 7,
   "metadata": {},
   "outputs": [
    {
     "data": {
      "text/html": [
       "<div>\n",
       "<style scoped>\n",
       "    .dataframe tbody tr th:only-of-type {\n",
       "        vertical-align: middle;\n",
       "    }\n",
       "\n",
       "    .dataframe tbody tr th {\n",
       "        vertical-align: top;\n",
       "    }\n",
       "\n",
       "    .dataframe thead th {\n",
       "        text-align: right;\n",
       "    }\n",
       "</style>\n",
       "<table border=\"1\" class=\"dataframe\">\n",
       "  <thead>\n",
       "    <tr style=\"text-align: right;\">\n",
       "      <th></th>\n",
       "      <th>orig</th>\n",
       "      <th>acc2700</th>\n",
       "      <th>acc2700_1000</th>\n",
       "    </tr>\n",
       "  </thead>\n",
       "  <tbody>\n",
       "    <tr>\n",
       "      <th>0</th>\n",
       "      <td>1</td>\n",
       "      <td>0.004026</td>\n",
       "      <td>4.026122</td>\n",
       "    </tr>\n",
       "    <tr>\n",
       "      <th>1</th>\n",
       "      <td>2</td>\n",
       "      <td>0.004022</td>\n",
       "      <td>4.021514</td>\n",
       "    </tr>\n",
       "    <tr>\n",
       "      <th>2</th>\n",
       "      <td>3</td>\n",
       "      <td>0.003957</td>\n",
       "      <td>3.956501</td>\n",
       "    </tr>\n",
       "    <tr>\n",
       "      <th>3</th>\n",
       "      <td>4</td>\n",
       "      <td>0.004002</td>\n",
       "      <td>4.001805</td>\n",
       "    </tr>\n",
       "    <tr>\n",
       "      <th>4</th>\n",
       "      <td>5</td>\n",
       "      <td>0.003943</td>\n",
       "      <td>3.943104</td>\n",
       "    </tr>\n",
       "  </tbody>\n",
       "</table>\n",
       "</div>"
      ],
      "text/plain": [
       "   orig   acc2700  acc2700_1000\n",
       "0     1  0.004026      4.026122\n",
       "1     2  0.004022      4.021514\n",
       "2     3  0.003957      3.956501\n",
       "3     4  0.004002      4.001805\n",
       "4     5  0.003943      3.943104"
      ]
     },
     "execution_count": 7,
     "metadata": {},
     "output_type": "execute_result"
    }
   ],
   "source": [
    "df_2700_min_f= pd.read_csv('access_2700_min_f_1000.csv')\n",
    "df_2700_min_f['acc2700_1000']=df_2700_min_f['acc2700']*1000\n",
    "df_2700_min_f.head()"
   ]
  },
  {
   "cell_type": "code",
   "execution_count": 8,
   "metadata": {},
   "outputs": [
    {
     "data": {
      "text/html": [
       "<div>\n",
       "<style scoped>\n",
       "    .dataframe tbody tr th:only-of-type {\n",
       "        vertical-align: middle;\n",
       "    }\n",
       "\n",
       "    .dataframe tbody tr th {\n",
       "        vertical-align: top;\n",
       "    }\n",
       "\n",
       "    .dataframe thead th {\n",
       "        text-align: right;\n",
       "    }\n",
       "</style>\n",
       "<table border=\"1\" class=\"dataframe\">\n",
       "  <thead>\n",
       "    <tr style=\"text-align: right;\">\n",
       "      <th></th>\n",
       "      <th>count</th>\n",
       "      <th>mean</th>\n",
       "      <th>std</th>\n",
       "      <th>min</th>\n",
       "      <th>25%</th>\n",
       "      <th>50%</th>\n",
       "      <th>75%</th>\n",
       "      <th>max</th>\n",
       "    </tr>\n",
       "  </thead>\n",
       "  <tbody>\n",
       "    <tr>\n",
       "      <th>acc2700</th>\n",
       "      <td>166980.0</td>\n",
       "      <td>0.003431</td>\n",
       "      <td>0.001237</td>\n",
       "      <td>0.0</td>\n",
       "      <td>0.002244</td>\n",
       "      <td>0.003876</td>\n",
       "      <td>0.004421</td>\n",
       "      <td>0.005553</td>\n",
       "    </tr>\n",
       "    <tr>\n",
       "      <th>acc2700_1000</th>\n",
       "      <td>166980.0</td>\n",
       "      <td>3.431149</td>\n",
       "      <td>1.237322</td>\n",
       "      <td>0.0</td>\n",
       "      <td>2.244193</td>\n",
       "      <td>3.875952</td>\n",
       "      <td>4.420742</td>\n",
       "      <td>5.553090</td>\n",
       "    </tr>\n",
       "  </tbody>\n",
       "</table>\n",
       "</div>"
      ],
      "text/plain": [
       "                 count      mean       std  min       25%       50%       75%  \\\n",
       "acc2700       166980.0  0.003431  0.001237  0.0  0.002244  0.003876  0.004421   \n",
       "acc2700_1000  166980.0  3.431149  1.237322  0.0  2.244193  3.875952  4.420742   \n",
       "\n",
       "                   max  \n",
       "acc2700       0.005553  \n",
       "acc2700_1000  5.553090  "
      ]
     },
     "execution_count": 8,
     "metadata": {},
     "output_type": "execute_result"
    }
   ],
   "source": [
    "df_2700_min_f.describe().drop(columns=['orig']).T"
   ]
  }
 ],
 "metadata": {
  "kernelspec": {
   "display_name": "Python 3.10.4 ('base')",
   "language": "python",
   "name": "python3"
  },
  "language_info": {
   "codemirror_mode": {
    "name": "ipython",
    "version": 3
   },
   "file_extension": ".py",
   "mimetype": "text/x-python",
   "name": "python",
   "nbconvert_exporter": "python",
   "pygments_lexer": "ipython3",
   "version": "3.10.4"
  },
  "orig_nbformat": 4,
  "vscode": {
   "interpreter": {
    "hash": "93a3673a3758fdf33d6ba0423f037f6c2442f629d113b8691bc0e228a41716bd"
   }
  }
 },
 "nbformat": 4,
 "nbformat_minor": 2
}
