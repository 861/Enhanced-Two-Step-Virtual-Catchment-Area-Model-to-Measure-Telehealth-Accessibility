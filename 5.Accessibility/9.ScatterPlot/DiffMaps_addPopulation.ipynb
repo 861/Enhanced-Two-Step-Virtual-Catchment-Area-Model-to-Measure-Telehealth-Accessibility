{
 "cells": [
  {
   "cell_type": "code",
   "execution_count": 1,
   "metadata": {},
   "outputs": [],
   "source": [
    "import pandas as pd\n",
    "import altair as alt\n",
    "import matplotlib.pyplot as plt\n",
    "import seaborn as sns\n",
    "import glob\n",
    "import geopandas as gpd"
   ]
  },
  {
   "cell_type": "markdown",
   "metadata": {},
   "source": [
    "## Part 1"
   ]
  },
  {
   "cell_type": "code",
   "execution_count": 2,
   "metadata": {},
   "outputs": [
    {
     "data": {
      "text/html": [
       "<div>\n",
       "<style scoped>\n",
       "    .dataframe tbody tr th:only-of-type {\n",
       "        vertical-align: middle;\n",
       "    }\n",
       "\n",
       "    .dataframe tbody tr th {\n",
       "        vertical-align: top;\n",
       "    }\n",
       "\n",
       "    .dataframe thead th {\n",
       "        text-align: right;\n",
       "    }\n",
       "</style>\n",
       "<table border=\"1\" class=\"dataframe\">\n",
       "  <thead>\n",
       "    <tr style=\"text-align: right;\">\n",
       "      <th></th>\n",
       "      <th>geoid</th>\n",
       "      <th>POP10</th>\n",
       "      <th>acc1800</th>\n",
       "      <th>acc1800_1000</th>\n",
       "      <th>acc1800_n</th>\n",
       "    </tr>\n",
       "  </thead>\n",
       "  <tbody>\n",
       "    <tr>\n",
       "      <th>0</th>\n",
       "      <td>170318046091014</td>\n",
       "      <td>88</td>\n",
       "      <td>0.003737</td>\n",
       "      <td>3.737472</td>\n",
       "      <td>0.576805</td>\n",
       "    </tr>\n",
       "    <tr>\n",
       "      <th>1</th>\n",
       "      <td>170318234004046</td>\n",
       "      <td>4</td>\n",
       "      <td>0.003278</td>\n",
       "      <td>3.277715</td>\n",
       "      <td>0.505850</td>\n",
       "    </tr>\n",
       "    <tr>\n",
       "      <th>2</th>\n",
       "      <td>170318226022022</td>\n",
       "      <td>69</td>\n",
       "      <td>0.003679</td>\n",
       "      <td>3.678817</td>\n",
       "      <td>0.567752</td>\n",
       "    </tr>\n",
       "    <tr>\n",
       "      <th>3</th>\n",
       "      <td>170318232002032</td>\n",
       "      <td>2</td>\n",
       "      <td>0.003420</td>\n",
       "      <td>3.420377</td>\n",
       "      <td>0.527867</td>\n",
       "    </tr>\n",
       "    <tr>\n",
       "      <th>4</th>\n",
       "      <td>170318233023013</td>\n",
       "      <td>0</td>\n",
       "      <td>0.003352</td>\n",
       "      <td>3.352040</td>\n",
       "      <td>0.517321</td>\n",
       "    </tr>\n",
       "  </tbody>\n",
       "</table>\n",
       "</div>"
      ],
      "text/plain": [
       "             geoid  POP10   acc1800  acc1800_1000  acc1800_n\n",
       "0  170318046091014     88  0.003737      3.737472   0.576805\n",
       "1  170318234004046      4  0.003278      3.277715   0.505850\n",
       "2  170318226022022     69  0.003679      3.678817   0.567752\n",
       "3  170318232002032      2  0.003420      3.420377   0.527867\n",
       "4  170318233023013      0  0.003352      3.352040   0.517321"
      ]
     },
     "execution_count": 2,
     "metadata": {},
     "output_type": "execute_result"
    }
   ],
   "source": [
    "df1=pd.read_csv(\"access_1800_1.csv\")\n",
    "#df1.columns=['geoid','pop10','acc1800_1','acc1800_1_1000','acc1800_n_1']\n",
    "df1.head()"
   ]
  },
  {
   "cell_type": "code",
   "execution_count": 3,
   "metadata": {},
   "outputs": [
    {
     "data": {
      "text/html": [
       "<div>\n",
       "<style scoped>\n",
       "    .dataframe tbody tr th:only-of-type {\n",
       "        vertical-align: middle;\n",
       "    }\n",
       "\n",
       "    .dataframe tbody tr th {\n",
       "        vertical-align: top;\n",
       "    }\n",
       "\n",
       "    .dataframe thead th {\n",
       "        text-align: right;\n",
       "    }\n",
       "</style>\n",
       "<table border=\"1\" class=\"dataframe\">\n",
       "  <thead>\n",
       "    <tr style=\"text-align: right;\">\n",
       "      <th></th>\n",
       "      <th>geoid</th>\n",
       "      <th>pop10</th>\n",
       "      <th>acc1800_1</th>\n",
       "      <th>acc1800_1_1000</th>\n",
       "      <th>acc1800_n_1</th>\n",
       "      <th>acc1800_max_f</th>\n",
       "      <th>acc1800_1000_max_f</th>\n",
       "      <th>acc1800_n_max_f</th>\n",
       "      <th>acc1800_min_f</th>\n",
       "      <th>acc1800_1000_min_f</th>\n",
       "      <th>acc1800_n_min_f</th>\n",
       "      <th>acc1800_min_a</th>\n",
       "      <th>acc1800_1000_min_a</th>\n",
       "      <th>acc1800_n_min_a</th>\n",
       "    </tr>\n",
       "  </thead>\n",
       "  <tbody>\n",
       "    <tr>\n",
       "      <th>0</th>\n",
       "      <td>170318046091014</td>\n",
       "      <td>88</td>\n",
       "      <td>0.003737</td>\n",
       "      <td>3.737472</td>\n",
       "      <td>0.576805</td>\n",
       "      <td>0.003737</td>\n",
       "      <td>3.737262</td>\n",
       "      <td>0.577585</td>\n",
       "      <td>0.003732</td>\n",
       "      <td>3.732098</td>\n",
       "      <td>0.575744</td>\n",
       "      <td>0.001378</td>\n",
       "      <td>1.377787</td>\n",
       "      <td>0.301164</td>\n",
       "    </tr>\n",
       "    <tr>\n",
       "      <th>1</th>\n",
       "      <td>170318234004046</td>\n",
       "      <td>4</td>\n",
       "      <td>0.003278</td>\n",
       "      <td>3.277715</td>\n",
       "      <td>0.505850</td>\n",
       "      <td>0.003277</td>\n",
       "      <td>3.277021</td>\n",
       "      <td>0.506456</td>\n",
       "      <td>0.003274</td>\n",
       "      <td>3.274222</td>\n",
       "      <td>0.505109</td>\n",
       "      <td>0.002331</td>\n",
       "      <td>2.331497</td>\n",
       "      <td>0.509630</td>\n",
       "    </tr>\n",
       "    <tr>\n",
       "      <th>2</th>\n",
       "      <td>170318226022022</td>\n",
       "      <td>69</td>\n",
       "      <td>0.003679</td>\n",
       "      <td>3.678817</td>\n",
       "      <td>0.567752</td>\n",
       "      <td>0.003677</td>\n",
       "      <td>3.677288</td>\n",
       "      <td>0.568316</td>\n",
       "      <td>0.003675</td>\n",
       "      <td>3.675305</td>\n",
       "      <td>0.566983</td>\n",
       "      <td>0.002760</td>\n",
       "      <td>2.760189</td>\n",
       "      <td>0.603336</td>\n",
       "    </tr>\n",
       "    <tr>\n",
       "      <th>3</th>\n",
       "      <td>170318232002032</td>\n",
       "      <td>2</td>\n",
       "      <td>0.003420</td>\n",
       "      <td>3.420377</td>\n",
       "      <td>0.527867</td>\n",
       "      <td>0.003420</td>\n",
       "      <td>3.420017</td>\n",
       "      <td>0.528555</td>\n",
       "      <td>0.003418</td>\n",
       "      <td>3.418130</td>\n",
       "      <td>0.527309</td>\n",
       "      <td>0.002292</td>\n",
       "      <td>2.292123</td>\n",
       "      <td>0.501024</td>\n",
       "    </tr>\n",
       "    <tr>\n",
       "      <th>4</th>\n",
       "      <td>170318233023013</td>\n",
       "      <td>0</td>\n",
       "      <td>0.003352</td>\n",
       "      <td>3.352040</td>\n",
       "      <td>0.517321</td>\n",
       "      <td>0.003351</td>\n",
       "      <td>3.351374</td>\n",
       "      <td>0.517947</td>\n",
       "      <td>0.003349</td>\n",
       "      <td>3.348980</td>\n",
       "      <td>0.516641</td>\n",
       "      <td>0.002406</td>\n",
       "      <td>2.406260</td>\n",
       "      <td>0.525972</td>\n",
       "    </tr>\n",
       "  </tbody>\n",
       "</table>\n",
       "</div>"
      ],
      "text/plain": [
       "             geoid  pop10  acc1800_1  acc1800_1_1000  acc1800_n_1  \\\n",
       "0  170318046091014     88   0.003737        3.737472     0.576805   \n",
       "1  170318234004046      4   0.003278        3.277715     0.505850   \n",
       "2  170318226022022     69   0.003679        3.678817     0.567752   \n",
       "3  170318232002032      2   0.003420        3.420377     0.527867   \n",
       "4  170318233023013      0   0.003352        3.352040     0.517321   \n",
       "\n",
       "   acc1800_max_f  acc1800_1000_max_f  acc1800_n_max_f  acc1800_min_f  \\\n",
       "0       0.003737            3.737262         0.577585       0.003732   \n",
       "1       0.003277            3.277021         0.506456       0.003274   \n",
       "2       0.003677            3.677288         0.568316       0.003675   \n",
       "3       0.003420            3.420017         0.528555       0.003418   \n",
       "4       0.003351            3.351374         0.517947       0.003349   \n",
       "\n",
       "   acc1800_1000_min_f  acc1800_n_min_f  acc1800_min_a  acc1800_1000_min_a  \\\n",
       "0            3.732098         0.575744       0.001378            1.377787   \n",
       "1            3.274222         0.505109       0.002331            2.331497   \n",
       "2            3.675305         0.566983       0.002760            2.760189   \n",
       "3            3.418130         0.527309       0.002292            2.292123   \n",
       "4            3.348980         0.516641       0.002406            2.406260   \n",
       "\n",
       "   acc1800_n_min_a  \n",
       "0         0.301164  \n",
       "1         0.509630  \n",
       "2         0.603336  \n",
       "3         0.501024  \n",
       "4         0.525972  "
      ]
     },
     "execution_count": 3,
     "metadata": {},
     "output_type": "execute_result"
    }
   ],
   "source": [
    "#df1=pd.read_csv(\"access_1800_1.csv\").drop(columns=['POP10'])\n",
    "#df1.columns=['geoid','acc1800_1','acc1800_1_1000','acc1800_n_1']\n",
    "df1=pd.read_csv(\"access_1800_1.csv\")\n",
    "df1.columns=['geoid','pop10','acc1800_1','acc1800_1_1000','acc1800_n_1']\n",
    "df2=pd.read_csv(\"access_1800_max_f.csv\").drop(columns=['POP10',])\n",
    "df2.columns=['geoid','acc1800_max_f','acc1800_1000_max_f','acc1800_n_max_f']\n",
    "df3=pd.read_csv(\"access_1800_min_f.csv\").drop(columns=['POP10'])\n",
    "df3.columns=['geoid','acc1800_min_f','acc1800_1000_min_f','acc1800_n_min_f']\n",
    "df4=pd.read_csv(\"access_1800_min_a.csv\").drop(columns=['POP10'])\n",
    "df4.columns=['geoid','acc1800_min_a','acc1800_1000_min_a','acc1800_n_min_a']\n",
    "\n",
    "\n",
    "\n",
    "df=df1.merge(df2,on=\"geoid\")\n",
    "df=df.merge(df3,on='geoid')\n",
    "df=df.merge(df4,on='geoid')\n",
    "df.head()"
   ]
  },
  {
   "cell_type": "code",
   "execution_count": 4,
   "metadata": {},
   "outputs": [
    {
     "name": "stdout",
     "output_type": "stream",
     "text": [
      "['acc1800_1', 'acc1800_1_1000', 'acc1800_n_1', 'acc1800_max_f', 'acc1800_1000_max_f', 'acc1800_n_max_f', 'acc1800_min_f', 'acc1800_1000_min_f', 'acc1800_n_min_f', 'acc1800_min_a', 'acc1800_1000_min_a', 'acc1800_n_min_a']\n"
     ]
    }
   ],
   "source": [
    "drop_columns=df.columns.to_list()\n",
    "drop_columns.remove('geoid')\n",
    "drop_columns.remove('pop10')\n",
    "print(drop_columns)"
   ]
  },
  {
   "cell_type": "code",
   "execution_count": 5,
   "metadata": {},
   "outputs": [
    {
     "data": {
      "text/html": [
       "<div>\n",
       "<style scoped>\n",
       "    .dataframe tbody tr th:only-of-type {\n",
       "        vertical-align: middle;\n",
       "    }\n",
       "\n",
       "    .dataframe tbody tr th {\n",
       "        vertical-align: top;\n",
       "    }\n",
       "\n",
       "    .dataframe thead th {\n",
       "        text-align: right;\n",
       "    }\n",
       "</style>\n",
       "<table border=\"1\" class=\"dataframe\">\n",
       "  <thead>\n",
       "    <tr style=\"text-align: right;\">\n",
       "      <th></th>\n",
       "      <th>geoid</th>\n",
       "      <th>pop10</th>\n",
       "      <th>diff_max_f</th>\n",
       "      <th>diff_min_a</th>\n",
       "      <th>diff_min_f</th>\n",
       "      <th>diff_max_f_1000</th>\n",
       "      <th>diff_min_a_1000</th>\n",
       "      <th>diff_min_f_1000</th>\n",
       "      <th>diff_max_f_n</th>\n",
       "      <th>diff_min_a_n</th>\n",
       "      <th>diff_min_f_n</th>\n",
       "    </tr>\n",
       "  </thead>\n",
       "  <tbody>\n",
       "    <tr>\n",
       "      <th>0</th>\n",
       "      <td>170318046091014</td>\n",
       "      <td>88</td>\n",
       "      <td>2.101205e-07</td>\n",
       "      <td>0.002360</td>\n",
       "      <td>0.000005</td>\n",
       "      <td>0.000210</td>\n",
       "      <td>2.359685</td>\n",
       "      <td>0.005374</td>\n",
       "      <td>-0.000780</td>\n",
       "      <td>0.275641</td>\n",
       "      <td>0.001060</td>\n",
       "    </tr>\n",
       "    <tr>\n",
       "      <th>1</th>\n",
       "      <td>170318234004046</td>\n",
       "      <td>4</td>\n",
       "      <td>6.939718e-07</td>\n",
       "      <td>0.000946</td>\n",
       "      <td>0.000003</td>\n",
       "      <td>0.000694</td>\n",
       "      <td>0.946218</td>\n",
       "      <td>0.003493</td>\n",
       "      <td>-0.000605</td>\n",
       "      <td>-0.003780</td>\n",
       "      <td>0.000742</td>\n",
       "    </tr>\n",
       "    <tr>\n",
       "      <th>2</th>\n",
       "      <td>170318226022022</td>\n",
       "      <td>69</td>\n",
       "      <td>1.528732e-06</td>\n",
       "      <td>0.000919</td>\n",
       "      <td>0.000004</td>\n",
       "      <td>0.001529</td>\n",
       "      <td>0.918628</td>\n",
       "      <td>0.003512</td>\n",
       "      <td>-0.000564</td>\n",
       "      <td>-0.035583</td>\n",
       "      <td>0.000769</td>\n",
       "    </tr>\n",
       "    <tr>\n",
       "      <th>3</th>\n",
       "      <td>170318232002032</td>\n",
       "      <td>2</td>\n",
       "      <td>3.590613e-07</td>\n",
       "      <td>0.001128</td>\n",
       "      <td>0.000002</td>\n",
       "      <td>0.000359</td>\n",
       "      <td>1.128254</td>\n",
       "      <td>0.002246</td>\n",
       "      <td>-0.000688</td>\n",
       "      <td>0.026844</td>\n",
       "      <td>0.000558</td>\n",
       "    </tr>\n",
       "    <tr>\n",
       "      <th>4</th>\n",
       "      <td>170318233023013</td>\n",
       "      <td>0</td>\n",
       "      <td>6.664264e-07</td>\n",
       "      <td>0.000946</td>\n",
       "      <td>0.000003</td>\n",
       "      <td>0.000666</td>\n",
       "      <td>0.945781</td>\n",
       "      <td>0.003060</td>\n",
       "      <td>-0.000626</td>\n",
       "      <td>-0.008651</td>\n",
       "      <td>0.000680</td>\n",
       "    </tr>\n",
       "  </tbody>\n",
       "</table>\n",
       "</div>"
      ],
      "text/plain": [
       "             geoid  pop10    diff_max_f  diff_min_a  diff_min_f  \\\n",
       "0  170318046091014     88  2.101205e-07    0.002360    0.000005   \n",
       "1  170318234004046      4  6.939718e-07    0.000946    0.000003   \n",
       "2  170318226022022     69  1.528732e-06    0.000919    0.000004   \n",
       "3  170318232002032      2  3.590613e-07    0.001128    0.000002   \n",
       "4  170318233023013      0  6.664264e-07    0.000946    0.000003   \n",
       "\n",
       "   diff_max_f_1000  diff_min_a_1000  diff_min_f_1000  diff_max_f_n  \\\n",
       "0         0.000210         2.359685         0.005374     -0.000780   \n",
       "1         0.000694         0.946218         0.003493     -0.000605   \n",
       "2         0.001529         0.918628         0.003512     -0.000564   \n",
       "3         0.000359         1.128254         0.002246     -0.000688   \n",
       "4         0.000666         0.945781         0.003060     -0.000626   \n",
       "\n",
       "   diff_min_a_n  diff_min_f_n  \n",
       "0      0.275641      0.001060  \n",
       "1     -0.003780      0.000742  \n",
       "2     -0.035583      0.000769  \n",
       "3      0.026844      0.000558  \n",
       "4     -0.008651      0.000680  "
      ]
     },
     "execution_count": 5,
     "metadata": {},
     "output_type": "execute_result"
    }
   ],
   "source": [
    "df['diff_max_f'] =df['acc1800_1']-df['acc1800_max_f']\n",
    "df['diff_min_a'] =df['acc1800_1']-df['acc1800_min_a']\n",
    "df['diff_min_f'] =df['acc1800_1']-df['acc1800_min_f']\n",
    "\n",
    "df['diff_max_f_1000'] =df['acc1800_1_1000']-df['acc1800_1000_max_f']\n",
    "df['diff_min_a_1000'] =df['acc1800_1_1000']-df['acc1800_1000_min_a']\n",
    "df['diff_min_f_1000'] =df['acc1800_1_1000']-df['acc1800_1000_min_f']\n",
    "\n",
    "df['diff_max_f_n'] =df['acc1800_n_1']-df['acc1800_n_max_f']\n",
    "df['diff_min_a_n'] =df['acc1800_n_1']-df['acc1800_n_min_a']\n",
    "df['diff_min_f_n'] =df['acc1800_n_1']-df['acc1800_n_min_f']\n",
    "df=df.drop(columns=drop_columns)\n",
    "df.head()"
   ]
  },
  {
   "cell_type": "code",
   "execution_count": 6,
   "metadata": {},
   "outputs": [],
   "source": [
    "# check equal 0 parts\n",
    "#diff_max_f_1000\tdiff_min_a_1000\tdiff_min_f_1000\n",
    "# temp=df[df['diff_max_f_1000']==0]\n",
    "# temp.head(30)"
   ]
  },
  {
   "cell_type": "code",
   "execution_count": 7,
   "metadata": {},
   "outputs": [],
   "source": [
    "# temp=df[df['diff_min_f_1000']==0]\n",
    "# temp.head(30)"
   ]
  },
  {
   "cell_type": "code",
   "execution_count": 8,
   "metadata": {},
   "outputs": [],
   "source": [
    "# temp=df[df['diff_min_a_1000']==0]\n",
    "# temp.head(30)"
   ]
  },
  {
   "attachments": {},
   "cell_type": "markdown",
   "metadata": {},
   "source": [
    "## diff_max_f_1000"
   ]
  },
  {
   "cell_type": "code",
   "execution_count": 9,
   "metadata": {},
   "outputs": [
    {
     "data": {
      "text/plain": [
       "(13420, 26, 85586)"
      ]
     },
     "execution_count": 9,
     "metadata": {},
     "output_type": "execute_result"
    }
   ],
   "source": [
    "df[df['diff_max_f_1000']<0].shape[0],df[df['diff_max_f_1000']==0].shape[0],df[df['diff_max_f_1000']>0].shape[0]"
   ]
  },
  {
   "cell_type": "code",
   "execution_count": 10,
   "metadata": {},
   "outputs": [
    {
     "name": "stdout",
     "output_type": "stream",
     "text": [
      "13.55% 0.03% 86.42%\n"
     ]
    }
   ],
   "source": [
    "print (\"{0:.2%}\".format(df[df['diff_max_f_1000']<0].shape[0]/99032.0),\"{0:.2%}\".format(df[df['diff_max_f_1000']==0].shape[0]/99032.0),\"{0:.2%}\".format(df[df['diff_max_f_1000']>0].shape[0]/99032.0))"
   ]
  },
  {
   "cell_type": "code",
   "execution_count": 11,
   "metadata": {},
   "outputs": [
    {
     "data": {
      "text/plain": [
       "(858834, 0, 4335841)"
      ]
     },
     "execution_count": 11,
     "metadata": {},
     "output_type": "execute_result"
    }
   ],
   "source": [
    "df[df['diff_max_f_1000']<0]['pop10'].sum(),df[df['diff_max_f_1000']==0]['pop10'].sum(),df[df['diff_max_f_1000']>0]['pop10'].sum()"
   ]
  },
  {
   "cell_type": "code",
   "execution_count": 12,
   "metadata": {},
   "outputs": [
    {
     "name": "stdout",
     "output_type": "stream",
     "text": [
      "16.53% 0.00% 83.47%\n"
     ]
    }
   ],
   "source": [
    "print (\"{0:.2%}\".format(df[df['diff_max_f_1000']<0]['pop10'].sum()/5194675.0),\"{0:.2%}\".format(df[df['diff_max_f_1000']==0]['pop10'].sum()/5194675.0),\"{0:.2%}\".format(df[df['diff_max_f_1000']>0]['pop10'].sum()/5194675.0))"
   ]
  },
  {
   "attachments": {},
   "cell_type": "markdown",
   "metadata": {},
   "source": [
    "## diff_min_a_1000"
   ]
  },
  {
   "cell_type": "code",
   "execution_count": 13,
   "metadata": {},
   "outputs": [
    {
     "data": {
      "text/plain": [
       "(13, 26, 98993)"
      ]
     },
     "execution_count": 13,
     "metadata": {},
     "output_type": "execute_result"
    }
   ],
   "source": [
    "df[df['diff_min_a_1000']<0].shape[0],df[df['diff_min_a_1000']==0].shape[0],df[df['diff_min_a_1000']>0].shape[0]"
   ]
  },
  {
   "cell_type": "code",
   "execution_count": 14,
   "metadata": {},
   "outputs": [
    {
     "name": "stdout",
     "output_type": "stream",
     "text": [
      "0.01% 0.03% 99.96%\n"
     ]
    }
   ],
   "source": [
    "print (\"{0:.2%}\".format(df[df['diff_min_a_1000']<0].shape[0]/99032.0),\"{0:.2%}\".format(df[df['diff_min_a_1000']==0].shape[0]/99032.0),\"{0:.2%}\".format(df[df['diff_min_a_1000']>0].shape[0]/99032.0))"
   ]
  },
  {
   "cell_type": "code",
   "execution_count": 15,
   "metadata": {},
   "outputs": [
    {
     "data": {
      "text/plain": [
       "(0, 0, 5194675)"
      ]
     },
     "execution_count": 15,
     "metadata": {},
     "output_type": "execute_result"
    }
   ],
   "source": [
    "df[df['diff_min_a_1000']<0]['pop10'].sum(),df[df['diff_min_a_1000']==0]['pop10'].sum(),df[df['diff_min_a_1000']>0]['pop10'].sum()\n",
    "\n"
   ]
  },
  {
   "cell_type": "code",
   "execution_count": null,
   "metadata": {},
   "outputs": [],
   "source": [
    "df[df['diff_min_a_1000']<0].to_csv(\"/Users/yaxiongshao/Downloads/test.csv\",index=False)"
   ]
  },
  {
   "cell_type": "code",
   "execution_count": 21,
   "metadata": {},
   "outputs": [
    {
     "name": "stdout",
     "output_type": "stream",
     "text": [
      "0.00% 0.00% 100.00%\n"
     ]
    }
   ],
   "source": [
    "print (\"{0:.2%}\".format(df[df['diff_min_a_1000']<0]['pop10'].sum()/5194675.0),\"{0:.2%}\".format(df[df['diff_min_a_1000']==0]['pop10'].sum()/5194675.0),\"{0:.2%}\".format(df[df['diff_min_a_1000']>0]['pop10'].sum()/5194675.0))"
   ]
  },
  {
   "attachments": {},
   "cell_type": "markdown",
   "metadata": {},
   "source": [
    "## diff_min_f_1000"
   ]
  },
  {
   "cell_type": "code",
   "execution_count": 36,
   "metadata": {},
   "outputs": [
    {
     "data": {
      "text/plain": [
       "(38942, 26, 60064)"
      ]
     },
     "execution_count": 36,
     "metadata": {},
     "output_type": "execute_result"
    }
   ],
   "source": [
    "df[df['diff_min_f_1000']<0].shape[0],df[df['diff_min_f_1000']==0].shape[0],df[df['diff_min_f_1000']>0].shape[0]"
   ]
  },
  {
   "cell_type": "code",
   "execution_count": 44,
   "metadata": {},
   "outputs": [
    {
     "name": "stdout",
     "output_type": "stream",
     "text": [
      "39.32% 0.03% 60.65%\n"
     ]
    }
   ],
   "source": [
    "print (\"{0:.2%}\".format(df[df['diff_min_f_1000']<0].shape[0]/99032.0),\"{0:.2%}\".format(df[df['diff_min_f_1000']==0].shape[0]/99032.0),\"{0:.2%}\".format(df[df['diff_min_f_1000']>0].shape[0]/99032.0))"
   ]
  },
  {
   "cell_type": "code",
   "execution_count": 22,
   "metadata": {},
   "outputs": [
    {
     "data": {
      "text/plain": [
       "(1973585, 0, 3221090)"
      ]
     },
     "execution_count": 22,
     "metadata": {},
     "output_type": "execute_result"
    }
   ],
   "source": [
    "df[df['diff_min_f_1000']<0]['pop10'].sum(),df[df['diff_min_f_1000']==0]['pop10'].sum(),df[df['diff_min_f_1000']>0]['pop10'].sum()"
   ]
  },
  {
   "cell_type": "code",
   "execution_count": 23,
   "metadata": {},
   "outputs": [
    {
     "name": "stdout",
     "output_type": "stream",
     "text": [
      "37.99% 0.00% 62.01%\n"
     ]
    }
   ],
   "source": [
    "print (\"{0:.2%}\".format(df[df['diff_min_f_1000']<0]['pop10'].sum()/5194675.0),\"{0:.2%}\".format(df[df['diff_min_f_1000']==0]['pop10'].sum()/5194675.0),\"{0:.2%}\".format(df[df['diff_min_f_1000']>0]['pop10'].sum()/5194675.0))"
   ]
  },
  {
   "cell_type": "markdown",
   "metadata": {},
   "source": [
    "## part 2"
   ]
  },
  {
   "cell_type": "code",
   "execution_count": 6,
   "metadata": {},
   "outputs": [
    {
     "data": {
      "text/html": [
       "<div>\n",
       "<style scoped>\n",
       "    .dataframe tbody tr th:only-of-type {\n",
       "        vertical-align: middle;\n",
       "    }\n",
       "\n",
       "    .dataframe tbody tr th {\n",
       "        vertical-align: top;\n",
       "    }\n",
       "\n",
       "    .dataframe thead th {\n",
       "        text-align: right;\n",
       "    }\n",
       "</style>\n",
       "<table border=\"1\" class=\"dataframe\">\n",
       "  <thead>\n",
       "    <tr style=\"text-align: right;\">\n",
       "      <th></th>\n",
       "      <th>GEOID10</th>\n",
       "      <th>POP10</th>\n",
       "      <th>LAT</th>\n",
       "      <th>LON</th>\n",
       "      <th>geometry</th>\n",
       "    </tr>\n",
       "  </thead>\n",
       "  <tbody>\n",
       "    <tr>\n",
       "      <th>0</th>\n",
       "      <td>170318046091014</td>\n",
       "      <td>88</td>\n",
       "      <td>42.035398</td>\n",
       "      <td>-88.047327</td>\n",
       "      <td>POLYGON ((-88.04667 42.03609, -88.04655 42.036...</td>\n",
       "    </tr>\n",
       "    <tr>\n",
       "      <th>1</th>\n",
       "      <td>170318234004046</td>\n",
       "      <td>4</td>\n",
       "      <td>41.663501</td>\n",
       "      <td>-87.707536</td>\n",
       "      <td>POLYGON ((-87.70602 41.66378, -87.70557 41.663...</td>\n",
       "    </tr>\n",
       "    <tr>\n",
       "      <th>2</th>\n",
       "      <td>170318226022022</td>\n",
       "      <td>69</td>\n",
       "      <td>41.699074</td>\n",
       "      <td>-87.745527</td>\n",
       "      <td>POLYGON ((-87.74494 41.69999, -87.74494 41.699...</td>\n",
       "    </tr>\n",
       "    <tr>\n",
       "      <th>3</th>\n",
       "      <td>170318232002032</td>\n",
       "      <td>2</td>\n",
       "      <td>41.662969</td>\n",
       "      <td>-87.742686</td>\n",
       "      <td>POLYGON ((-87.73946 41.66173, -87.73964 41.661...</td>\n",
       "    </tr>\n",
       "    <tr>\n",
       "      <th>4</th>\n",
       "      <td>170318233023013</td>\n",
       "      <td>0</td>\n",
       "      <td>41.661378</td>\n",
       "      <td>-87.711877</td>\n",
       "      <td>POLYGON ((-87.71278 41.65982, -87.71278 41.659...</td>\n",
       "    </tr>\n",
       "  </tbody>\n",
       "</table>\n",
       "</div>"
      ],
      "text/plain": [
       "           GEOID10  POP10        LAT        LON  \\\n",
       "0  170318046091014     88  42.035398 -88.047327   \n",
       "1  170318234004046      4  41.663501 -87.707536   \n",
       "2  170318226022022     69  41.699074 -87.745527   \n",
       "3  170318232002032      2  41.662969 -87.742686   \n",
       "4  170318233023013      0  41.661378 -87.711877   \n",
       "\n",
       "                                            geometry  \n",
       "0  POLYGON ((-88.04667 42.03609, -88.04655 42.036...  \n",
       "1  POLYGON ((-87.70602 41.66378, -87.70557 41.663...  \n",
       "2  POLYGON ((-87.74494 41.69999, -87.74494 41.699...  \n",
       "3  POLYGON ((-87.73946 41.66173, -87.73964 41.661...  \n",
       "4  POLYGON ((-87.71278 41.65982, -87.71278 41.659...  "
      ]
     },
     "execution_count": 6,
     "metadata": {},
     "output_type": "execute_result"
    }
   ],
   "source": [
    "#join df to shapefile attribute table\n",
    "gdf= gpd.read_file(\"/Users/yaxiongshao/Documents/GitHub/E2SVCA_15MI_BLOCKS/1.Supply/data/Census2010/CookCountyBlocks/Blocks.shp\").drop(columns=['TRACTCE10','HOUSING10'])\n",
    "gdf['GEOID10'] = gdf['GEOID10'].astype('int64')\n",
    "gdf.head()"
   ]
  },
  {
   "cell_type": "code",
   "execution_count": 7,
   "metadata": {},
   "outputs": [
    {
     "data": {
      "text/html": [
       "<div>\n",
       "<style scoped>\n",
       "    .dataframe tbody tr th:only-of-type {\n",
       "        vertical-align: middle;\n",
       "    }\n",
       "\n",
       "    .dataframe tbody tr th {\n",
       "        vertical-align: top;\n",
       "    }\n",
       "\n",
       "    .dataframe thead th {\n",
       "        text-align: right;\n",
       "    }\n",
       "</style>\n",
       "<table border=\"1\" class=\"dataframe\">\n",
       "  <thead>\n",
       "    <tr style=\"text-align: right;\">\n",
       "      <th></th>\n",
       "      <th>GEOID10</th>\n",
       "      <th>POP10</th>\n",
       "      <th>LAT</th>\n",
       "      <th>LON</th>\n",
       "      <th>geometry</th>\n",
       "      <th>geoid</th>\n",
       "      <th>diff_max_f</th>\n",
       "      <th>diff_min_a</th>\n",
       "      <th>diff_min_f</th>\n",
       "      <th>diff_max_f_1000</th>\n",
       "      <th>diff_min_a_1000</th>\n",
       "      <th>diff_min_f_1000</th>\n",
       "      <th>diff_max_f_n</th>\n",
       "      <th>diff_min_a_n</th>\n",
       "      <th>diff_min_f_n</th>\n",
       "    </tr>\n",
       "  </thead>\n",
       "  <tbody>\n",
       "    <tr>\n",
       "      <th>0</th>\n",
       "      <td>170318046091014</td>\n",
       "      <td>88</td>\n",
       "      <td>42.035398</td>\n",
       "      <td>-88.047327</td>\n",
       "      <td>POLYGON ((-88.04667 42.03609, -88.04655 42.036...</td>\n",
       "      <td>170318046091014</td>\n",
       "      <td>2.101205e-07</td>\n",
       "      <td>0.002360</td>\n",
       "      <td>0.000005</td>\n",
       "      <td>0.000210</td>\n",
       "      <td>2.359685</td>\n",
       "      <td>0.005374</td>\n",
       "      <td>-0.000780</td>\n",
       "      <td>0.275641</td>\n",
       "      <td>0.001060</td>\n",
       "    </tr>\n",
       "    <tr>\n",
       "      <th>1</th>\n",
       "      <td>170318234004046</td>\n",
       "      <td>4</td>\n",
       "      <td>41.663501</td>\n",
       "      <td>-87.707536</td>\n",
       "      <td>POLYGON ((-87.70602 41.66378, -87.70557 41.663...</td>\n",
       "      <td>170318234004046</td>\n",
       "      <td>6.939718e-07</td>\n",
       "      <td>0.000946</td>\n",
       "      <td>0.000003</td>\n",
       "      <td>0.000694</td>\n",
       "      <td>0.946218</td>\n",
       "      <td>0.003493</td>\n",
       "      <td>-0.000605</td>\n",
       "      <td>-0.003780</td>\n",
       "      <td>0.000742</td>\n",
       "    </tr>\n",
       "    <tr>\n",
       "      <th>2</th>\n",
       "      <td>170318226022022</td>\n",
       "      <td>69</td>\n",
       "      <td>41.699074</td>\n",
       "      <td>-87.745527</td>\n",
       "      <td>POLYGON ((-87.74494 41.69999, -87.74494 41.699...</td>\n",
       "      <td>170318226022022</td>\n",
       "      <td>1.528732e-06</td>\n",
       "      <td>0.000919</td>\n",
       "      <td>0.000004</td>\n",
       "      <td>0.001529</td>\n",
       "      <td>0.918628</td>\n",
       "      <td>0.003512</td>\n",
       "      <td>-0.000564</td>\n",
       "      <td>-0.035583</td>\n",
       "      <td>0.000769</td>\n",
       "    </tr>\n",
       "    <tr>\n",
       "      <th>3</th>\n",
       "      <td>170318232002032</td>\n",
       "      <td>2</td>\n",
       "      <td>41.662969</td>\n",
       "      <td>-87.742686</td>\n",
       "      <td>POLYGON ((-87.73946 41.66173, -87.73964 41.661...</td>\n",
       "      <td>170318232002032</td>\n",
       "      <td>3.590613e-07</td>\n",
       "      <td>0.001128</td>\n",
       "      <td>0.000002</td>\n",
       "      <td>0.000359</td>\n",
       "      <td>1.128254</td>\n",
       "      <td>0.002246</td>\n",
       "      <td>-0.000688</td>\n",
       "      <td>0.026844</td>\n",
       "      <td>0.000558</td>\n",
       "    </tr>\n",
       "    <tr>\n",
       "      <th>4</th>\n",
       "      <td>170318233023013</td>\n",
       "      <td>0</td>\n",
       "      <td>41.661378</td>\n",
       "      <td>-87.711877</td>\n",
       "      <td>POLYGON ((-87.71278 41.65982, -87.71278 41.659...</td>\n",
       "      <td>170318233023013</td>\n",
       "      <td>6.664264e-07</td>\n",
       "      <td>0.000946</td>\n",
       "      <td>0.000003</td>\n",
       "      <td>0.000666</td>\n",
       "      <td>0.945781</td>\n",
       "      <td>0.003060</td>\n",
       "      <td>-0.000626</td>\n",
       "      <td>-0.008651</td>\n",
       "      <td>0.000680</td>\n",
       "    </tr>\n",
       "  </tbody>\n",
       "</table>\n",
       "</div>"
      ],
      "text/plain": [
       "           GEOID10  POP10        LAT        LON  \\\n",
       "0  170318046091014     88  42.035398 -88.047327   \n",
       "1  170318234004046      4  41.663501 -87.707536   \n",
       "2  170318226022022     69  41.699074 -87.745527   \n",
       "3  170318232002032      2  41.662969 -87.742686   \n",
       "4  170318233023013      0  41.661378 -87.711877   \n",
       "\n",
       "                                            geometry            geoid  \\\n",
       "0  POLYGON ((-88.04667 42.03609, -88.04655 42.036...  170318046091014   \n",
       "1  POLYGON ((-87.70602 41.66378, -87.70557 41.663...  170318234004046   \n",
       "2  POLYGON ((-87.74494 41.69999, -87.74494 41.699...  170318226022022   \n",
       "3  POLYGON ((-87.73946 41.66173, -87.73964 41.661...  170318232002032   \n",
       "4  POLYGON ((-87.71278 41.65982, -87.71278 41.659...  170318233023013   \n",
       "\n",
       "     diff_max_f  diff_min_a  diff_min_f  diff_max_f_1000  diff_min_a_1000  \\\n",
       "0  2.101205e-07    0.002360    0.000005         0.000210         2.359685   \n",
       "1  6.939718e-07    0.000946    0.000003         0.000694         0.946218   \n",
       "2  1.528732e-06    0.000919    0.000004         0.001529         0.918628   \n",
       "3  3.590613e-07    0.001128    0.000002         0.000359         1.128254   \n",
       "4  6.664264e-07    0.000946    0.000003         0.000666         0.945781   \n",
       "\n",
       "   diff_min_f_1000  diff_max_f_n  diff_min_a_n  diff_min_f_n  \n",
       "0         0.005374     -0.000780      0.275641      0.001060  \n",
       "1         0.003493     -0.000605     -0.003780      0.000742  \n",
       "2         0.003512     -0.000564     -0.035583      0.000769  \n",
       "3         0.002246     -0.000688      0.026844      0.000558  \n",
       "4         0.003060     -0.000626     -0.008651      0.000680  "
      ]
     },
     "execution_count": 7,
     "metadata": {},
     "output_type": "execute_result"
    }
   ],
   "source": [
    "gdf2=gdf.merge(df,left_on='GEOID10',right_on='geoid')\n",
    "gdf2.head()"
   ]
  },
  {
   "cell_type": "code",
   "execution_count": 8,
   "metadata": {},
   "outputs": [
    {
     "name": "stdout",
     "output_type": "stream",
     "text": [
      "(99032, 10) (99032, 5) (99032, 15)\n"
     ]
    }
   ],
   "source": [
    "print(df.shape,gdf.shape,gdf2.shape)"
   ]
  },
  {
   "cell_type": "code",
   "execution_count": 10,
   "metadata": {},
   "outputs": [
    {
     "name": "stdout",
     "output_type": "stream",
     "text": [
      "diff_max_f\n"
     ]
    },
    {
     "name": "stderr",
     "output_type": "stream",
     "text": [
      "/Users/yaxiongshao/opt/miniconda3/lib/python3.10/site-packages/geopandas/io/file.py:362: FutureWarning: pandas.Int64Index is deprecated and will be removed from pandas in a future version. Use pandas.Index with the appropriate dtype instead.\n",
      "  pd.Int64Index,\n"
     ]
    },
    {
     "name": "stdout",
     "output_type": "stream",
     "text": [
      "diff_min_a\n"
     ]
    },
    {
     "name": "stderr",
     "output_type": "stream",
     "text": [
      "/Users/yaxiongshao/opt/miniconda3/lib/python3.10/site-packages/geopandas/io/file.py:362: FutureWarning: pandas.Int64Index is deprecated and will be removed from pandas in a future version. Use pandas.Index with the appropriate dtype instead.\n",
      "  pd.Int64Index,\n"
     ]
    },
    {
     "name": "stdout",
     "output_type": "stream",
     "text": [
      "diff_min_f\n"
     ]
    },
    {
     "name": "stderr",
     "output_type": "stream",
     "text": [
      "/Users/yaxiongshao/opt/miniconda3/lib/python3.10/site-packages/geopandas/io/file.py:362: FutureWarning: pandas.Int64Index is deprecated and will be removed from pandas in a future version. Use pandas.Index with the appropriate dtype instead.\n",
      "  pd.Int64Index,\n"
     ]
    },
    {
     "name": "stdout",
     "output_type": "stream",
     "text": [
      "diff_max_f_1000\n"
     ]
    },
    {
     "name": "stderr",
     "output_type": "stream",
     "text": [
      "/Users/yaxiongshao/opt/miniconda3/lib/python3.10/site-packages/geopandas/io/file.py:362: FutureWarning: pandas.Int64Index is deprecated and will be removed from pandas in a future version. Use pandas.Index with the appropriate dtype instead.\n",
      "  pd.Int64Index,\n"
     ]
    },
    {
     "name": "stdout",
     "output_type": "stream",
     "text": [
      "diff_min_a_1000\n"
     ]
    },
    {
     "name": "stderr",
     "output_type": "stream",
     "text": [
      "/Users/yaxiongshao/opt/miniconda3/lib/python3.10/site-packages/geopandas/io/file.py:362: FutureWarning: pandas.Int64Index is deprecated and will be removed from pandas in a future version. Use pandas.Index with the appropriate dtype instead.\n",
      "  pd.Int64Index,\n"
     ]
    },
    {
     "name": "stdout",
     "output_type": "stream",
     "text": [
      "diff_min_f_1000\n"
     ]
    },
    {
     "name": "stderr",
     "output_type": "stream",
     "text": [
      "/Users/yaxiongshao/opt/miniconda3/lib/python3.10/site-packages/geopandas/io/file.py:362: FutureWarning: pandas.Int64Index is deprecated and will be removed from pandas in a future version. Use pandas.Index with the appropriate dtype instead.\n",
      "  pd.Int64Index,\n"
     ]
    },
    {
     "name": "stdout",
     "output_type": "stream",
     "text": [
      "diff_max_f_n\n"
     ]
    },
    {
     "name": "stderr",
     "output_type": "stream",
     "text": [
      "/Users/yaxiongshao/opt/miniconda3/lib/python3.10/site-packages/geopandas/io/file.py:362: FutureWarning: pandas.Int64Index is deprecated and will be removed from pandas in a future version. Use pandas.Index with the appropriate dtype instead.\n",
      "  pd.Int64Index,\n"
     ]
    },
    {
     "name": "stdout",
     "output_type": "stream",
     "text": [
      "diff_min_a_n\n"
     ]
    },
    {
     "name": "stderr",
     "output_type": "stream",
     "text": [
      "/Users/yaxiongshao/opt/miniconda3/lib/python3.10/site-packages/geopandas/io/file.py:362: FutureWarning: pandas.Int64Index is deprecated and will be removed from pandas in a future version. Use pandas.Index with the appropriate dtype instead.\n",
      "  pd.Int64Index,\n"
     ]
    },
    {
     "name": "stdout",
     "output_type": "stream",
     "text": [
      "diff_min_f_n\n"
     ]
    },
    {
     "name": "stderr",
     "output_type": "stream",
     "text": [
      "/Users/yaxiongshao/opt/miniconda3/lib/python3.10/site-packages/geopandas/io/file.py:362: FutureWarning: pandas.Int64Index is deprecated and will be removed from pandas in a future version. Use pandas.Index with the appropriate dtype instead.\n",
      "  pd.Int64Index,\n"
     ]
    }
   ],
   "source": [
    "for col in gdf2.columns:\n",
    "    if col.startswith(\"diff\"):\n",
    "        print(col)\n",
    "        gdf2.to_file('E2SVCA_Diff.gpkg', driver='GPKG', layer=col) "
   ]
  },
  {
   "cell_type": "code",
   "execution_count": 12,
   "metadata": {},
   "outputs": [
    {
     "name": "stderr",
     "output_type": "stream",
     "text": [
      "/Users/yaxiongshao/opt/miniconda3/lib/python3.10/site-packages/geopandas/io/file.py:362: FutureWarning: pandas.Int64Index is deprecated and will be removed from pandas in a future version. Use pandas.Index with the appropriate dtype instead.\n",
      "  pd.Int64Index,\n",
      "/var/folders/7s/gg08bxbn5_lgc58vh1jbwxs00000gn/T/ipykernel_79943/1390818739.py:1: UserWarning: Column names longer than 10 characters will be truncated when saved to ESRI Shapefile.\n",
      "  gdf2.to_file('E2SVCA_Diff.shp')\n"
     ]
    }
   ],
   "source": [
    "gdf2.to_file('E2SVCA_Diff.shp') "
   ]
  },
  {
   "cell_type": "code",
   "execution_count": null,
   "metadata": {},
   "outputs": [],
   "source": []
  },
  {
   "cell_type": "code",
   "execution_count": null,
   "metadata": {},
   "outputs": [],
   "source": []
  },
  {
   "cell_type": "code",
   "execution_count": null,
   "metadata": {},
   "outputs": [],
   "source": []
  },
  {
   "cell_type": "code",
   "execution_count": null,
   "metadata": {},
   "outputs": [],
   "source": []
  },
  {
   "cell_type": "code",
   "execution_count": null,
   "metadata": {},
   "outputs": [],
   "source": []
  },
  {
   "cell_type": "code",
   "execution_count": null,
   "metadata": {},
   "outputs": [],
   "source": []
  },
  {
   "cell_type": "code",
   "execution_count": null,
   "metadata": {},
   "outputs": [],
   "source": []
  },
  {
   "cell_type": "markdown",
   "metadata": {},
   "source": [
    "## part 3  normalized results differences"
   ]
  },
  {
   "cell_type": "markdown",
   "metadata": {},
   "source": [
    "## acc1800_max_f"
   ]
  },
  {
   "cell_type": "code",
   "execution_count": 37,
   "metadata": {},
   "outputs": [
    {
     "ename": "AttributeError",
     "evalue": "'DataFrame' object has no attribute 'acc1800_n_1'",
     "output_type": "error",
     "traceback": [
      "\u001b[0;31m---------------------------------------------------------------------------\u001b[0m",
      "\u001b[0;31mAttributeError\u001b[0m                            Traceback (most recent call last)",
      "\u001b[1;32m/Users/yaxiongshao/Documents/GitHub/E2SVCA_15MI_BLOCKS/5.Accessibility/10.ScatterPlot/DiffMaps.ipynb Cell 26\u001b[0m in \u001b[0;36m<cell line: 1>\u001b[0;34m()\u001b[0m\n\u001b[0;32m----> <a href='vscode-notebook-cell:/Users/yaxiongshao/Documents/GitHub/E2SVCA_15MI_BLOCKS/5.Accessibility/10.ScatterPlot/DiffMaps.ipynb#X21sZmlsZQ%3D%3D?line=0'>1</a>\u001b[0m diff_max_f\u001b[39m=\u001b[39m(df\u001b[39m.\u001b[39;49macc1800_n_1 \u001b[39m-\u001b[39m df\u001b[39m.\u001b[39macc1800_max_f)\u001b[39m.\u001b[39mto_frame()\n\u001b[1;32m      <a href='vscode-notebook-cell:/Users/yaxiongshao/Documents/GitHub/E2SVCA_15MI_BLOCKS/5.Accessibility/10.ScatterPlot/DiffMaps.ipynb#X21sZmlsZQ%3D%3D?line=1'>2</a>\u001b[0m diff_max_f\u001b[39m.\u001b[39mcolumns\u001b[39m=\u001b[39m[\u001b[39m'\u001b[39m\u001b[39mdiff_max_f\u001b[39m\u001b[39m'\u001b[39m]\n\u001b[1;32m      <a href='vscode-notebook-cell:/Users/yaxiongshao/Documents/GitHub/E2SVCA_15MI_BLOCKS/5.Accessibility/10.ScatterPlot/DiffMaps.ipynb#X21sZmlsZQ%3D%3D?line=2'>3</a>\u001b[0m diff_max_f\u001b[39m.\u001b[39mhead()\n",
      "File \u001b[0;32m~/opt/miniconda3/lib/python3.10/site-packages/pandas/core/generic.py:5575\u001b[0m, in \u001b[0;36mNDFrame.__getattr__\u001b[0;34m(self, name)\u001b[0m\n\u001b[1;32m   5568\u001b[0m \u001b[39mif\u001b[39;00m (\n\u001b[1;32m   5569\u001b[0m     name \u001b[39mnot\u001b[39;00m \u001b[39min\u001b[39;00m \u001b[39mself\u001b[39m\u001b[39m.\u001b[39m_internal_names_set\n\u001b[1;32m   5570\u001b[0m     \u001b[39mand\u001b[39;00m name \u001b[39mnot\u001b[39;00m \u001b[39min\u001b[39;00m \u001b[39mself\u001b[39m\u001b[39m.\u001b[39m_metadata\n\u001b[1;32m   5571\u001b[0m     \u001b[39mand\u001b[39;00m name \u001b[39mnot\u001b[39;00m \u001b[39min\u001b[39;00m \u001b[39mself\u001b[39m\u001b[39m.\u001b[39m_accessors\n\u001b[1;32m   5572\u001b[0m     \u001b[39mand\u001b[39;00m \u001b[39mself\u001b[39m\u001b[39m.\u001b[39m_info_axis\u001b[39m.\u001b[39m_can_hold_identifiers_and_holds_name(name)\n\u001b[1;32m   5573\u001b[0m ):\n\u001b[1;32m   5574\u001b[0m     \u001b[39mreturn\u001b[39;00m \u001b[39mself\u001b[39m[name]\n\u001b[0;32m-> 5575\u001b[0m \u001b[39mreturn\u001b[39;00m \u001b[39mobject\u001b[39;49m\u001b[39m.\u001b[39;49m\u001b[39m__getattribute__\u001b[39;49m(\u001b[39mself\u001b[39;49m, name)\n",
      "\u001b[0;31mAttributeError\u001b[0m: 'DataFrame' object has no attribute 'acc1800_n_1'"
     ]
    }
   ],
   "source": [
    "diff_max_f=(df.acc1800_n_1 - df.acc1800_max_f).to_frame()\n",
    "diff_max_f.columns=['diff_max_f']\n",
    "diff_max_f.head()"
   ]
  },
  {
   "cell_type": "code",
   "execution_count": 7,
   "metadata": {},
   "outputs": [
    {
     "data": {
      "text/plain": [
       "(27, 1)"
      ]
     },
     "execution_count": 7,
     "metadata": {},
     "output_type": "execute_result"
    }
   ],
   "source": [
    "diff_max_f_1=diff_max_f[(diff_max_f['diff_max_f']==0) ]\n",
    "diff_max_f_1.shape"
   ]
  },
  {
   "cell_type": "code",
   "execution_count": 8,
   "metadata": {},
   "outputs": [
    {
     "data": {
      "text/plain": [
       "(99032, 1)"
      ]
     },
     "execution_count": 8,
     "metadata": {},
     "output_type": "execute_result"
    }
   ],
   "source": [
    "diff_max_f.shape"
   ]
  },
  {
   "cell_type": "code",
   "execution_count": 9,
   "metadata": {},
   "outputs": [
    {
     "data": {
      "text/plain": [
       "(90432, 1)"
      ]
     },
     "execution_count": 9,
     "metadata": {},
     "output_type": "execute_result"
    }
   ],
   "source": [
    "diff_max_f_1=diff_max_f[(diff_max_f['diff_max_f']>=-0.005) & (diff_max_f['diff_max_f']<=0.005)]\n",
    "diff_max_f_1.shape"
   ]
  },
  {
   "cell_type": "code",
   "execution_count": 10,
   "metadata": {},
   "outputs": [
    {
     "data": {
      "text/plain": [
       "(5087, 1)"
      ]
     },
     "execution_count": 10,
     "metadata": {},
     "output_type": "execute_result"
    }
   ],
   "source": [
    "diff_max_f_1=diff_max_f[(diff_max_f['diff_max_f']<-0.005) ]#below\n",
    "diff_max_f_1.shape"
   ]
  },
  {
   "cell_type": "code",
   "execution_count": 11,
   "metadata": {},
   "outputs": [
    {
     "data": {
      "text/plain": [
       "(3513, 1)"
      ]
     },
     "execution_count": 11,
     "metadata": {},
     "output_type": "execute_result"
    }
   ],
   "source": [
    "diff_max_f_1=diff_max_f[(diff_max_f['diff_max_f']>0.005)]# above\n",
    "diff_max_f_1.shape"
   ]
  },
  {
   "cell_type": "code",
   "execution_count": 12,
   "metadata": {},
   "outputs": [],
   "source": [
    "# make a table\n",
    "# diff map\n",
    "#poor area , "
   ]
  },
  {
   "cell_type": "markdown",
   "metadata": {},
   "source": [
    "## acc1800_min_a"
   ]
  },
  {
   "cell_type": "code",
   "execution_count": 13,
   "metadata": {},
   "outputs": [
    {
     "data": {
      "text/html": [
       "<div>\n",
       "<style scoped>\n",
       "    .dataframe tbody tr th:only-of-type {\n",
       "        vertical-align: middle;\n",
       "    }\n",
       "\n",
       "    .dataframe tbody tr th {\n",
       "        vertical-align: top;\n",
       "    }\n",
       "\n",
       "    .dataframe thead th {\n",
       "        text-align: right;\n",
       "    }\n",
       "</style>\n",
       "<table border=\"1\" class=\"dataframe\">\n",
       "  <thead>\n",
       "    <tr style=\"text-align: right;\">\n",
       "      <th></th>\n",
       "      <th>diff_min_a</th>\n",
       "    </tr>\n",
       "  </thead>\n",
       "  <tbody>\n",
       "    <tr>\n",
       "      <th>0</th>\n",
       "      <td>0.275641</td>\n",
       "    </tr>\n",
       "    <tr>\n",
       "      <th>1</th>\n",
       "      <td>-0.003780</td>\n",
       "    </tr>\n",
       "    <tr>\n",
       "      <th>2</th>\n",
       "      <td>-0.035583</td>\n",
       "    </tr>\n",
       "    <tr>\n",
       "      <th>3</th>\n",
       "      <td>0.026844</td>\n",
       "    </tr>\n",
       "    <tr>\n",
       "      <th>4</th>\n",
       "      <td>-0.008651</td>\n",
       "    </tr>\n",
       "  </tbody>\n",
       "</table>\n",
       "</div>"
      ],
      "text/plain": [
       "   diff_min_a\n",
       "0    0.275641\n",
       "1   -0.003780\n",
       "2   -0.035583\n",
       "3    0.026844\n",
       "4   -0.008651"
      ]
     },
     "execution_count": 13,
     "metadata": {},
     "output_type": "execute_result"
    }
   ],
   "source": [
    "diff_min_a=(df.acc1800_n_1 - df.acc1800_min_a).to_frame()\n",
    "diff_min_a.columns=['diff_min_a']\n",
    "diff_min_a.head()"
   ]
  },
  {
   "cell_type": "code",
   "execution_count": 14,
   "metadata": {},
   "outputs": [
    {
     "data": {
      "text/plain": [
       "(1928, 1)"
      ]
     },
     "execution_count": 14,
     "metadata": {},
     "output_type": "execute_result"
    }
   ],
   "source": [
    "diff_min_a_1=diff_min_a[(diff_min_a['diff_min_a']>=-0.005) & (diff_min_a['diff_min_a']<=0.005)]\n",
    "diff_min_a_1.shape"
   ]
  },
  {
   "cell_type": "code",
   "execution_count": 15,
   "metadata": {},
   "outputs": [
    {
     "data": {
      "text/plain": [
       "(6494, 1)"
      ]
     },
     "execution_count": 15,
     "metadata": {},
     "output_type": "execute_result"
    }
   ],
   "source": [
    "diff_min_a_1=diff_min_a[(diff_min_a['diff_min_a']<-0.005) ]#below\n",
    "diff_min_a_1.shape"
   ]
  },
  {
   "cell_type": "code",
   "execution_count": 16,
   "metadata": {},
   "outputs": [
    {
     "data": {
      "text/plain": [
       "(90610, 1)"
      ]
     },
     "execution_count": 16,
     "metadata": {},
     "output_type": "execute_result"
    }
   ],
   "source": [
    "diff_min_a_1=diff_min_a[ (diff_min_a['diff_min_a']>0.005)]#above\n",
    "diff_min_a_1.shape"
   ]
  },
  {
   "cell_type": "markdown",
   "metadata": {},
   "source": [
    "## acc1800_min_f"
   ]
  },
  {
   "cell_type": "code",
   "execution_count": 17,
   "metadata": {},
   "outputs": [
    {
     "data": {
      "text/html": [
       "<div>\n",
       "<style scoped>\n",
       "    .dataframe tbody tr th:only-of-type {\n",
       "        vertical-align: middle;\n",
       "    }\n",
       "\n",
       "    .dataframe tbody tr th {\n",
       "        vertical-align: top;\n",
       "    }\n",
       "\n",
       "    .dataframe thead th {\n",
       "        text-align: right;\n",
       "    }\n",
       "</style>\n",
       "<table border=\"1\" class=\"dataframe\">\n",
       "  <thead>\n",
       "    <tr style=\"text-align: right;\">\n",
       "      <th></th>\n",
       "      <th>diff_min_f</th>\n",
       "    </tr>\n",
       "  </thead>\n",
       "  <tbody>\n",
       "    <tr>\n",
       "      <th>0</th>\n",
       "      <td>0.001060</td>\n",
       "    </tr>\n",
       "    <tr>\n",
       "      <th>1</th>\n",
       "      <td>0.000742</td>\n",
       "    </tr>\n",
       "    <tr>\n",
       "      <th>2</th>\n",
       "      <td>0.000769</td>\n",
       "    </tr>\n",
       "    <tr>\n",
       "      <th>3</th>\n",
       "      <td>0.000558</td>\n",
       "    </tr>\n",
       "    <tr>\n",
       "      <th>4</th>\n",
       "      <td>0.000680</td>\n",
       "    </tr>\n",
       "  </tbody>\n",
       "</table>\n",
       "</div>"
      ],
      "text/plain": [
       "   diff_min_f\n",
       "0    0.001060\n",
       "1    0.000742\n",
       "2    0.000769\n",
       "3    0.000558\n",
       "4    0.000680"
      ]
     },
     "execution_count": 17,
     "metadata": {},
     "output_type": "execute_result"
    }
   ],
   "source": [
    "diff_df=(df.acc1800_n_1 - df.acc1800_min_f).to_frame()\n",
    "diff_df.columns=['diff_min_f']\n",
    "diff_min_f.head()"
   ]
  },
  {
   "cell_type": "code",
   "execution_count": 18,
   "metadata": {},
   "outputs": [
    {
     "data": {
      "text/plain": [
       "(27, 1)"
      ]
     },
     "execution_count": 18,
     "metadata": {},
     "output_type": "execute_result"
    }
   ],
   "source": [
    "diff_min_f_1=diff_min_f[(diff_min_f['diff_min_f']==0)]\n",
    "diff_min_f_1.shape"
   ]
  },
  {
   "cell_type": "code",
   "execution_count": 19,
   "metadata": {},
   "outputs": [
    {
     "data": {
      "text/plain": [
       "(96476, 1)"
      ]
     },
     "execution_count": 19,
     "metadata": {},
     "output_type": "execute_result"
    }
   ],
   "source": [
    "diff_df_1=diff_df[(diff_df['diff_df']>=-0.005) & (diff_df['diff_df']<=0.005)]\n",
    "diff_df_1.shape"
   ]
  },
  {
   "cell_type": "code",
   "execution_count": 20,
   "metadata": {},
   "outputs": [
    {
     "data": {
      "text/plain": [
       "(1517, 1)"
      ]
     },
     "execution_count": 20,
     "metadata": {},
     "output_type": "execute_result"
    }
   ],
   "source": [
    "diff_min_f_1=diff_min_f[(diff_min_f['diff_min_f']<-0.005) ]#below\n",
    "diff_min_f_1.shape"
   ]
  },
  {
   "cell_type": "code",
   "execution_count": 21,
   "metadata": {},
   "outputs": [
    {
     "data": {
      "text/plain": [
       "(1039, 1)"
      ]
     },
     "execution_count": 21,
     "metadata": {},
     "output_type": "execute_result"
    }
   ],
   "source": [
    "diff_min_f_1=diff_min_f[ (diff_min_f['diff_min_f']>0.005)]# above\n",
    "diff_min_f_1.shape"
   ]
  },
  {
   "cell_type": "code",
   "execution_count": null,
   "metadata": {},
   "outputs": [],
   "source": []
  },
  {
   "cell_type": "code",
   "execution_count": null,
   "metadata": {},
   "outputs": [],
   "source": []
  },
  {
   "cell_type": "code",
   "execution_count": null,
   "metadata": {},
   "outputs": [],
   "source": []
  },
  {
   "cell_type": "markdown",
   "metadata": {},
   "source": [
    "## part 4"
   ]
  },
  {
   "cell_type": "markdown",
   "metadata": {},
   "source": [
    "## map"
   ]
  },
  {
   "cell_type": "code",
   "execution_count": 22,
   "metadata": {},
   "outputs": [
    {
     "data": {
      "text/html": [
       "<div>\n",
       "<style scoped>\n",
       "    .dataframe tbody tr th:only-of-type {\n",
       "        vertical-align: middle;\n",
       "    }\n",
       "\n",
       "    .dataframe tbody tr th {\n",
       "        vertical-align: top;\n",
       "    }\n",
       "\n",
       "    .dataframe thead th {\n",
       "        text-align: right;\n",
       "    }\n",
       "</style>\n",
       "<table border=\"1\" class=\"dataframe\">\n",
       "  <thead>\n",
       "    <tr style=\"text-align: right;\">\n",
       "      <th></th>\n",
       "      <th>GEOID10</th>\n",
       "      <th>POP10</th>\n",
       "      <th>LAT</th>\n",
       "      <th>LON</th>\n",
       "      <th>geometry</th>\n",
       "    </tr>\n",
       "  </thead>\n",
       "  <tbody>\n",
       "    <tr>\n",
       "      <th>0</th>\n",
       "      <td>170318046091014</td>\n",
       "      <td>88</td>\n",
       "      <td>42.035398</td>\n",
       "      <td>-88.047327</td>\n",
       "      <td>POLYGON ((-88.04667 42.03609, -88.04655 42.036...</td>\n",
       "    </tr>\n",
       "    <tr>\n",
       "      <th>1</th>\n",
       "      <td>170318234004046</td>\n",
       "      <td>4</td>\n",
       "      <td>41.663501</td>\n",
       "      <td>-87.707536</td>\n",
       "      <td>POLYGON ((-87.70602 41.66378, -87.70557 41.663...</td>\n",
       "    </tr>\n",
       "    <tr>\n",
       "      <th>2</th>\n",
       "      <td>170318226022022</td>\n",
       "      <td>69</td>\n",
       "      <td>41.699074</td>\n",
       "      <td>-87.745527</td>\n",
       "      <td>POLYGON ((-87.74494 41.69999, -87.74494 41.699...</td>\n",
       "    </tr>\n",
       "    <tr>\n",
       "      <th>3</th>\n",
       "      <td>170318232002032</td>\n",
       "      <td>2</td>\n",
       "      <td>41.662969</td>\n",
       "      <td>-87.742686</td>\n",
       "      <td>POLYGON ((-87.73946 41.66173, -87.73964 41.661...</td>\n",
       "    </tr>\n",
       "    <tr>\n",
       "      <th>4</th>\n",
       "      <td>170318233023013</td>\n",
       "      <td>0</td>\n",
       "      <td>41.661378</td>\n",
       "      <td>-87.711877</td>\n",
       "      <td>POLYGON ((-87.71278 41.65982, -87.71278 41.659...</td>\n",
       "    </tr>\n",
       "  </tbody>\n",
       "</table>\n",
       "</div>"
      ],
      "text/plain": [
       "           GEOID10  POP10        LAT        LON  \\\n",
       "0  170318046091014     88  42.035398 -88.047327   \n",
       "1  170318234004046      4  41.663501 -87.707536   \n",
       "2  170318226022022     69  41.699074 -87.745527   \n",
       "3  170318232002032      2  41.662969 -87.742686   \n",
       "4  170318233023013      0  41.661378 -87.711877   \n",
       "\n",
       "                                            geometry  \n",
       "0  POLYGON ((-88.04667 42.03609, -88.04655 42.036...  \n",
       "1  POLYGON ((-87.70602 41.66378, -87.70557 41.663...  \n",
       "2  POLYGON ((-87.74494 41.69999, -87.74494 41.699...  \n",
       "3  POLYGON ((-87.73946 41.66173, -87.73964 41.661...  \n",
       "4  POLYGON ((-87.71278 41.65982, -87.71278 41.659...  "
      ]
     },
     "execution_count": 22,
     "metadata": {},
     "output_type": "execute_result"
    }
   ],
   "source": [
    "gdf= gpd.read_file(\"/Users/yaxiongshao/Documents/GitHub/E2SVCA_15MI_BLOCKS/1.Supply/data/Census2010/CookCountyBlocks/Blocks.shp\").drop(columns=['TRACTCE10','HOUSING10'])\n",
    "gdf['GEOID10'] = gdf['GEOID10'].astype('int64')\n",
    "gdf.head()"
   ]
  },
  {
   "cell_type": "code",
   "execution_count": 23,
   "metadata": {},
   "outputs": [
    {
     "data": {
      "text/plain": [
       "GEOID10        int64\n",
       "POP10          int64\n",
       "LAT          float64\n",
       "LON          float64\n",
       "geometry    geometry\n",
       "dtype: object"
      ]
     },
     "execution_count": 23,
     "metadata": {},
     "output_type": "execute_result"
    }
   ],
   "source": [
    "gdf.dtypes"
   ]
  },
  {
   "cell_type": "code",
   "execution_count": 24,
   "metadata": {},
   "outputs": [
    {
     "data": {
      "text/html": [
       "<div>\n",
       "<style scoped>\n",
       "    .dataframe tbody tr th:only-of-type {\n",
       "        vertical-align: middle;\n",
       "    }\n",
       "\n",
       "    .dataframe tbody tr th {\n",
       "        vertical-align: top;\n",
       "    }\n",
       "\n",
       "    .dataframe thead th {\n",
       "        text-align: right;\n",
       "    }\n",
       "</style>\n",
       "<table border=\"1\" class=\"dataframe\">\n",
       "  <thead>\n",
       "    <tr style=\"text-align: right;\">\n",
       "      <th></th>\n",
       "      <th>GEOID10</th>\n",
       "      <th>POP10</th>\n",
       "      <th>LAT</th>\n",
       "      <th>LON</th>\n",
       "      <th>geometry</th>\n",
       "      <th>geoid</th>\n",
       "      <th>acc1800_n_1</th>\n",
       "      <th>acc1800_max_f</th>\n",
       "      <th>acc1800_min_f</th>\n",
       "      <th>acc1800_min_a</th>\n",
       "      <th>diff_max_f</th>\n",
       "      <th>diff_min_a</th>\n",
       "      <th>diff_min_f</th>\n",
       "    </tr>\n",
       "  </thead>\n",
       "  <tbody>\n",
       "    <tr>\n",
       "      <th>0</th>\n",
       "      <td>170318046091014</td>\n",
       "      <td>88</td>\n",
       "      <td>42.035398</td>\n",
       "      <td>-88.047327</td>\n",
       "      <td>POLYGON ((-88.04667 42.03609, -88.04655 42.036...</td>\n",
       "      <td>170318046091014</td>\n",
       "      <td>0.576805</td>\n",
       "      <td>0.577585</td>\n",
       "      <td>0.575744</td>\n",
       "      <td>0.301164</td>\n",
       "      <td>-0.000780</td>\n",
       "      <td>0.275641</td>\n",
       "      <td>0.001060</td>\n",
       "    </tr>\n",
       "    <tr>\n",
       "      <th>1</th>\n",
       "      <td>170318234004046</td>\n",
       "      <td>4</td>\n",
       "      <td>41.663501</td>\n",
       "      <td>-87.707536</td>\n",
       "      <td>POLYGON ((-87.70602 41.66378, -87.70557 41.663...</td>\n",
       "      <td>170318234004046</td>\n",
       "      <td>0.505850</td>\n",
       "      <td>0.506456</td>\n",
       "      <td>0.505109</td>\n",
       "      <td>0.509630</td>\n",
       "      <td>-0.000605</td>\n",
       "      <td>-0.003780</td>\n",
       "      <td>0.000742</td>\n",
       "    </tr>\n",
       "    <tr>\n",
       "      <th>2</th>\n",
       "      <td>170318226022022</td>\n",
       "      <td>69</td>\n",
       "      <td>41.699074</td>\n",
       "      <td>-87.745527</td>\n",
       "      <td>POLYGON ((-87.74494 41.69999, -87.74494 41.699...</td>\n",
       "      <td>170318226022022</td>\n",
       "      <td>0.567752</td>\n",
       "      <td>0.568316</td>\n",
       "      <td>0.566983</td>\n",
       "      <td>0.603336</td>\n",
       "      <td>-0.000564</td>\n",
       "      <td>-0.035583</td>\n",
       "      <td>0.000769</td>\n",
       "    </tr>\n",
       "    <tr>\n",
       "      <th>3</th>\n",
       "      <td>170318232002032</td>\n",
       "      <td>2</td>\n",
       "      <td>41.662969</td>\n",
       "      <td>-87.742686</td>\n",
       "      <td>POLYGON ((-87.73946 41.66173, -87.73964 41.661...</td>\n",
       "      <td>170318232002032</td>\n",
       "      <td>0.527867</td>\n",
       "      <td>0.528555</td>\n",
       "      <td>0.527309</td>\n",
       "      <td>0.501024</td>\n",
       "      <td>-0.000688</td>\n",
       "      <td>0.026844</td>\n",
       "      <td>0.000558</td>\n",
       "    </tr>\n",
       "    <tr>\n",
       "      <th>4</th>\n",
       "      <td>170318233023013</td>\n",
       "      <td>0</td>\n",
       "      <td>41.661378</td>\n",
       "      <td>-87.711877</td>\n",
       "      <td>POLYGON ((-87.71278 41.65982, -87.71278 41.659...</td>\n",
       "      <td>170318233023013</td>\n",
       "      <td>0.517321</td>\n",
       "      <td>0.517947</td>\n",
       "      <td>0.516641</td>\n",
       "      <td>0.525972</td>\n",
       "      <td>-0.000626</td>\n",
       "      <td>-0.008651</td>\n",
       "      <td>0.000680</td>\n",
       "    </tr>\n",
       "  </tbody>\n",
       "</table>\n",
       "</div>"
      ],
      "text/plain": [
       "           GEOID10  POP10        LAT        LON  \\\n",
       "0  170318046091014     88  42.035398 -88.047327   \n",
       "1  170318234004046      4  41.663501 -87.707536   \n",
       "2  170318226022022     69  41.699074 -87.745527   \n",
       "3  170318232002032      2  41.662969 -87.742686   \n",
       "4  170318233023013      0  41.661378 -87.711877   \n",
       "\n",
       "                                            geometry            geoid  \\\n",
       "0  POLYGON ((-88.04667 42.03609, -88.04655 42.036...  170318046091014   \n",
       "1  POLYGON ((-87.70602 41.66378, -87.70557 41.663...  170318234004046   \n",
       "2  POLYGON ((-87.74494 41.69999, -87.74494 41.699...  170318226022022   \n",
       "3  POLYGON ((-87.73946 41.66173, -87.73964 41.661...  170318232002032   \n",
       "4  POLYGON ((-87.71278 41.65982, -87.71278 41.659...  170318233023013   \n",
       "\n",
       "   acc1800_n_1  acc1800_max_f  acc1800_min_f  acc1800_min_a  diff_max_f  \\\n",
       "0     0.576805       0.577585       0.575744       0.301164   -0.000780   \n",
       "1     0.505850       0.506456       0.505109       0.509630   -0.000605   \n",
       "2     0.567752       0.568316       0.566983       0.603336   -0.000564   \n",
       "3     0.527867       0.528555       0.527309       0.501024   -0.000688   \n",
       "4     0.517321       0.517947       0.516641       0.525972   -0.000626   \n",
       "\n",
       "   diff_min_a  diff_min_f  \n",
       "0    0.275641    0.001060  \n",
       "1   -0.003780    0.000742  \n",
       "2   -0.035583    0.000769  \n",
       "3    0.026844    0.000558  \n",
       "4   -0.008651    0.000680  "
      ]
     },
     "execution_count": 24,
     "metadata": {},
     "output_type": "execute_result"
    }
   ],
   "source": [
    "gdf2=gdf.merge(df,left_on='GEOID10',right_on='geoid')\n",
    "gdf2.head()"
   ]
  },
  {
   "cell_type": "code",
   "execution_count": 25,
   "metadata": {},
   "outputs": [
    {
     "name": "stderr",
     "output_type": "stream",
     "text": [
      "/Users/yaxiongshao/opt/miniconda3/lib/python3.10/site-packages/geopandas/io/file.py:362: FutureWarning: pandas.Int64Index is deprecated and will be removed from pandas in a future version. Use pandas.Index with the appropriate dtype instead.\n",
      "  pd.Int64Index,\n",
      "/Users/yaxiongshao/opt/miniconda3/lib/python3.10/site-packages/geopandas/io/file.py:362: FutureWarning: pandas.Int64Index is deprecated and will be removed from pandas in a future version. Use pandas.Index with the appropriate dtype instead.\n",
      "  pd.Int64Index,\n",
      "/Users/yaxiongshao/opt/miniconda3/lib/python3.10/site-packages/geopandas/io/file.py:362: FutureWarning: pandas.Int64Index is deprecated and will be removed from pandas in a future version. Use pandas.Index with the appropriate dtype instead.\n",
      "  pd.Int64Index,\n"
     ]
    }
   ],
   "source": [
    "gdf2.to_file('E2SVCA_Normalized_Diff.gpkg', driver='GPKG', layer='diff_max_f') \n",
    "gdf2.to_file('E2SVCA_Normalized_Diff.gpkg', driver='GPKG', layer='diff_min_a') \n",
    "gdf2.to_file('E2SVCA_Normalized_Diff.gpkg', driver='GPKG', layer='diff_min_f') "
   ]
  },
  {
   "cell_type": "code",
   "execution_count": null,
   "metadata": {},
   "outputs": [],
   "source": []
  },
  {
   "cell_type": "markdown",
   "metadata": {},
   "source": [
    "## Change margin to 0.0001"
   ]
  },
  {
   "cell_type": "markdown",
   "metadata": {},
   "source": [
    "### acc1800_max_f"
   ]
  },
  {
   "cell_type": "code",
   "execution_count": 50,
   "metadata": {},
   "outputs": [
    {
     "data": {
      "text/html": [
       "<div>\n",
       "<style scoped>\n",
       "    .dataframe tbody tr th:only-of-type {\n",
       "        vertical-align: middle;\n",
       "    }\n",
       "\n",
       "    .dataframe tbody tr th {\n",
       "        vertical-align: top;\n",
       "    }\n",
       "\n",
       "    .dataframe thead th {\n",
       "        text-align: right;\n",
       "    }\n",
       "</style>\n",
       "<table border=\"1\" class=\"dataframe\">\n",
       "  <thead>\n",
       "    <tr style=\"text-align: right;\">\n",
       "      <th></th>\n",
       "      <th>diff_max_f</th>\n",
       "    </tr>\n",
       "  </thead>\n",
       "  <tbody>\n",
       "    <tr>\n",
       "      <th>0</th>\n",
       "      <td>-0.000780</td>\n",
       "    </tr>\n",
       "    <tr>\n",
       "      <th>1</th>\n",
       "      <td>-0.000605</td>\n",
       "    </tr>\n",
       "    <tr>\n",
       "      <th>2</th>\n",
       "      <td>-0.000564</td>\n",
       "    </tr>\n",
       "    <tr>\n",
       "      <th>3</th>\n",
       "      <td>-0.000688</td>\n",
       "    </tr>\n",
       "    <tr>\n",
       "      <th>4</th>\n",
       "      <td>-0.000626</td>\n",
       "    </tr>\n",
       "  </tbody>\n",
       "</table>\n",
       "</div>"
      ],
      "text/plain": [
       "   diff_max_f\n",
       "0   -0.000780\n",
       "1   -0.000605\n",
       "2   -0.000564\n",
       "3   -0.000688\n",
       "4   -0.000626"
      ]
     },
     "execution_count": 50,
     "metadata": {},
     "output_type": "execute_result"
    }
   ],
   "source": [
    "margin=0.000\n",
    "column='diff_max_f'\n",
    "diff_df=(df.acc1800_n_1 - df.acc1800_max_f).to_frame()\n",
    "diff_df.columns=[column]\n",
    "diff_df.head()"
   ]
  },
  {
   "cell_type": "code",
   "execution_count": 39,
   "metadata": {},
   "outputs": [
    {
     "name": "stdout",
     "output_type": "stream",
     "text": [
      "(36881, 1) (27, 1) (62124, 1)\n"
     ]
    }
   ],
   "source": []
  },
  {
   "cell_type": "code",
   "execution_count": 51,
   "metadata": {},
   "outputs": [
    {
     "name": "stdout",
     "output_type": "stream",
     "text": [
      "36881 27 62124\n"
     ]
    }
   ],
   "source": [
    "diff_df_on=diff_df[(diff_df[column]>=(-1*margin)) & (diff_df[column]<=margin)]\n",
    "diff_df_below=diff_df[(diff_df[column]<(-1*margin)) ]#below\n",
    "diff_df_above=diff_df[ (diff_df[column]>margin)]# above\n",
    "print(diff_df_below.shape[0],diff_df_on.shape[0],diff_df_above.shape[0])"
   ]
  },
  {
   "cell_type": "markdown",
   "metadata": {},
   "source": [
    "### acc1800_min_a"
   ]
  },
  {
   "cell_type": "code",
   "execution_count": 52,
   "metadata": {},
   "outputs": [
    {
     "data": {
      "text/html": [
       "<div>\n",
       "<style scoped>\n",
       "    .dataframe tbody tr th:only-of-type {\n",
       "        vertical-align: middle;\n",
       "    }\n",
       "\n",
       "    .dataframe tbody tr th {\n",
       "        vertical-align: top;\n",
       "    }\n",
       "\n",
       "    .dataframe thead th {\n",
       "        text-align: right;\n",
       "    }\n",
       "</style>\n",
       "<table border=\"1\" class=\"dataframe\">\n",
       "  <thead>\n",
       "    <tr style=\"text-align: right;\">\n",
       "      <th></th>\n",
       "      <th>diff_min_a</th>\n",
       "    </tr>\n",
       "  </thead>\n",
       "  <tbody>\n",
       "    <tr>\n",
       "      <th>0</th>\n",
       "      <td>0.275641</td>\n",
       "    </tr>\n",
       "    <tr>\n",
       "      <th>1</th>\n",
       "      <td>-0.003780</td>\n",
       "    </tr>\n",
       "    <tr>\n",
       "      <th>2</th>\n",
       "      <td>-0.035583</td>\n",
       "    </tr>\n",
       "    <tr>\n",
       "      <th>3</th>\n",
       "      <td>0.026844</td>\n",
       "    </tr>\n",
       "    <tr>\n",
       "      <th>4</th>\n",
       "      <td>-0.008651</td>\n",
       "    </tr>\n",
       "  </tbody>\n",
       "</table>\n",
       "</div>"
      ],
      "text/plain": [
       "   diff_min_a\n",
       "0    0.275641\n",
       "1   -0.003780\n",
       "2   -0.035583\n",
       "3    0.026844\n",
       "4   -0.008651"
      ]
     },
     "execution_count": 52,
     "metadata": {},
     "output_type": "execute_result"
    }
   ],
   "source": [
    "column='diff_min_a'\n",
    "diff_df=(df.acc1800_n_1 - df.acc1800_min_a).to_frame()\n",
    "diff_df.columns=[column]\n",
    "diff_df.head()"
   ]
  },
  {
   "cell_type": "code",
   "execution_count": 53,
   "metadata": {},
   "outputs": [
    {
     "name": "stdout",
     "output_type": "stream",
     "text": [
      "7390 27 91615\n"
     ]
    }
   ],
   "source": [
    "diff_df_on=diff_df[(diff_df[column]>=(-1*margin)) & (diff_df[column]<=margin)]\n",
    "diff_df_below=diff_df[(diff_df[column]<(-1*margin)) ]#below\n",
    "diff_df_above=diff_df[ (diff_df[column]>margin)]# above\n",
    "print(diff_df_below.shape[0],diff_df_on.shape[0],diff_df_above.shape[0])"
   ]
  },
  {
   "cell_type": "markdown",
   "metadata": {},
   "source": [
    "### acc1800_min_f"
   ]
  },
  {
   "cell_type": "code",
   "execution_count": 54,
   "metadata": {},
   "outputs": [
    {
     "data": {
      "text/html": [
       "<div>\n",
       "<style scoped>\n",
       "    .dataframe tbody tr th:only-of-type {\n",
       "        vertical-align: middle;\n",
       "    }\n",
       "\n",
       "    .dataframe tbody tr th {\n",
       "        vertical-align: top;\n",
       "    }\n",
       "\n",
       "    .dataframe thead th {\n",
       "        text-align: right;\n",
       "    }\n",
       "</style>\n",
       "<table border=\"1\" class=\"dataframe\">\n",
       "  <thead>\n",
       "    <tr style=\"text-align: right;\">\n",
       "      <th></th>\n",
       "      <th>diff_min_f</th>\n",
       "    </tr>\n",
       "  </thead>\n",
       "  <tbody>\n",
       "    <tr>\n",
       "      <th>0</th>\n",
       "      <td>0.001060</td>\n",
       "    </tr>\n",
       "    <tr>\n",
       "      <th>1</th>\n",
       "      <td>0.000742</td>\n",
       "    </tr>\n",
       "    <tr>\n",
       "      <th>2</th>\n",
       "      <td>0.000769</td>\n",
       "    </tr>\n",
       "    <tr>\n",
       "      <th>3</th>\n",
       "      <td>0.000558</td>\n",
       "    </tr>\n",
       "    <tr>\n",
       "      <th>4</th>\n",
       "      <td>0.000680</td>\n",
       "    </tr>\n",
       "  </tbody>\n",
       "</table>\n",
       "</div>"
      ],
      "text/plain": [
       "   diff_min_f\n",
       "0    0.001060\n",
       "1    0.000742\n",
       "2    0.000769\n",
       "3    0.000558\n",
       "4    0.000680"
      ]
     },
     "execution_count": 54,
     "metadata": {},
     "output_type": "execute_result"
    }
   ],
   "source": [
    "column='diff_min_f'\n",
    "diff_df=(df.acc1800_n_1 - df.acc1800_min_f).to_frame()\n",
    "diff_df.columns=[column]\n",
    "diff_df.head()"
   ]
  },
  {
   "cell_type": "code",
   "execution_count": 55,
   "metadata": {},
   "outputs": [
    {
     "name": "stdout",
     "output_type": "stream",
     "text": [
      "33202 27 65803\n"
     ]
    }
   ],
   "source": [
    "diff_df_on=diff_df[(diff_df[column]>=(-1*margin)) & (diff_df[column]<=margin)]\n",
    "diff_df_below=diff_df[(diff_df[column]<(-1*margin)) ]#below\n",
    "diff_df_above=diff_df[ (diff_df[column]>margin)]# above\n",
    "print(diff_df_below.shape[0],diff_df_on.shape[0],diff_df_above.shape[0])"
   ]
  }
 ],
 "metadata": {
  "kernelspec": {
   "display_name": "Python 3.10.4 ('base')",
   "language": "python",
   "name": "python3"
  },
  "language_info": {
   "codemirror_mode": {
    "name": "ipython",
    "version": 3
   },
   "file_extension": ".py",
   "mimetype": "text/x-python",
   "name": "python",
   "nbconvert_exporter": "python",
   "pygments_lexer": "ipython3",
   "version": "3.10.4"
  },
  "orig_nbformat": 4,
  "vscode": {
   "interpreter": {
    "hash": "93a3673a3758fdf33d6ba0423f037f6c2442f629d113b8691bc0e228a41716bd"
   }
  }
 },
 "nbformat": 4,
 "nbformat_minor": 2
}
