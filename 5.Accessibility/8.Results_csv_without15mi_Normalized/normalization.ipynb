{
 "cells": [
  {
   "cell_type": "code",
   "execution_count": 1,
   "metadata": {},
   "outputs": [],
   "source": [
    "import pandas as pd\n",
    "import numpy as np\n",
    "import matplotlib.pyplot as plt\n",
    "import seaborn as sns\n",
    "import os\n",
    "import sys\n",
    "import glob"
   ]
  },
  {
   "cell_type": "code",
   "execution_count": 3,
   "metadata": {},
   "outputs": [
    {
     "name": "stdout",
     "output_type": "stream",
     "text": [
      "['../5.Results_csv_without15mi/access_2700_max_f.csv', '../5.Results_csv_without15mi/access_900_1.csv', '../5.Results_csv_without15mi/access_2700_1.csv', '../5.Results_csv_without15mi/access_1800_1.csv', '../5.Results_csv_without15mi/access_900_min_a.csv', '../5.Results_csv_without15mi/access_1800_min_f.csv', '../5.Results_csv_without15mi/access_3600_min_f.csv', '../5.Results_csv_without15mi/access_3600_1.csv', '../5.Results_csv_without15mi/access_3600_min_a.csv', '../5.Results_csv_without15mi/access_1800_min_a.csv', '../5.Results_csv_without15mi/access_900_min_f.csv', '../5.Results_csv_without15mi/access_1800_max_f.csv', '../5.Results_csv_without15mi/access_3600_max_f.csv', '../5.Results_csv_without15mi/access_900_max_f.csv', '../5.Results_csv_without15mi/access_2700_min_f.csv', '../5.Results_csv_without15mi/access_2700_min_a.csv']\n"
     ]
    }
   ],
   "source": [
    "csv_path = '../5.Results_csv_without15mi/*.csv'\n",
    "csv_list = glob.glob(csv_path)\n",
    "print(csv_list)"
   ]
  },
  {
   "cell_type": "code",
   "execution_count": null,
   "metadata": {},
   "outputs": [],
   "source": [
    "for csv in csv_list:\n",
    "    df=pd.read_csv(csv)\n",
    "    _,name=os.path.split(csv)\n",
    "    if '900' in name:\n",
    "        Max = np.max(df['acc900'])\n",
    "        Min = np.min(df['acc900'])\n",
    "        df['acc900_n'] = (df['acc900'] - Min)/(Max - Min)\n",
    "        df.to_csv(name, index=False)\n",
    "    elif '1800' in name:\n",
    "        Max = np.max(df['acc1800'])\n",
    "        Min = np.min(df['acc1800'])\n",
    "        df['acc1800_n'] = (df['acc1800'] - Min)/(Max - Min)\n",
    "        df.to_csv(name, index=False)\n",
    "    elif '2700' in name:\n",
    "        Max = np.max(df['acc2700'])\n",
    "        Min = np.min(df['acc2700'])\n",
    "        df['acc2700_n'] = (df['acc2700'] - Min)/(Max - Min)\n",
    "        df.to_csv(name, index=False)\n",
    "    elif '3600' in name:\n",
    "        Max = np.max(df['acc3600'])\n",
    "        Min = np.min(df['acc3600'])\n",
    "        df['acc3600_n'] = (df['acc3600'] - Min)/(Max - Min)\n",
    "        df.to_csv(name, index=False)"
   ]
  }
 ],
 "metadata": {
  "kernelspec": {
   "display_name": "Python 3.10.4 ('base')",
   "language": "python",
   "name": "python3"
  },
  "language_info": {
   "codemirror_mode": {
    "name": "ipython",
    "version": 3
   },
   "file_extension": ".py",
   "mimetype": "text/x-python",
   "name": "python",
   "nbconvert_exporter": "python",
   "pygments_lexer": "ipython3",
   "version": "3.10.4"
  },
  "orig_nbformat": 4,
  "vscode": {
   "interpreter": {
    "hash": "93a3673a3758fdf33d6ba0423f037f6c2442f629d113b8691bc0e228a41716bd"
   }
  }
 },
 "nbformat": 4,
 "nbformat_minor": 2
}
