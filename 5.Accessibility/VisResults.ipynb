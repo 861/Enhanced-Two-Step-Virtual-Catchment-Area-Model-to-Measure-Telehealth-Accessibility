{
 "cells": [
  {
   "cell_type": "code",
   "execution_count": null,
   "metadata": {},
   "outputs": [],
   "source": []
  },
  {
   "cell_type": "code",
   "execution_count": 4,
   "metadata": {},
   "outputs": [],
   "source": [
    "import altair as alt\n",
    "import geopandas as gpd\n",
    "import pandas as pd\n",
    "import json"
   ]
  },
  {
   "cell_type": "code",
   "execution_count": 3,
   "metadata": {},
   "outputs": [
    {
     "data": {
      "text/html": [
       "<div>\n",
       "<style scoped>\n",
       "    .dataframe tbody tr th:only-of-type {\n",
       "        vertical-align: middle;\n",
       "    }\n",
       "\n",
       "    .dataframe tbody tr th {\n",
       "        vertical-align: top;\n",
       "    }\n",
       "\n",
       "    .dataframe thead th {\n",
       "        text-align: right;\n",
       "    }\n",
       "</style>\n",
       "<table border=\"1\" class=\"dataframe\">\n",
       "  <thead>\n",
       "    <tr style=\"text-align: right;\">\n",
       "      <th></th>\n",
       "      <th>geoid</th>\n",
       "      <th>POP10</th>\n",
       "      <th>orig</th>\n",
       "      <th>acc2700</th>\n",
       "      <th>acc2700_10</th>\n",
       "      <th>geometry</th>\n",
       "    </tr>\n",
       "  </thead>\n",
       "  <tbody>\n",
       "    <tr>\n",
       "      <th>0</th>\n",
       "      <td>170318046091014</td>\n",
       "      <td>88</td>\n",
       "      <td>48951</td>\n",
       "      <td>0.004731</td>\n",
       "      <td>4.731460</td>\n",
       "      <td>POLYGON ((-88.04667 42.03609, -88.04655 42.036...</td>\n",
       "    </tr>\n",
       "    <tr>\n",
       "      <th>1</th>\n",
       "      <td>170318234004046</td>\n",
       "      <td>4</td>\n",
       "      <td>75122</td>\n",
       "      <td>0.003674</td>\n",
       "      <td>3.674355</td>\n",
       "      <td>POLYGON ((-87.70602 41.66378, -87.70557 41.663...</td>\n",
       "    </tr>\n",
       "    <tr>\n",
       "      <th>2</th>\n",
       "      <td>170318226022022</td>\n",
       "      <td>69</td>\n",
       "      <td>74010</td>\n",
       "      <td>0.003643</td>\n",
       "      <td>3.643141</td>\n",
       "      <td>POLYGON ((-87.74494 41.69999, -87.74494 41.699...</td>\n",
       "    </tr>\n",
       "    <tr>\n",
       "      <th>3</th>\n",
       "      <td>170318232002032</td>\n",
       "      <td>2</td>\n",
       "      <td>74701</td>\n",
       "      <td>0.003868</td>\n",
       "      <td>3.868028</td>\n",
       "      <td>POLYGON ((-87.73946 41.66173, -87.73964 41.661...</td>\n",
       "    </tr>\n",
       "    <tr>\n",
       "      <th>4</th>\n",
       "      <td>170318233023013</td>\n",
       "      <td>0</td>\n",
       "      <td>74811</td>\n",
       "      <td>0.003709</td>\n",
       "      <td>3.708776</td>\n",
       "      <td>POLYGON ((-87.71278 41.65982, -87.71278 41.659...</td>\n",
       "    </tr>\n",
       "  </tbody>\n",
       "</table>\n",
       "</div>"
      ],
      "text/plain": [
       "             geoid  POP10   orig   acc2700  acc2700_10  \\\n",
       "0  170318046091014     88  48951  0.004731    4.731460   \n",
       "1  170318234004046      4  75122  0.003674    3.674355   \n",
       "2  170318226022022     69  74010  0.003643    3.643141   \n",
       "3  170318232002032      2  74701  0.003868    3.868028   \n",
       "4  170318233023013      0  74811  0.003709    3.708776   \n",
       "\n",
       "                                            geometry  \n",
       "0  POLYGON ((-88.04667 42.03609, -88.04655 42.036...  \n",
       "1  POLYGON ((-87.70602 41.66378, -87.70557 41.663...  \n",
       "2  POLYGON ((-87.74494 41.69999, -87.74494 41.699...  \n",
       "3  POLYGON ((-87.73946 41.66173, -87.73964 41.661...  \n",
       "4  POLYGON ((-87.71278 41.65982, -87.71278 41.659...  "
      ]
     },
     "execution_count": 3,
     "metadata": {},
     "output_type": "execute_result"
    }
   ],
   "source": [
    " gdf = gpd.read_file(\"/Users/yaxiongshao/Documents/GitHub/E2SVCA_15MI_BLOCKS/5.Accessibility/4.Results_shp/access_2700_min_f.shp\")\n",
    " gdf.head()"
   ]
  },
  {
   "cell_type": "code",
   "execution_count": 5,
   "metadata": {},
   "outputs": [],
   "source": [
    "choro_json = json.loads(gdf.to_json())\n",
    "choro_data = alt.Data(values=choro_json['features'])"
   ]
  },
  {
   "cell_type": "code",
   "execution_count": 20,
   "metadata": {},
   "outputs": [],
   "source": [
    "def gen_map(geodata, color_column, title, tooltip, color_scheme='bluegreen'):\n",
    "    '''\n",
    "    Generates Toronto neighbourhoods map with building count choropleth\n",
    "    '''\n",
    "    \n",
    "    # Add Base Layer\n",
    "    base = alt.Chart(geodata, title = title).mark_geoshape(\n",
    "        stroke='black',\n",
    "        strokeWidth=0.001\n",
    "    ).encode(\n",
    "    ).properties(\n",
    "        width=800,\n",
    "        height=800\n",
    "    )\n",
    "    # Add Choropleth Layer\n",
    "    choro = alt.Chart(geodata).mark_geoshape(\n",
    "        fill='lightgray',\n",
    "\n",
    "    ).encode(\n",
    "        alt.Color(color_column, \n",
    "                  type='quantitative', \n",
    "                  scale=alt.Scale(scheme=color_scheme),\n",
    "                  title = \"Building Counts\"),\n",
    "         tooltip=tooltip\n",
    "    )\n",
    "    return base + choro"
   ]
  },
  {
   "cell_type": "code",
   "execution_count": null,
   "metadata": {},
   "outputs": [],
   "source": [
    "toronto_map=gen_map(geodata=choro_data, color_column='properties.acc2700_10', title=f'Location  style houses', tooltip=['properties.geoid:O','properties.acc2700_10:Q'], color_scheme='yelloworangered')\n",
    "toronto_map"
   ]
  },
  {
   "cell_type": "code",
   "execution_count": null,
   "metadata": {},
   "outputs": [],
   "source": [
    "import altair as alt\n",
    "\n",
    "counties = alt.topo_feature(data.us_10m.url, 'counties')\n",
    "source = data.unemployment.url\n",
    "\n",
    "alt.Chart(counties).mark_geoshape().encode(\n",
    "    color='rate:Q'\n",
    ").transform_lookup(\n",
    "    lookup='id',\n",
    "    from_=alt.LookupData(source, 'id', ['rate'])\n",
    ").project(\n",
    "    type='albersUsa'\n",
    ").properties(\n",
    "    width=500,\n",
    "    height=300\n",
    ")"
   ]
  },
  {
   "cell_type": "code",
   "execution_count": null,
   "metadata": {},
   "outputs": [],
   "source": [
    "# remote geojson data object\n",
    "# url_geojson = 'https://raw.githubusercontent.com/mattijn/datasets/master/two_polygons.geo.json'\n",
    "# data_geojson_remote = alt.Data(url=url_geojson, format=alt.DataFormat(property='features',type='json'))\n",
    "\n",
    "# chart object\n",
    "alt.Chart(choro_data,title = \"Accessbility\").mark_geoshape(\n",
    ").encode(\n",
    "    color=\"properties.acc2700_10:Q\"\n",
    ").project(\n",
    "    type='mercator'\n",
    ").properties(\n",
    "    width=800,\n",
    "    height=800\n",
    ")"
   ]
  }
 ],
 "metadata": {
  "kernelspec": {
   "display_name": "Python 3.10.4 ('base')",
   "language": "python",
   "name": "python3"
  },
  "language_info": {
   "codemirror_mode": {
    "name": "ipython",
    "version": 3
   },
   "file_extension": ".py",
   "mimetype": "text/x-python",
   "name": "python",
   "nbconvert_exporter": "python",
   "pygments_lexer": "ipython3",
   "version": "3.10.4"
  },
  "orig_nbformat": 4,
  "vscode": {
   "interpreter": {
    "hash": "93a3673a3758fdf33d6ba0423f037f6c2442f629d113b8691bc0e228a41716bd"
   }
  }
 },
 "nbformat": 4,
 "nbformat_minor": 2
}
