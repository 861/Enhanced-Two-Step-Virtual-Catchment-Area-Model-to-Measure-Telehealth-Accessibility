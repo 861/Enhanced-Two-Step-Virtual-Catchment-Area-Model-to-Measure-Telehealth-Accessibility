{
 "cells": [
  {
   "cell_type": "code",
   "execution_count": 2,
   "metadata": {},
   "outputs": [],
   "source": [
    "import pandas as pd\n",
    "import numpy as np\n",
    "import matplotlib.pyplot as plt\n",
    "import seaborn as sns\n",
    "import os\n",
    "import sys\n",
    "import glob"
   ]
  },
  {
   "cell_type": "code",
   "execution_count": 21,
   "metadata": {},
   "outputs": [
    {
     "name": "stdout",
     "output_type": "stream",
     "text": [
      "['5.Results_csv_without15mi/access_1800_1.csv', '5.Results_csv_without15mi/access_1800_max_f.csv', '5.Results_csv_without15mi/access_1800_min_a.csv', '5.Results_csv_without15mi/access_1800_min_f.csv', '5.Results_csv_without15mi/access_2700_1.csv', '5.Results_csv_without15mi/access_2700_max_f.csv', '5.Results_csv_without15mi/access_2700_min_a.csv', '5.Results_csv_without15mi/access_2700_min_f.csv', '5.Results_csv_without15mi/access_3600_1.csv', '5.Results_csv_without15mi/access_3600_max_f.csv', '5.Results_csv_without15mi/access_3600_min_a.csv', '5.Results_csv_without15mi/access_3600_min_f.csv', '5.Results_csv_without15mi/access_900_1.csv', '5.Results_csv_without15mi/access_900_max_f.csv', '5.Results_csv_without15mi/access_900_min_a.csv', '5.Results_csv_without15mi/access_900_min_f.csv']\n"
     ]
    }
   ],
   "source": [
    "csv_path = '5.Results_csv_without15mi/*.csv'\n",
    "csv_list = sorted(glob.glob(csv_path))\n",
    "print(csv_list)"
   ]
  },
  {
   "cell_type": "code",
   "execution_count": 22,
   "metadata": {},
   "outputs": [
    {
     "name": "stdout",
     "output_type": "stream",
     "text": [
      "5.Results_csv_without15mi/access_1800_1.csv\n"
     ]
    },
    {
     "data": {
      "text/html": [
       "<div>\n",
       "<style scoped>\n",
       "    .dataframe tbody tr th:only-of-type {\n",
       "        vertical-align: middle;\n",
       "    }\n",
       "\n",
       "    .dataframe tbody tr th {\n",
       "        vertical-align: top;\n",
       "    }\n",
       "\n",
       "    .dataframe thead th {\n",
       "        text-align: right;\n",
       "    }\n",
       "</style>\n",
       "<table border=\"1\" class=\"dataframe\">\n",
       "  <thead>\n",
       "    <tr style=\"text-align: right;\">\n",
       "      <th></th>\n",
       "      <th>geoid</th>\n",
       "      <th>POP10</th>\n",
       "      <th>acc1800</th>\n",
       "      <th>acc1800_1000</th>\n",
       "    </tr>\n",
       "  </thead>\n",
       "  <tbody>\n",
       "    <tr>\n",
       "      <th>count</th>\n",
       "      <td>9.903200e+04</td>\n",
       "      <td>99032.000000</td>\n",
       "      <td>99032.000000</td>\n",
       "      <td>99032.000000</td>\n",
       "    </tr>\n",
       "    <tr>\n",
       "      <th>mean</th>\n",
       "      <td>1.703165e+14</td>\n",
       "      <td>52.454510</td>\n",
       "      <td>0.004139</td>\n",
       "      <td>4.139090</td>\n",
       "    </tr>\n",
       "    <tr>\n",
       "      <th>std</th>\n",
       "      <td>2.619393e+09</td>\n",
       "      <td>81.466686</td>\n",
       "      <td>0.001019</td>\n",
       "      <td>1.019459</td>\n",
       "    </tr>\n",
       "    <tr>\n",
       "      <th>min</th>\n",
       "      <td>1.703101e+14</td>\n",
       "      <td>0.000000</td>\n",
       "      <td>0.000000</td>\n",
       "      <td>0.000000</td>\n",
       "    </tr>\n",
       "    <tr>\n",
       "      <th>25%</th>\n",
       "      <td>1.703152e+14</td>\n",
       "      <td>4.000000</td>\n",
       "      <td>0.003566</td>\n",
       "      <td>3.566328</td>\n",
       "    </tr>\n",
       "    <tr>\n",
       "      <th>50%</th>\n",
       "      <td>1.703180e+14</td>\n",
       "      <td>36.000000</td>\n",
       "      <td>0.004319</td>\n",
       "      <td>4.318733</td>\n",
       "    </tr>\n",
       "    <tr>\n",
       "      <th>75%</th>\n",
       "      <td>1.703182e+14</td>\n",
       "      <td>69.000000</td>\n",
       "      <td>0.004966</td>\n",
       "      <td>4.966259</td>\n",
       "    </tr>\n",
       "    <tr>\n",
       "      <th>max</th>\n",
       "      <td>1.703199e+14</td>\n",
       "      <td>9798.000000</td>\n",
       "      <td>0.006480</td>\n",
       "      <td>6.479615</td>\n",
       "    </tr>\n",
       "  </tbody>\n",
       "</table>\n",
       "</div>"
      ],
      "text/plain": [
       "              geoid         POP10       acc1800  acc1800_1000\n",
       "count  9.903200e+04  99032.000000  99032.000000  99032.000000\n",
       "mean   1.703165e+14     52.454510      0.004139      4.139090\n",
       "std    2.619393e+09     81.466686      0.001019      1.019459\n",
       "min    1.703101e+14      0.000000      0.000000      0.000000\n",
       "25%    1.703152e+14      4.000000      0.003566      3.566328\n",
       "50%    1.703180e+14     36.000000      0.004319      4.318733\n",
       "75%    1.703182e+14     69.000000      0.004966      4.966259\n",
       "max    1.703199e+14   9798.000000      0.006480      6.479615"
      ]
     },
     "execution_count": 22,
     "metadata": {},
     "output_type": "execute_result"
    }
   ],
   "source": [
    "print(csv_list[0])\n",
    "access_1800_1=pd.read_csv(csv_list[0])\n",
    "access_1800_1.describe()"
   ]
  },
  {
   "cell_type": "code",
   "execution_count": 23,
   "metadata": {},
   "outputs": [
    {
     "data": {
      "text/plain": [
       "<AxesSubplot:>"
      ]
     },
     "execution_count": 23,
     "metadata": {},
     "output_type": "execute_result"
    },
    {
     "data": {
      "image/png": "[encoded data removed]",
      "text/plain": [
       "<Figure size 432x288 with 1 Axes>"
      ]
     },
     "metadata": {
      "needs_background": "light"
     },
     "output_type": "display_data"
    }
   ],
   "source": [
    "access_1800_1[\"acc1800_1000\"].hist(bins=100)#,access_1800_max_f[\"acc1800_1000\"].hist(bins=100)"
   ]
  },
  {
   "cell_type": "code",
   "execution_count": 24,
   "metadata": {},
   "outputs": [
    {
     "name": "stdout",
     "output_type": "stream",
     "text": [
      "5.Results_csv_without15mi/access_1800_max_f.csv\n"
     ]
    },
    {
     "data": {
      "text/html": [
       "<div>\n",
       "<style scoped>\n",
       "    .dataframe tbody tr th:only-of-type {\n",
       "        vertical-align: middle;\n",
       "    }\n",
       "\n",
       "    .dataframe tbody tr th {\n",
       "        vertical-align: top;\n",
       "    }\n",
       "\n",
       "    .dataframe thead th {\n",
       "        text-align: right;\n",
       "    }\n",
       "</style>\n",
       "<table border=\"1\" class=\"dataframe\">\n",
       "  <thead>\n",
       "    <tr style=\"text-align: right;\">\n",
       "      <th></th>\n",
       "      <th>geoid</th>\n",
       "      <th>POP10</th>\n",
       "      <th>acc1800</th>\n",
       "      <th>acc1800_1000</th>\n",
       "    </tr>\n",
       "  </thead>\n",
       "  <tbody>\n",
       "    <tr>\n",
       "      <th>count</th>\n",
       "      <td>9.903200e+04</td>\n",
       "      <td>99032.000000</td>\n",
       "      <td>99032.000000</td>\n",
       "      <td>99032.000000</td>\n",
       "    </tr>\n",
       "    <tr>\n",
       "      <th>mean</th>\n",
       "      <td>1.703165e+14</td>\n",
       "      <td>52.454510</td>\n",
       "      <td>0.004131</td>\n",
       "      <td>4.131351</td>\n",
       "    </tr>\n",
       "    <tr>\n",
       "      <th>std</th>\n",
       "      <td>2.619393e+09</td>\n",
       "      <td>81.466686</td>\n",
       "      <td>0.001013</td>\n",
       "      <td>1.013425</td>\n",
       "    </tr>\n",
       "    <tr>\n",
       "      <th>min</th>\n",
       "      <td>1.703101e+14</td>\n",
       "      <td>0.000000</td>\n",
       "      <td>0.000000</td>\n",
       "      <td>0.000000</td>\n",
       "    </tr>\n",
       "    <tr>\n",
       "      <th>25%</th>\n",
       "      <td>1.703152e+14</td>\n",
       "      <td>4.000000</td>\n",
       "      <td>0.003554</td>\n",
       "      <td>3.553773</td>\n",
       "    </tr>\n",
       "    <tr>\n",
       "      <th>50%</th>\n",
       "      <td>1.703180e+14</td>\n",
       "      <td>36.000000</td>\n",
       "      <td>0.004329</td>\n",
       "      <td>4.328707</td>\n",
       "    </tr>\n",
       "    <tr>\n",
       "      <th>75%</th>\n",
       "      <td>1.703182e+14</td>\n",
       "      <td>69.000000</td>\n",
       "      <td>0.004944</td>\n",
       "      <td>4.943655</td>\n",
       "    </tr>\n",
       "    <tr>\n",
       "      <th>max</th>\n",
       "      <td>1.703199e+14</td>\n",
       "      <td>9798.000000</td>\n",
       "      <td>0.006470</td>\n",
       "      <td>6.470500</td>\n",
       "    </tr>\n",
       "  </tbody>\n",
       "</table>\n",
       "</div>"
      ],
      "text/plain": [
       "              geoid         POP10       acc1800  acc1800_1000\n",
       "count  9.903200e+04  99032.000000  99032.000000  99032.000000\n",
       "mean   1.703165e+14     52.454510      0.004131      4.131351\n",
       "std    2.619393e+09     81.466686      0.001013      1.013425\n",
       "min    1.703101e+14      0.000000      0.000000      0.000000\n",
       "25%    1.703152e+14      4.000000      0.003554      3.553773\n",
       "50%    1.703180e+14     36.000000      0.004329      4.328707\n",
       "75%    1.703182e+14     69.000000      0.004944      4.943655\n",
       "max    1.703199e+14   9798.000000      0.006470      6.470500"
      ]
     },
     "execution_count": 24,
     "metadata": {},
     "output_type": "execute_result"
    }
   ],
   "source": [
    "print(csv_list[1])\n",
    "access_1800_max_f=pd.read_csv(csv_list[1])\n",
    "access_1800_max_f.describe()"
   ]
  },
  {
   "cell_type": "code",
   "execution_count": 25,
   "metadata": {},
   "outputs": [
    {
     "data": {
      "text/plain": [
       "<AxesSubplot:>"
      ]
     },
     "execution_count": 25,
     "metadata": {},
     "output_type": "execute_result"
    },
    {
     "data": {
      "image/png": "[encoded data removed]",
      "text/plain": [
       "<Figure size 432x288 with 1 Axes>"
      ]
     },
     "metadata": {
      "needs_background": "light"
     },
     "output_type": "display_data"
    }
   ],
   "source": [
    "access_1800_max_f[\"acc1800_1000\"].hist(bins=100)"
   ]
  },
  {
   "cell_type": "code",
   "execution_count": 26,
   "metadata": {},
   "outputs": [
    {
     "name": "stdout",
     "output_type": "stream",
     "text": [
      "5.Results_csv_without15mi/access_1800_min_a.csv\n"
     ]
    },
    {
     "data": {
      "text/html": [
       "<div>\n",
       "<style scoped>\n",
       "    .dataframe tbody tr th:only-of-type {\n",
       "        vertical-align: middle;\n",
       "    }\n",
       "\n",
       "    .dataframe tbody tr th {\n",
       "        vertical-align: top;\n",
       "    }\n",
       "\n",
       "    .dataframe thead th {\n",
       "        text-align: right;\n",
       "    }\n",
       "</style>\n",
       "<table border=\"1\" class=\"dataframe\">\n",
       "  <thead>\n",
       "    <tr style=\"text-align: right;\">\n",
       "      <th></th>\n",
       "      <th>geoid</th>\n",
       "      <th>POP10</th>\n",
       "      <th>acc1800</th>\n",
       "      <th>acc1800_1000</th>\n",
       "    </tr>\n",
       "  </thead>\n",
       "  <tbody>\n",
       "    <tr>\n",
       "      <th>count</th>\n",
       "      <td>9.903200e+04</td>\n",
       "      <td>99032.000000</td>\n",
       "      <td>99032.000000</td>\n",
       "      <td>99032.000000</td>\n",
       "    </tr>\n",
       "    <tr>\n",
       "      <th>mean</th>\n",
       "      <td>1.703165e+14</td>\n",
       "      <td>52.454510</td>\n",
       "      <td>0.002025</td>\n",
       "      <td>2.024523</td>\n",
       "    </tr>\n",
       "    <tr>\n",
       "      <th>std</th>\n",
       "      <td>2.619393e+09</td>\n",
       "      <td>81.466686</td>\n",
       "      <td>0.001198</td>\n",
       "      <td>1.197658</td>\n",
       "    </tr>\n",
       "    <tr>\n",
       "      <th>min</th>\n",
       "      <td>1.703101e+14</td>\n",
       "      <td>0.000000</td>\n",
       "      <td>0.000000</td>\n",
       "      <td>0.000000</td>\n",
       "    </tr>\n",
       "    <tr>\n",
       "      <th>25%</th>\n",
       "      <td>1.703152e+14</td>\n",
       "      <td>4.000000</td>\n",
       "      <td>0.001416</td>\n",
       "      <td>1.415818</td>\n",
       "    </tr>\n",
       "    <tr>\n",
       "      <th>50%</th>\n",
       "      <td>1.703180e+14</td>\n",
       "      <td>36.000000</td>\n",
       "      <td>0.002309</td>\n",
       "      <td>2.308961</td>\n",
       "    </tr>\n",
       "    <tr>\n",
       "      <th>75%</th>\n",
       "      <td>1.703182e+14</td>\n",
       "      <td>69.000000</td>\n",
       "      <td>0.003069</td>\n",
       "      <td>3.069321</td>\n",
       "    </tr>\n",
       "    <tr>\n",
       "      <th>max</th>\n",
       "      <td>1.703199e+14</td>\n",
       "      <td>9798.000000</td>\n",
       "      <td>0.004575</td>\n",
       "      <td>4.574880</td>\n",
       "    </tr>\n",
       "  </tbody>\n",
       "</table>\n",
       "</div>"
      ],
      "text/plain": [
       "              geoid         POP10       acc1800  acc1800_1000\n",
       "count  9.903200e+04  99032.000000  99032.000000  99032.000000\n",
       "mean   1.703165e+14     52.454510      0.002025      2.024523\n",
       "std    2.619393e+09     81.466686      0.001198      1.197658\n",
       "min    1.703101e+14      0.000000      0.000000      0.000000\n",
       "25%    1.703152e+14      4.000000      0.001416      1.415818\n",
       "50%    1.703180e+14     36.000000      0.002309      2.308961\n",
       "75%    1.703182e+14     69.000000      0.003069      3.069321\n",
       "max    1.703199e+14   9798.000000      0.004575      4.574880"
      ]
     },
     "execution_count": 26,
     "metadata": {},
     "output_type": "execute_result"
    }
   ],
   "source": [
    "print(csv_list[2])\n",
    "access_1800_min_a=pd.read_csv(csv_list[2])\n",
    "access_1800_min_a.describe()"
   ]
  },
  {
   "cell_type": "code",
   "execution_count": 27,
   "metadata": {},
   "outputs": [
    {
     "data": {
      "text/plain": [
       "<AxesSubplot:>"
      ]
     },
     "execution_count": 27,
     "metadata": {},
     "output_type": "execute_result"
    },
    {
     "data": {
      "image/png": "[encoded data removed]",
      "text/plain": [
       "<Figure size 432x288 with 1 Axes>"
      ]
     },
     "metadata": {
      "needs_background": "light"
     },
     "output_type": "display_data"
    }
   ],
   "source": [
    "access_1800_min_a[\"acc1800_1000\"].hist(bins=100)"
   ]
  },
  {
   "cell_type": "code",
   "execution_count": 28,
   "metadata": {},
   "outputs": [
    {
     "name": "stdout",
     "output_type": "stream",
     "text": [
      "5.Results_csv_without15mi/access_1800_min_f.csv\n"
     ]
    },
    {
     "data": {
      "text/html": [
       "<div>\n",
       "<style scoped>\n",
       "    .dataframe tbody tr th:only-of-type {\n",
       "        vertical-align: middle;\n",
       "    }\n",
       "\n",
       "    .dataframe tbody tr th {\n",
       "        vertical-align: top;\n",
       "    }\n",
       "\n",
       "    .dataframe thead th {\n",
       "        text-align: right;\n",
       "    }\n",
       "</style>\n",
       "<table border=\"1\" class=\"dataframe\">\n",
       "  <thead>\n",
       "    <tr style=\"text-align: right;\">\n",
       "      <th></th>\n",
       "      <th>geoid</th>\n",
       "      <th>POP10</th>\n",
       "      <th>acc1800</th>\n",
       "      <th>acc1800_1000</th>\n",
       "    </tr>\n",
       "  </thead>\n",
       "  <tbody>\n",
       "    <tr>\n",
       "      <th>count</th>\n",
       "      <td>9.903200e+04</td>\n",
       "      <td>99032.000000</td>\n",
       "      <td>99032.000000</td>\n",
       "      <td>99032.000000</td>\n",
       "    </tr>\n",
       "    <tr>\n",
       "      <th>mean</th>\n",
       "      <td>1.703165e+14</td>\n",
       "      <td>52.454510</td>\n",
       "      <td>0.004118</td>\n",
       "      <td>4.118388</td>\n",
       "    </tr>\n",
       "    <tr>\n",
       "      <th>std</th>\n",
       "      <td>2.619393e+09</td>\n",
       "      <td>81.466686</td>\n",
       "      <td>0.001040</td>\n",
       "      <td>1.040316</td>\n",
       "    </tr>\n",
       "    <tr>\n",
       "      <th>min</th>\n",
       "      <td>1.703101e+14</td>\n",
       "      <td>0.000000</td>\n",
       "      <td>0.000000</td>\n",
       "      <td>0.000000</td>\n",
       "    </tr>\n",
       "    <tr>\n",
       "      <th>25%</th>\n",
       "      <td>1.703152e+14</td>\n",
       "      <td>4.000000</td>\n",
       "      <td>0.003510</td>\n",
       "      <td>3.510253</td>\n",
       "    </tr>\n",
       "    <tr>\n",
       "      <th>50%</th>\n",
       "      <td>1.703180e+14</td>\n",
       "      <td>36.000000</td>\n",
       "      <td>0.004318</td>\n",
       "      <td>4.318019</td>\n",
       "    </tr>\n",
       "    <tr>\n",
       "      <th>75%</th>\n",
       "      <td>1.703182e+14</td>\n",
       "      <td>69.000000</td>\n",
       "      <td>0.004965</td>\n",
       "      <td>4.964702</td>\n",
       "    </tr>\n",
       "    <tr>\n",
       "      <th>max</th>\n",
       "      <td>1.703199e+14</td>\n",
       "      <td>9798.000000</td>\n",
       "      <td>0.006482</td>\n",
       "      <td>6.482214</td>\n",
       "    </tr>\n",
       "  </tbody>\n",
       "</table>\n",
       "</div>"
      ],
      "text/plain": [
       "              geoid         POP10       acc1800  acc1800_1000\n",
       "count  9.903200e+04  99032.000000  99032.000000  99032.000000\n",
       "mean   1.703165e+14     52.454510      0.004118      4.118388\n",
       "std    2.619393e+09     81.466686      0.001040      1.040316\n",
       "min    1.703101e+14      0.000000      0.000000      0.000000\n",
       "25%    1.703152e+14      4.000000      0.003510      3.510253\n",
       "50%    1.703180e+14     36.000000      0.004318      4.318019\n",
       "75%    1.703182e+14     69.000000      0.004965      4.964702\n",
       "max    1.703199e+14   9798.000000      0.006482      6.482214"
      ]
     },
     "execution_count": 28,
     "metadata": {},
     "output_type": "execute_result"
    }
   ],
   "source": [
    "print(csv_list[3])\n",
    "access_1800_min_f=pd.read_csv(csv_list[3])\n",
    "access_1800_min_f.describe()"
   ]
  },
  {
   "cell_type": "code",
   "execution_count": 29,
   "metadata": {},
   "outputs": [
    {
     "data": {
      "text/plain": [
       "<AxesSubplot:>"
      ]
     },
     "execution_count": 29,
     "metadata": {},
     "output_type": "execute_result"
    },
    {
     "data": {
      "image/png": "[encoded data removed]",
      "text/plain": [
       "<Figure size 432x288 with 1 Axes>"
      ]
     },
     "metadata": {
      "needs_background": "light"
     },
     "output_type": "display_data"
    }
   ],
   "source": [
    "access_1800_min_f[\"acc1800_1000\"].hist(bins=100)"
   ]
  },
  {
   "cell_type": "code",
   "execution_count": null,
   "metadata": {},
   "outputs": [],
   "source": []
  },
  {
   "cell_type": "markdown",
   "metadata": {},
   "source": [
    "# Batch Processing"
   ]
  },
  {
   "cell_type": "markdown",
   "metadata": {},
   "source": [
    "## loop for all csv files and save the describe datafeame to a csv file, then plot the histogram and save to png file"
   ]
  },
  {
   "cell_type": "code",
   "execution_count": 42,
   "metadata": {},
   "outputs": [
    {
     "name": "stdout",
     "output_type": "stream",
     "text": [
      "5.Results_csv_without15mi/access_1800_1.csv\n",
      "5.Results_csv_without15mi/access_1800_max_f.csv\n",
      "5.Results_csv_without15mi/access_1800_min_a.csv\n",
      "5.Results_csv_without15mi/access_1800_min_f.csv\n",
      "5.Results_csv_without15mi/access_2700_1.csv\n",
      "5.Results_csv_without15mi/access_2700_max_f.csv\n",
      "5.Results_csv_without15mi/access_2700_min_a.csv\n",
      "5.Results_csv_without15mi/access_2700_min_f.csv\n",
      "5.Results_csv_without15mi/access_3600_1.csv\n",
      "5.Results_csv_without15mi/access_3600_max_f.csv\n",
      "5.Results_csv_without15mi/access_3600_min_a.csv\n",
      "5.Results_csv_without15mi/access_3600_min_f.csv\n",
      "5.Results_csv_without15mi/access_900_1.csv\n",
      "5.Results_csv_without15mi/access_900_max_f.csv\n",
      "5.Results_csv_without15mi/access_900_min_a.csv\n",
      "5.Results_csv_without15mi/access_900_min_f.csv\n"
     ]
    },
    {
     "data": {
      "image/png": "[encoded data removed]",
      "text/plain": [
       "<Figure size 4320x2880 with 1 Axes>"
      ]
     },
     "metadata": {
      "needs_background": "light"
     },
     "output_type": "display_data"
    }
   ],
   "source": [
    "\n",
    "#loop for all csv files and save the describe datafeame to a csv file, then plot the histogram and save to png file\n",
    "save_path = '8.Statistic_results/'\n",
    "i=0\n",
    "for csv in csv_list:\n",
    "    print(csv)\n",
    "    _,name=os.path.split(csv)\n",
    "    df=pd.read_csv(csv)\n",
    "    #df.describe().T.to_csv(save_path+str(i)+name+\"_describe.csv\",index=False)\n",
    "    col=name.split(\"_\")[1]\n",
    "    ax=df[\"acc\"+col+\"_1000\"].hist(bins=100,figsize=(60,40))\n",
    "    #save all histograms in one figure overlayed, this is the best way to compare the results range and determine the best class break points\n",
    "    ax.figure.savefig(save_path+str(i)+\"_\"+name+\"_hist.png\")\n",
    "    i=i+1"
   ]
  },
  {
   "cell_type": "code",
   "execution_count": 38,
   "metadata": {},
   "outputs": [
    {
     "name": "stdout",
     "output_type": "stream",
     "text": [
      "5.Results_csv_without15mi/access_1800_1.csv\n",
      "5.Results_csv_without15mi/access_1800_max_f.csv\n",
      "5.Results_csv_without15mi/access_1800_min_a.csv\n",
      "5.Results_csv_without15mi/access_1800_min_f.csv\n",
      "5.Results_csv_without15mi/access_2700_1.csv\n",
      "5.Results_csv_without15mi/access_2700_max_f.csv\n",
      "5.Results_csv_without15mi/access_2700_min_a.csv\n",
      "5.Results_csv_without15mi/access_2700_min_f.csv\n",
      "5.Results_csv_without15mi/access_3600_1.csv\n",
      "5.Results_csv_without15mi/access_3600_max_f.csv\n",
      "5.Results_csv_without15mi/access_3600_min_a.csv\n",
      "5.Results_csv_without15mi/access_3600_min_f.csv\n",
      "5.Results_csv_without15mi/access_900_1.csv\n",
      "5.Results_csv_without15mi/access_900_max_f.csv\n",
      "5.Results_csv_without15mi/access_900_min_a.csv\n",
      "5.Results_csv_without15mi/access_900_min_f.csv\n"
     ]
    },
    {
     "data": {
      "text/html": [
       "<div>\n",
       "<style scoped>\n",
       "    .dataframe tbody tr th:only-of-type {\n",
       "        vertical-align: middle;\n",
       "    }\n",
       "\n",
       "    .dataframe tbody tr th {\n",
       "        vertical-align: top;\n",
       "    }\n",
       "\n",
       "    .dataframe thead th {\n",
       "        text-align: right;\n",
       "    }\n",
       "</style>\n",
       "<table border=\"1\" class=\"dataframe\">\n",
       "  <thead>\n",
       "    <tr style=\"text-align: right;\">\n",
       "      <th></th>\n",
       "      <th>count</th>\n",
       "      <th>mean</th>\n",
       "      <th>std</th>\n",
       "      <th>min</th>\n",
       "      <th>25%</th>\n",
       "      <th>50%</th>\n",
       "      <th>75%</th>\n",
       "      <th>max</th>\n",
       "      <th>file</th>\n",
       "    </tr>\n",
       "  </thead>\n",
       "  <tbody>\n",
       "    <tr>\n",
       "      <th>geoid</th>\n",
       "      <td>99032.0</td>\n",
       "      <td>1.703165e+14</td>\n",
       "      <td>2.619393e+09</td>\n",
       "      <td>1.703101e+14</td>\n",
       "      <td>1.703152e+14</td>\n",
       "      <td>1.703180e+14</td>\n",
       "      <td>1.703182e+14</td>\n",
       "      <td>1.703199e+14</td>\n",
       "      <td>access_1800_1.csv</td>\n",
       "    </tr>\n",
       "    <tr>\n",
       "      <th>POP10</th>\n",
       "      <td>99032.0</td>\n",
       "      <td>5.245451e+01</td>\n",
       "      <td>8.146669e+01</td>\n",
       "      <td>0.000000e+00</td>\n",
       "      <td>4.000000e+00</td>\n",
       "      <td>3.600000e+01</td>\n",
       "      <td>6.900000e+01</td>\n",
       "      <td>9.798000e+03</td>\n",
       "      <td>access_1800_1.csv</td>\n",
       "    </tr>\n",
       "    <tr>\n",
       "      <th>acc1800</th>\n",
       "      <td>99032.0</td>\n",
       "      <td>4.139090e-03</td>\n",
       "      <td>1.019459e-03</td>\n",
       "      <td>0.000000e+00</td>\n",
       "      <td>3.566328e-03</td>\n",
       "      <td>4.318733e-03</td>\n",
       "      <td>4.966259e-03</td>\n",
       "      <td>6.479615e-03</td>\n",
       "      <td>access_1800_1.csv</td>\n",
       "    </tr>\n",
       "    <tr>\n",
       "      <th>acc1800_1000</th>\n",
       "      <td>99032.0</td>\n",
       "      <td>4.139090e+00</td>\n",
       "      <td>1.019459e+00</td>\n",
       "      <td>0.000000e+00</td>\n",
       "      <td>3.566328e+00</td>\n",
       "      <td>4.318733e+00</td>\n",
       "      <td>4.966259e+00</td>\n",
       "      <td>6.479615e+00</td>\n",
       "      <td>access_1800_1.csv</td>\n",
       "    </tr>\n",
       "    <tr>\n",
       "      <th>geoid</th>\n",
       "      <td>99032.0</td>\n",
       "      <td>1.703165e+14</td>\n",
       "      <td>2.619393e+09</td>\n",
       "      <td>1.703101e+14</td>\n",
       "      <td>1.703152e+14</td>\n",
       "      <td>1.703180e+14</td>\n",
       "      <td>1.703182e+14</td>\n",
       "      <td>1.703199e+14</td>\n",
       "      <td>access_1800_max_f.csv</td>\n",
       "    </tr>\n",
       "  </tbody>\n",
       "</table>\n",
       "</div>"
      ],
      "text/plain": [
       "                count          mean           std           min           25%  \\\n",
       "geoid         99032.0  1.703165e+14  2.619393e+09  1.703101e+14  1.703152e+14   \n",
       "POP10         99032.0  5.245451e+01  8.146669e+01  0.000000e+00  4.000000e+00   \n",
       "acc1800       99032.0  4.139090e-03  1.019459e-03  0.000000e+00  3.566328e-03   \n",
       "acc1800_1000  99032.0  4.139090e+00  1.019459e+00  0.000000e+00  3.566328e+00   \n",
       "geoid         99032.0  1.703165e+14  2.619393e+09  1.703101e+14  1.703152e+14   \n",
       "\n",
       "                       50%           75%           max                   file  \n",
       "geoid         1.703180e+14  1.703182e+14  1.703199e+14      access_1800_1.csv  \n",
       "POP10         3.600000e+01  6.900000e+01  9.798000e+03      access_1800_1.csv  \n",
       "acc1800       4.318733e-03  4.966259e-03  6.479615e-03      access_1800_1.csv  \n",
       "acc1800_1000  4.318733e+00  4.966259e+00  6.479615e+00      access_1800_1.csv  \n",
       "geoid         1.703180e+14  1.703182e+14  1.703199e+14  access_1800_max_f.csv  "
      ]
     },
     "execution_count": 38,
     "metadata": {},
     "output_type": "execute_result"
    },
    {
     "data": {
      "text/plain": [
       "<Figure size 4320x2880 with 0 Axes>"
      ]
     },
     "metadata": {},
     "output_type": "display_data"
    }
   ],
   "source": [
    "#save describe dataframe to one csv file\n",
    "save_path = '8.Statistic_results/'\n",
    "fig = plt.figure(figsize=(60,40))\n",
    "describe_list=[]\n",
    "for csv in csv_list:\n",
    "    print(csv)\n",
    "    _,name=os.path.split(csv)\n",
    "    df=pd.read_csv(csv)\n",
    "    temp=df.describe().T\n",
    "    temp[\"file\"]=name\n",
    "    describe_list.append(temp)\n",
    "df=pd.concat(describe_list)\n",
    "df.head()\n"
   ]
  },
  {
   "cell_type": "code",
   "execution_count": 40,
   "metadata": {},
   "outputs": [],
   "source": [
    "df.to_csv(save_path+\"@all_describe_info.csv\")"
   ]
  },
  {
   "cell_type": "markdown",
   "metadata": {},
   "source": [
    "## Only including results within 45 mins"
   ]
  },
  {
   "cell_type": "code",
   "execution_count": 47,
   "metadata": {},
   "outputs": [
    {
     "name": "stdout",
     "output_type": "stream",
     "text": [
      "5.Results_csv_without15mi/access_1800_1.csv\n",
      "5.Results_csv_without15mi/access_1800_max_f.csv\n",
      "5.Results_csv_without15mi/access_1800_min_a.csv\n",
      "5.Results_csv_without15mi/access_1800_min_f.csv\n",
      "5.Results_csv_without15mi/access_2700_1.csv\n",
      "5.Results_csv_without15mi/access_2700_max_f.csv\n",
      "5.Results_csv_without15mi/access_2700_min_a.csv\n",
      "5.Results_csv_without15mi/access_2700_min_f.csv\n",
      "5.Results_csv_without15mi/access_900_1.csv\n",
      "5.Results_csv_without15mi/access_900_max_f.csv\n",
      "5.Results_csv_without15mi/access_900_min_a.csv\n",
      "5.Results_csv_without15mi/access_900_min_f.csv\n"
     ]
    },
    {
     "data": {
      "image/png": "[encoded data removed]",
      "text/plain": [
       "<Figure size 4320x2880 with 1 Axes>"
      ]
     },
     "metadata": {
      "needs_background": "light"
     },
     "output_type": "display_data"
    }
   ],
   "source": [
    "\n",
    "#loop for all csv files and save the describe datafeame to a csv file, then plot the histogram and save to png file\n",
    "save_path = '8.Statistic_results/'\n",
    "i=0\n",
    "for csv in csv_list:\n",
    "    \n",
    "    _,name=os.path.split(csv)\n",
    "    if '3600' not in name:\n",
    "        print(csv)\n",
    "        df=pd.read_csv(csv)\n",
    "        #df.describe().T.to_csv(save_path+str(i)+name+\"_describe.csv\",index=False)\n",
    "        col=name.split(\"_\")[1]\n",
    "        ax=df[\"acc\"+col+\"_1000\"].hist(bins=100,figsize=(60,40))\n",
    "        #save all histograms in one figure overlayed, this is the best way to compare the results range and determine the best class break points\n",
    "        ax.figure.savefig(save_path+str(i)+\"_\"+name+\"_hist.png\")\n",
    "        i=i+1"
   ]
  },
  {
   "cell_type": "code",
   "execution_count": null,
   "metadata": {},
   "outputs": [],
   "source": []
  }
 ],
 "metadata": {
  "kernelspec": {
   "display_name": "Python 3.10.4 ('base')",
   "language": "python",
   "name": "python3"
  },
  "language_info": {
   "codemirror_mode": {
    "name": "ipython",
    "version": 3
   },
   "file_extension": ".py",
   "mimetype": "text/x-python",
   "name": "python",
   "nbconvert_exporter": "python",
   "pygments_lexer": "ipython3",
   "version": "3.10.4"
  },
  "orig_nbformat": 4,
  "vscode": {
   "interpreter": {
    "hash": "93a3673a3758fdf33d6ba0423f037f6c2442f629d113b8691bc0e228a41716bd"
   }
  }
 },
 "nbformat": 4,
 "nbformat_minor": 2
}
