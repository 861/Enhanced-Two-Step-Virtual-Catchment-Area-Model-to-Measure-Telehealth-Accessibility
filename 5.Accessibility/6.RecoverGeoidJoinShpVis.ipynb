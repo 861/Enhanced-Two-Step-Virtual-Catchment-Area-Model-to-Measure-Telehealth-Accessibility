{
 "cells": [
  {
   "cell_type": "code",
   "execution_count": 4,
   "metadata": {},
   "outputs": [],
   "source": [
    "'''\n",
    "Description: \n",
    "Version: 1.0\n",
    "Autor: Yaxiong Shao\n",
    "Date: 2022-06-22 18:10:29\n",
    "LastEditors: Yaxiong Shao\n",
    "LastEditTime: 2022-06-24 14:52:42\n",
    "'''\n",
    "import pandas as pd\n",
    "import geopandas as gpd\n",
    "import glob"
   ]
  },
  {
   "cell_type": "markdown",
   "metadata": {},
   "source": [
    "## Join Geoid Back to results"
   ]
  },
  {
   "cell_type": "code",
   "execution_count": 5,
   "metadata": {},
   "outputs": [
    {
     "ename": "FileNotFoundError",
     "evalue": "[Errno 2] No such file or directory: '../17031-Block-Car-OD-index_166987_V2.csv'",
     "output_type": "error",
     "traceback": [
      "\u001b[0;31m---------------------------------------------------------------------------\u001b[0m",
      "\u001b[0;31mFileNotFoundError\u001b[0m                         Traceback (most recent call last)",
      "\u001b[1;32m/Users/yaxiongshao/Documents/GitHub/E2SVCA_15MI_BLOCKS/5.Accessibility/6.RecoverGeoidJoinShpVis.ipynb Cell 3\u001b[0m in \u001b[0;36m<cell line: 1>\u001b[0;34m()\u001b[0m\n\u001b[0;32m----> <a href='vscode-notebook-cell:/Users/yaxiongshao/Documents/GitHub/E2SVCA_15MI_BLOCKS/5.Accessibility/6.RecoverGeoidJoinShpVis.ipynb#W2sZmlsZQ%3D%3D?line=0'>1</a>\u001b[0m index_df\u001b[39m=\u001b[39mpd\u001b[39m.\u001b[39;49mread_csv(\u001b[39m\"\u001b[39;49m\u001b[39m../17031-Block-Car-OD-index_166987_V2.csv\u001b[39;49m\u001b[39m\"\u001b[39;49m)\n\u001b[1;32m      <a href='vscode-notebook-cell:/Users/yaxiongshao/Documents/GitHub/E2SVCA_15MI_BLOCKS/5.Accessibility/6.RecoverGeoidJoinShpVis.ipynb#W2sZmlsZQ%3D%3D?line=1'>2</a>\u001b[0m index_df\u001b[39m.\u001b[39mhead()\n",
      "File \u001b[0;32m~/opt/miniconda3/lib/python3.10/site-packages/pandas/util/_decorators.py:311\u001b[0m, in \u001b[0;36mdeprecate_nonkeyword_arguments.<locals>.decorate.<locals>.wrapper\u001b[0;34m(*args, **kwargs)\u001b[0m\n\u001b[1;32m    305\u001b[0m \u001b[39mif\u001b[39;00m \u001b[39mlen\u001b[39m(args) \u001b[39m>\u001b[39m num_allow_args:\n\u001b[1;32m    306\u001b[0m     warnings\u001b[39m.\u001b[39mwarn(\n\u001b[1;32m    307\u001b[0m         msg\u001b[39m.\u001b[39mformat(arguments\u001b[39m=\u001b[39marguments),\n\u001b[1;32m    308\u001b[0m         \u001b[39mFutureWarning\u001b[39;00m,\n\u001b[1;32m    309\u001b[0m         stacklevel\u001b[39m=\u001b[39mstacklevel,\n\u001b[1;32m    310\u001b[0m     )\n\u001b[0;32m--> 311\u001b[0m \u001b[39mreturn\u001b[39;00m func(\u001b[39m*\u001b[39;49margs, \u001b[39m*\u001b[39;49m\u001b[39m*\u001b[39;49mkwargs)\n",
      "File \u001b[0;32m~/opt/miniconda3/lib/python3.10/site-packages/pandas/io/parsers/readers.py:680\u001b[0m, in \u001b[0;36mread_csv\u001b[0;34m(filepath_or_buffer, sep, delimiter, header, names, index_col, usecols, squeeze, prefix, mangle_dupe_cols, dtype, engine, converters, true_values, false_values, skipinitialspace, skiprows, skipfooter, nrows, na_values, keep_default_na, na_filter, verbose, skip_blank_lines, parse_dates, infer_datetime_format, keep_date_col, date_parser, dayfirst, cache_dates, iterator, chunksize, compression, thousands, decimal, lineterminator, quotechar, quoting, doublequote, escapechar, comment, encoding, encoding_errors, dialect, error_bad_lines, warn_bad_lines, on_bad_lines, delim_whitespace, low_memory, memory_map, float_precision, storage_options)\u001b[0m\n\u001b[1;32m    665\u001b[0m kwds_defaults \u001b[39m=\u001b[39m _refine_defaults_read(\n\u001b[1;32m    666\u001b[0m     dialect,\n\u001b[1;32m    667\u001b[0m     delimiter,\n\u001b[0;32m   (...)\u001b[0m\n\u001b[1;32m    676\u001b[0m     defaults\u001b[39m=\u001b[39m{\u001b[39m\"\u001b[39m\u001b[39mdelimiter\u001b[39m\u001b[39m\"\u001b[39m: \u001b[39m\"\u001b[39m\u001b[39m,\u001b[39m\u001b[39m\"\u001b[39m},\n\u001b[1;32m    677\u001b[0m )\n\u001b[1;32m    678\u001b[0m kwds\u001b[39m.\u001b[39mupdate(kwds_defaults)\n\u001b[0;32m--> 680\u001b[0m \u001b[39mreturn\u001b[39;00m _read(filepath_or_buffer, kwds)\n",
      "File \u001b[0;32m~/opt/miniconda3/lib/python3.10/site-packages/pandas/io/parsers/readers.py:575\u001b[0m, in \u001b[0;36m_read\u001b[0;34m(filepath_or_buffer, kwds)\u001b[0m\n\u001b[1;32m    572\u001b[0m _validate_names(kwds\u001b[39m.\u001b[39mget(\u001b[39m\"\u001b[39m\u001b[39mnames\u001b[39m\u001b[39m\"\u001b[39m, \u001b[39mNone\u001b[39;00m))\n\u001b[1;32m    574\u001b[0m \u001b[39m# Create the parser.\u001b[39;00m\n\u001b[0;32m--> 575\u001b[0m parser \u001b[39m=\u001b[39m TextFileReader(filepath_or_buffer, \u001b[39m*\u001b[39;49m\u001b[39m*\u001b[39;49mkwds)\n\u001b[1;32m    577\u001b[0m \u001b[39mif\u001b[39;00m chunksize \u001b[39mor\u001b[39;00m iterator:\n\u001b[1;32m    578\u001b[0m     \u001b[39mreturn\u001b[39;00m parser\n",
      "File \u001b[0;32m~/opt/miniconda3/lib/python3.10/site-packages/pandas/io/parsers/readers.py:933\u001b[0m, in \u001b[0;36mTextFileReader.__init__\u001b[0;34m(self, f, engine, **kwds)\u001b[0m\n\u001b[1;32m    930\u001b[0m     \u001b[39mself\u001b[39m\u001b[39m.\u001b[39moptions[\u001b[39m\"\u001b[39m\u001b[39mhas_index_names\u001b[39m\u001b[39m\"\u001b[39m] \u001b[39m=\u001b[39m kwds[\u001b[39m\"\u001b[39m\u001b[39mhas_index_names\u001b[39m\u001b[39m\"\u001b[39m]\n\u001b[1;32m    932\u001b[0m \u001b[39mself\u001b[39m\u001b[39m.\u001b[39mhandles: IOHandles \u001b[39m|\u001b[39m \u001b[39mNone\u001b[39;00m \u001b[39m=\u001b[39m \u001b[39mNone\u001b[39;00m\n\u001b[0;32m--> 933\u001b[0m \u001b[39mself\u001b[39m\u001b[39m.\u001b[39m_engine \u001b[39m=\u001b[39m \u001b[39mself\u001b[39;49m\u001b[39m.\u001b[39;49m_make_engine(f, \u001b[39mself\u001b[39;49m\u001b[39m.\u001b[39;49mengine)\n",
      "File \u001b[0;32m~/opt/miniconda3/lib/python3.10/site-packages/pandas/io/parsers/readers.py:1217\u001b[0m, in \u001b[0;36mTextFileReader._make_engine\u001b[0;34m(self, f, engine)\u001b[0m\n\u001b[1;32m   1213\u001b[0m     mode \u001b[39m=\u001b[39m \u001b[39m\"\u001b[39m\u001b[39mrb\u001b[39m\u001b[39m\"\u001b[39m\n\u001b[1;32m   1214\u001b[0m \u001b[39m# error: No overload variant of \"get_handle\" matches argument types\u001b[39;00m\n\u001b[1;32m   1215\u001b[0m \u001b[39m# \"Union[str, PathLike[str], ReadCsvBuffer[bytes], ReadCsvBuffer[str]]\"\u001b[39;00m\n\u001b[1;32m   1216\u001b[0m \u001b[39m# , \"str\", \"bool\", \"Any\", \"Any\", \"Any\", \"Any\", \"Any\"\u001b[39;00m\n\u001b[0;32m-> 1217\u001b[0m \u001b[39mself\u001b[39m\u001b[39m.\u001b[39mhandles \u001b[39m=\u001b[39m get_handle(  \u001b[39m# type: ignore[call-overload]\u001b[39;49;00m\n\u001b[1;32m   1218\u001b[0m     f,\n\u001b[1;32m   1219\u001b[0m     mode,\n\u001b[1;32m   1220\u001b[0m     encoding\u001b[39m=\u001b[39;49m\u001b[39mself\u001b[39;49m\u001b[39m.\u001b[39;49moptions\u001b[39m.\u001b[39;49mget(\u001b[39m\"\u001b[39;49m\u001b[39mencoding\u001b[39;49m\u001b[39m\"\u001b[39;49m, \u001b[39mNone\u001b[39;49;00m),\n\u001b[1;32m   1221\u001b[0m     compression\u001b[39m=\u001b[39;49m\u001b[39mself\u001b[39;49m\u001b[39m.\u001b[39;49moptions\u001b[39m.\u001b[39;49mget(\u001b[39m\"\u001b[39;49m\u001b[39mcompression\u001b[39;49m\u001b[39m\"\u001b[39;49m, \u001b[39mNone\u001b[39;49;00m),\n\u001b[1;32m   1222\u001b[0m     memory_map\u001b[39m=\u001b[39;49m\u001b[39mself\u001b[39;49m\u001b[39m.\u001b[39;49moptions\u001b[39m.\u001b[39;49mget(\u001b[39m\"\u001b[39;49m\u001b[39mmemory_map\u001b[39;49m\u001b[39m\"\u001b[39;49m, \u001b[39mFalse\u001b[39;49;00m),\n\u001b[1;32m   1223\u001b[0m     is_text\u001b[39m=\u001b[39;49mis_text,\n\u001b[1;32m   1224\u001b[0m     errors\u001b[39m=\u001b[39;49m\u001b[39mself\u001b[39;49m\u001b[39m.\u001b[39;49moptions\u001b[39m.\u001b[39;49mget(\u001b[39m\"\u001b[39;49m\u001b[39mencoding_errors\u001b[39;49m\u001b[39m\"\u001b[39;49m, \u001b[39m\"\u001b[39;49m\u001b[39mstrict\u001b[39;49m\u001b[39m\"\u001b[39;49m),\n\u001b[1;32m   1225\u001b[0m     storage_options\u001b[39m=\u001b[39;49m\u001b[39mself\u001b[39;49m\u001b[39m.\u001b[39;49moptions\u001b[39m.\u001b[39;49mget(\u001b[39m\"\u001b[39;49m\u001b[39mstorage_options\u001b[39;49m\u001b[39m\"\u001b[39;49m, \u001b[39mNone\u001b[39;49;00m),\n\u001b[1;32m   1226\u001b[0m )\n\u001b[1;32m   1227\u001b[0m \u001b[39massert\u001b[39;00m \u001b[39mself\u001b[39m\u001b[39m.\u001b[39mhandles \u001b[39mis\u001b[39;00m \u001b[39mnot\u001b[39;00m \u001b[39mNone\u001b[39;00m\n\u001b[1;32m   1228\u001b[0m f \u001b[39m=\u001b[39m \u001b[39mself\u001b[39m\u001b[39m.\u001b[39mhandles\u001b[39m.\u001b[39mhandle\n",
      "File \u001b[0;32m~/opt/miniconda3/lib/python3.10/site-packages/pandas/io/common.py:789\u001b[0m, in \u001b[0;36mget_handle\u001b[0;34m(path_or_buf, mode, encoding, compression, memory_map, is_text, errors, storage_options)\u001b[0m\n\u001b[1;32m    784\u001b[0m \u001b[39melif\u001b[39;00m \u001b[39misinstance\u001b[39m(handle, \u001b[39mstr\u001b[39m):\n\u001b[1;32m    785\u001b[0m     \u001b[39m# Check whether the filename is to be opened in binary mode.\u001b[39;00m\n\u001b[1;32m    786\u001b[0m     \u001b[39m# Binary mode does not support 'encoding' and 'newline'.\u001b[39;00m\n\u001b[1;32m    787\u001b[0m     \u001b[39mif\u001b[39;00m ioargs\u001b[39m.\u001b[39mencoding \u001b[39mand\u001b[39;00m \u001b[39m\"\u001b[39m\u001b[39mb\u001b[39m\u001b[39m\"\u001b[39m \u001b[39mnot\u001b[39;00m \u001b[39min\u001b[39;00m ioargs\u001b[39m.\u001b[39mmode:\n\u001b[1;32m    788\u001b[0m         \u001b[39m# Encoding\u001b[39;00m\n\u001b[0;32m--> 789\u001b[0m         handle \u001b[39m=\u001b[39m \u001b[39mopen\u001b[39;49m(\n\u001b[1;32m    790\u001b[0m             handle,\n\u001b[1;32m    791\u001b[0m             ioargs\u001b[39m.\u001b[39;49mmode,\n\u001b[1;32m    792\u001b[0m             encoding\u001b[39m=\u001b[39;49mioargs\u001b[39m.\u001b[39;49mencoding,\n\u001b[1;32m    793\u001b[0m             errors\u001b[39m=\u001b[39;49merrors,\n\u001b[1;32m    794\u001b[0m             newline\u001b[39m=\u001b[39;49m\u001b[39m\"\u001b[39;49m\u001b[39m\"\u001b[39;49m,\n\u001b[1;32m    795\u001b[0m         )\n\u001b[1;32m    796\u001b[0m     \u001b[39melse\u001b[39;00m:\n\u001b[1;32m    797\u001b[0m         \u001b[39m# Binary mode\u001b[39;00m\n\u001b[1;32m    798\u001b[0m         handle \u001b[39m=\u001b[39m \u001b[39mopen\u001b[39m(handle, ioargs\u001b[39m.\u001b[39mmode)\n",
      "\u001b[0;31mFileNotFoundError\u001b[0m: [Errno 2] No such file or directory: '../17031-Block-Car-OD-index_166987_V2.csv'"
     ]
    }
   ],
   "source": [
    "index_df=pd.read_csv(\"../17031-Block-Car-OD-index_166987_V2.csv\")\n",
    "index_df.head()"
   ]
  },
  {
   "cell_type": "code",
   "execution_count": null,
   "metadata": {},
   "outputs": [],
   "source": []
  },
  {
   "cell_type": "code",
   "execution_count": null,
   "metadata": {},
   "outputs": [
    {
     "data": {
      "text/html": [
       "<div>\n",
       "<style scoped>\n",
       "    .dataframe tbody tr th:only-of-type {\n",
       "        vertical-align: middle;\n",
       "    }\n",
       "\n",
       "    .dataframe tbody tr th {\n",
       "        vertical-align: top;\n",
       "    }\n",
       "\n",
       "    .dataframe thead th {\n",
       "        text-align: right;\n",
       "    }\n",
       "</style>\n",
       "<table border=\"1\" class=\"dataframe\">\n",
       "  <thead>\n",
       "    <tr style=\"text-align: right;\">\n",
       "      <th></th>\n",
       "      <th>orig</th>\n",
       "      <th>acc30</th>\n",
       "      <th>acc30_1000</th>\n",
       "    </tr>\n",
       "  </thead>\n",
       "  <tbody>\n",
       "    <tr>\n",
       "      <th>23961</th>\n",
       "      <td>1</td>\n",
       "      <td>0.004376</td>\n",
       "      <td>4.375594</td>\n",
       "    </tr>\n",
       "    <tr>\n",
       "      <th>55912</th>\n",
       "      <td>2</td>\n",
       "      <td>0.004319</td>\n",
       "      <td>4.318673</td>\n",
       "    </tr>\n",
       "    <tr>\n",
       "      <th>57764</th>\n",
       "      <td>3</td>\n",
       "      <td>0.004250</td>\n",
       "      <td>4.250088</td>\n",
       "    </tr>\n",
       "    <tr>\n",
       "      <th>52549</th>\n",
       "      <td>4</td>\n",
       "      <td>0.004267</td>\n",
       "      <td>4.266677</td>\n",
       "    </tr>\n",
       "    <tr>\n",
       "      <th>12906</th>\n",
       "      <td>5</td>\n",
       "      <td>0.004246</td>\n",
       "      <td>4.246415</td>\n",
       "    </tr>\n",
       "  </tbody>\n",
       "</table>\n",
       "</div>"
      ],
      "text/plain": [
       "       orig     acc30  acc30_1000\n",
       "23961     1  0.004376    4.375594\n",
       "55912     2  0.004319    4.318673\n",
       "57764     3  0.004250    4.250088\n",
       "52549     4  0.004267    4.266677\n",
       "12906     5  0.004246    4.246415"
      ]
     },
     "execution_count": 7,
     "metadata": {},
     "output_type": "execute_result"
    }
   ],
   "source": [
    "acc_df=pd.read_csv(\"access30_min_f.csv\")\n",
    "acc_df.fillna(0,inplace=True)\n",
    "acc_df[\"acc30_1000\"]=acc_df[\"acc30\"]*1000\n",
    "acc_df.sort_values(by=\"orig\", axis=0, ascending=True, inplace=True)\n",
    "acc_df.head()"
   ]
  },
  {
   "cell_type": "code",
   "execution_count": null,
   "metadata": {},
   "outputs": [
    {
     "data": {
      "text/html": [
       "<div>\n",
       "<style scoped>\n",
       "    .dataframe tbody tr th:only-of-type {\n",
       "        vertical-align: middle;\n",
       "    }\n",
       "\n",
       "    .dataframe tbody tr th {\n",
       "        vertical-align: top;\n",
       "    }\n",
       "\n",
       "    .dataframe thead th {\n",
       "        text-align: right;\n",
       "    }\n",
       "</style>\n",
       "<table border=\"1\" class=\"dataframe\">\n",
       "  <thead>\n",
       "    <tr style=\"text-align: right;\">\n",
       "      <th></th>\n",
       "      <th>geoid</th>\n",
       "      <th>orig</th>\n",
       "      <th>acc30</th>\n",
       "      <th>acc30_1000</th>\n",
       "    </tr>\n",
       "  </thead>\n",
       "  <tbody>\n",
       "    <tr>\n",
       "      <th>0</th>\n",
       "      <td>170310101001000</td>\n",
       "      <td>1</td>\n",
       "      <td>0.004376</td>\n",
       "      <td>4.375594</td>\n",
       "    </tr>\n",
       "    <tr>\n",
       "      <th>1</th>\n",
       "      <td>170310101001001</td>\n",
       "      <td>2</td>\n",
       "      <td>0.004319</td>\n",
       "      <td>4.318673</td>\n",
       "    </tr>\n",
       "    <tr>\n",
       "      <th>2</th>\n",
       "      <td>170310101001002</td>\n",
       "      <td>3</td>\n",
       "      <td>0.004250</td>\n",
       "      <td>4.250088</td>\n",
       "    </tr>\n",
       "    <tr>\n",
       "      <th>3</th>\n",
       "      <td>170310101001003</td>\n",
       "      <td>4</td>\n",
       "      <td>0.004267</td>\n",
       "      <td>4.266677</td>\n",
       "    </tr>\n",
       "    <tr>\n",
       "      <th>4</th>\n",
       "      <td>170310101002000</td>\n",
       "      <td>5</td>\n",
       "      <td>0.004246</td>\n",
       "      <td>4.246415</td>\n",
       "    </tr>\n",
       "  </tbody>\n",
       "</table>\n",
       "</div>"
      ],
      "text/plain": [
       "             geoid  orig     acc30  acc30_1000\n",
       "0  170310101001000     1  0.004376    4.375594\n",
       "1  170310101001001     2  0.004319    4.318673\n",
       "2  170310101001002     3  0.004250    4.250088\n",
       "3  170310101001003     4  0.004267    4.266677\n",
       "4  170310101002000     5  0.004246    4.246415"
      ]
     },
     "execution_count": 10,
     "metadata": {},
     "output_type": "execute_result"
    }
   ],
   "source": [
    "#join\n",
    "df=index_df.merge(acc_df,left_on=\"id\",right_on=\"orig\")\n",
    "df.drop([\"id\"],axis=1,inplace=True)\n",
    "df.head()"
   ]
  },
  {
   "cell_type": "markdown",
   "metadata": {},
   "source": [
    "## Join Shp to Results"
   ]
  },
  {
   "cell_type": "code",
   "execution_count": null,
   "metadata": {},
   "outputs": [
    {
     "data": {
      "text/html": [
       "<div>\n",
       "<style scoped>\n",
       "    .dataframe tbody tr th:only-of-type {\n",
       "        vertical-align: middle;\n",
       "    }\n",
       "\n",
       "    .dataframe tbody tr th {\n",
       "        vertical-align: top;\n",
       "    }\n",
       "\n",
       "    .dataframe thead th {\n",
       "        text-align: right;\n",
       "    }\n",
       "</style>\n",
       "<table border=\"1\" class=\"dataframe\">\n",
       "  <thead>\n",
       "    <tr style=\"text-align: right;\">\n",
       "      <th></th>\n",
       "      <th>geoid</th>\n",
       "      <th>POP10</th>\n",
       "      <th>geometry</th>\n",
       "    </tr>\n",
       "  </thead>\n",
       "  <tbody>\n",
       "    <tr>\n",
       "      <th>0</th>\n",
       "      <td>170318046091014</td>\n",
       "      <td>88</td>\n",
       "      <td>POLYGON ((-88.04667 42.03609, -88.04655 42.036...</td>\n",
       "    </tr>\n",
       "    <tr>\n",
       "      <th>1</th>\n",
       "      <td>170318234004046</td>\n",
       "      <td>4</td>\n",
       "      <td>POLYGON ((-87.70602 41.66378, -87.70557 41.663...</td>\n",
       "    </tr>\n",
       "    <tr>\n",
       "      <th>2</th>\n",
       "      <td>170318226022022</td>\n",
       "      <td>69</td>\n",
       "      <td>POLYGON ((-87.74494 41.69999, -87.74494 41.699...</td>\n",
       "    </tr>\n",
       "    <tr>\n",
       "      <th>3</th>\n",
       "      <td>170318232002032</td>\n",
       "      <td>2</td>\n",
       "      <td>POLYGON ((-87.73946 41.66173, -87.73964 41.661...</td>\n",
       "    </tr>\n",
       "    <tr>\n",
       "      <th>4</th>\n",
       "      <td>170318233023013</td>\n",
       "      <td>0</td>\n",
       "      <td>POLYGON ((-87.71278 41.65982, -87.71278 41.659...</td>\n",
       "    </tr>\n",
       "  </tbody>\n",
       "</table>\n",
       "</div>"
      ],
      "text/plain": [
       "             geoid  POP10                                           geometry\n",
       "0  170318046091014     88  POLYGON ((-88.04667 42.03609, -88.04655 42.036...\n",
       "1  170318234004046      4  POLYGON ((-87.70602 41.66378, -87.70557 41.663...\n",
       "2  170318226022022     69  POLYGON ((-87.74494 41.69999, -87.74494 41.699...\n",
       "3  170318232002032      2  POLYGON ((-87.73946 41.66173, -87.73964 41.661...\n",
       "4  170318233023013      0  POLYGON ((-87.71278 41.65982, -87.71278 41.659..."
      ]
     },
     "execution_count": 18,
     "metadata": {},
     "output_type": "execute_result"
    }
   ],
   "source": [
    "cook_gdf=gpd.read_file(\"Blocks.shp\")\n",
    "cook_gdf.drop([\"TRACTCE10\",\"HOUSING10\",\"LAT\",\"LON\"],axis=1,inplace=True)\n",
    "cook_gdf.rename(columns={\"GEOID10\":\"geoid\"},inplace=True)\n",
    "cook_gdf[\"geoid\"] = pd.to_numeric(cook_gdf[\"geoid\"])\n",
    "cook_gdf.head()"
   ]
  },
  {
   "cell_type": "code",
   "execution_count": null,
   "metadata": {},
   "outputs": [
    {
     "data": {
      "text/plain": [
       "(99032, 3)"
      ]
     },
     "execution_count": 19,
     "metadata": {},
     "output_type": "execute_result"
    }
   ],
   "source": [
    "cook_gdf.shape"
   ]
  },
  {
   "cell_type": "code",
   "execution_count": null,
   "metadata": {},
   "outputs": [
    {
     "data": {
      "text/plain": [
       "geoid          int64\n",
       "POP10          int64\n",
       "geometry    geometry\n",
       "dtype: object"
      ]
     },
     "execution_count": 20,
     "metadata": {},
     "output_type": "execute_result"
    }
   ],
   "source": [
    "cook_gdf.dtypes"
   ]
  },
  {
   "cell_type": "code",
   "execution_count": null,
   "metadata": {},
   "outputs": [
    {
     "data": {
      "text/html": [
       "<div>\n",
       "<style scoped>\n",
       "    .dataframe tbody tr th:only-of-type {\n",
       "        vertical-align: middle;\n",
       "    }\n",
       "\n",
       "    .dataframe tbody tr th {\n",
       "        vertical-align: top;\n",
       "    }\n",
       "\n",
       "    .dataframe thead th {\n",
       "        text-align: right;\n",
       "    }\n",
       "</style>\n",
       "<table border=\"1\" class=\"dataframe\">\n",
       "  <thead>\n",
       "    <tr style=\"text-align: right;\">\n",
       "      <th></th>\n",
       "      <th>geoid</th>\n",
       "      <th>POP10</th>\n",
       "      <th>geometry</th>\n",
       "      <th>orig</th>\n",
       "      <th>acc30</th>\n",
       "      <th>acc30_1000</th>\n",
       "    </tr>\n",
       "  </thead>\n",
       "  <tbody>\n",
       "    <tr>\n",
       "      <th>0</th>\n",
       "      <td>170318046091014</td>\n",
       "      <td>88</td>\n",
       "      <td>POLYGON ((-88.04667 42.03609, -88.04655 42.036...</td>\n",
       "      <td>48951</td>\n",
       "      <td>0.002810</td>\n",
       "      <td>2.809848</td>\n",
       "    </tr>\n",
       "    <tr>\n",
       "      <th>1</th>\n",
       "      <td>170318234004046</td>\n",
       "      <td>4</td>\n",
       "      <td>POLYGON ((-87.70602 41.66378, -87.70557 41.663...</td>\n",
       "      <td>75122</td>\n",
       "      <td>0.003283</td>\n",
       "      <td>3.283142</td>\n",
       "    </tr>\n",
       "    <tr>\n",
       "      <th>2</th>\n",
       "      <td>170318226022022</td>\n",
       "      <td>69</td>\n",
       "      <td>POLYGON ((-87.74494 41.69999, -87.74494 41.699...</td>\n",
       "      <td>74010</td>\n",
       "      <td>0.003895</td>\n",
       "      <td>3.895476</td>\n",
       "    </tr>\n",
       "    <tr>\n",
       "      <th>3</th>\n",
       "      <td>170318232002032</td>\n",
       "      <td>2</td>\n",
       "      <td>POLYGON ((-87.73946 41.66173, -87.73964 41.661...</td>\n",
       "      <td>74701</td>\n",
       "      <td>0.002504</td>\n",
       "      <td>2.503726</td>\n",
       "    </tr>\n",
       "    <tr>\n",
       "      <th>4</th>\n",
       "      <td>170318233023013</td>\n",
       "      <td>0</td>\n",
       "      <td>POLYGON ((-87.71278 41.65982, -87.71278 41.659...</td>\n",
       "      <td>74811</td>\n",
       "      <td>0.003323</td>\n",
       "      <td>3.322634</td>\n",
       "    </tr>\n",
       "  </tbody>\n",
       "</table>\n",
       "</div>"
      ],
      "text/plain": [
       "             geoid  POP10                                           geometry  \\\n",
       "0  170318046091014     88  POLYGON ((-88.04667 42.03609, -88.04655 42.036...   \n",
       "1  170318234004046      4  POLYGON ((-87.70602 41.66378, -87.70557 41.663...   \n",
       "2  170318226022022     69  POLYGON ((-87.74494 41.69999, -87.74494 41.699...   \n",
       "3  170318232002032      2  POLYGON ((-87.73946 41.66173, -87.73964 41.661...   \n",
       "4  170318233023013      0  POLYGON ((-87.71278 41.65982, -87.71278 41.659...   \n",
       "\n",
       "    orig     acc30  acc30_1000  \n",
       "0  48951  0.002810    2.809848  \n",
       "1  75122  0.003283    3.283142  \n",
       "2  74010  0.003895    3.895476  \n",
       "3  74701  0.002504    2.503726  \n",
       "4  74811  0.003323    3.322634  "
      ]
     },
     "execution_count": 21,
     "metadata": {},
     "output_type": "execute_result"
    }
   ],
   "source": [
    "res_gdf=cook_gdf.merge(df,on=\"geoid\")\n",
    "res_gdf.head()"
   ]
  },
  {
   "cell_type": "code",
   "execution_count": null,
   "metadata": {},
   "outputs": [
    {
     "name": "stderr",
     "output_type": "stream",
     "text": [
      "/Users/yaxiongshao/opt/miniconda3/lib/python3.10/site-packages/geopandas/io/file.py:362: FutureWarning: pandas.Int64Index is deprecated and will be removed from pandas in a future version. Use pandas.Index with the appropriate dtype instead.\n",
      "  pd.Int64Index,\n",
      "/Users/yaxiongshao/opt/miniconda3/lib/python3.10/site-packages/geopandas/io/file.py:362: FutureWarning: pandas.Int64Index is deprecated and will be removed from pandas in a future version. Use pandas.Index with the appropriate dtype instead.\n",
      "  pd.Int64Index,\n",
      "/Users/yaxiongshao/opt/miniconda3/lib/python3.10/site-packages/geopandas/io/file.py:362: FutureWarning: pandas.Int64Index is deprecated and will be removed from pandas in a future version. Use pandas.Index with the appropriate dtype instead.\n",
      "  pd.Int64Index,\n"
     ]
    }
   ],
   "source": [
    "res_gdf.to_file(\"access30_min_f.geojson\",driver=\"GeoJSON\")\n",
    "res_gdf.to_file(\"access30_min_f.shp\")\n",
    "res_gdf.to_file('access.gpkg', driver='GPKG', layer='access30_min_f')  "
   ]
  },
  {
   "cell_type": "markdown",
   "metadata": {},
   "source": [
    "## Batch Processing results"
   ]
  },
  {
   "cell_type": "code",
   "execution_count": 9,
   "metadata": {},
   "outputs": [
    {
     "name": "stdout",
     "output_type": "stream",
     "text": [
      "processing: 2.RawResults/access_2700_max_f.csv\n",
      "acc2700\n",
      "0.0055267078724659 5.896035155996315e-05\n",
      "processing: 2.RawResults/access_900_1.csv\n",
      "acc900\n",
      "0.0079443003137612 0.0\n",
      "processing: 2.RawResults/access_2700_1.csv\n",
      "acc2700\n",
      "0.0055403911129974 5.8959168336359855e-05\n",
      "processing: 2.RawResults/access_1800_1.csv\n",
      "acc1800\n",
      "0.0064796149346826 0.0\n",
      "processing: 2.RawResults/access_900_min_a.csv\n",
      "acc900\n",
      "0.0061433594300938 0.0\n",
      "processing: 2.RawResults/access_1800_min_f.csv\n",
      "acc1800\n",
      "0.0064822144031215 0.0\n",
      "processing: 2.RawResults/access_3600_min_f.csv\n",
      "acc3600\n",
      "0.0043267896528682 0.0\n",
      "processing: 2.RawResults/access_3600_1.csv\n",
      "acc3600\n",
      "0.004323305663625 0.0017152272468776\n",
      "processing: 2.RawResults/access_3600_min_a.csv\n",
      "acc3600\n",
      "0.0028846287984337 0.0\n",
      "processing: 2.RawResults/access_1800_min_a.csv\n",
      "acc1800\n",
      "0.00457487955859 0.0\n",
      "processing: 2.RawResults/access_900_min_f.csv\n",
      "acc900\n",
      "0.0079585129431082 0.0\n",
      "processing: 2.RawResults/access_1800_max_f.csv\n",
      "acc1800\n",
      "0.0064704999935894 0.0\n",
      "processing: 2.RawResults/access_3600_max_f.csv\n",
      "acc3600\n",
      "0.0043147124925484 0.0013201821941748\n",
      "processing: 2.RawResults/access_900_max_f.csv\n",
      "acc900\n",
      "0.0078853821877583 0.0\n",
      "processing: 2.RawResults/access_2700_min_f.csv\n",
      "acc2700\n",
      "0.0055406010279363 0.0\n",
      "processing: 2.RawResults/access_2700_min_a.csv\n",
      "acc2700\n",
      "0.0037893160810513 0.0\n"
     ]
    }
   ],
   "source": [
    "import os\n",
    "import pandas as pd\n",
    "import geopandas as gpd\n",
    "import glob\n",
    "import numpy as np\n",
    "import warnings\n",
    "warnings.filterwarnings('ignore')\n",
    "\n",
    "index_df=pd.read_csv(\"../1.Supply/data/17031-Block-Car-OD-index_166987_V2.csv\")\n",
    "index_df.head()\n",
    "\n",
    "csv_list=glob.glob(\"2.RawResults/*.csv\")\n",
    "for csv in csv_list:\n",
    "    print(\"processing:\",csv)\n",
    "    path, file_name=os.path.split(csv)\n",
    "    file_name=file_name.replace(\".csv\",\"\")\n",
    "    acc_df=pd.read_csv(csv)\n",
    "    acc_df.fillna(0,inplace=True)\n",
    "    acc_field=list(acc_df.columns)\n",
    "    #print(list(acc_df.columns))\n",
    "    print(acc_field[1])\n",
    "\n",
    "    acc_df[acc_field[1]+\"_1000\"]=acc_df[acc_field[1]]*1000\n",
    "    \n",
    "\n",
    "\n",
    "    acc_df.sort_values(by=\"orig\", axis=0, ascending=True, inplace=True)\n",
    "\n",
    "    df=index_df.merge(acc_df,left_on=\"id\",right_on=\"orig\")\n",
    "    df.drop([\"id\"],axis=1,inplace=True)\n",
    "\n",
    "    cook_gdf=gpd.read_file(\"../1.Supply/data/Census2010/CookCountyBlocks/Blocks.shp\")\n",
    "    cook_gdf.drop([\"TRACTCE10\",\"HOUSING10\",\"LAT\",\"LON\"],axis=1,inplace=True)\n",
    "    cook_gdf.rename(columns={\"GEOID10\":\"geoid\"},inplace=True)\n",
    "    cook_gdf[\"geoid\"] = pd.to_numeric(cook_gdf[\"geoid\"])\n",
    "    cook_gdf.head()\n",
    "\n",
    "    res_gdf=cook_gdf.merge(df,on=\"geoid\",how=\"left\")\n",
    "    res_gdf.fillna(0,inplace=True)\n",
    "\n",
    "    #Normalize, after joined with shp file\n",
    "    # Max = np.max(acc_df[acc_field[1]])\n",
    "    # Min = np.min(acc_df[acc_field[1]])\n",
    "    Max = res_gdf[acc_field[1]].max()\n",
    "    Min = res_gdf[acc_field[1]].min()\n",
    "    print(Max,Min)\n",
    "\n",
    "    \n",
    "    res_gdf[acc_field[1]+'_n'] = (res_gdf[acc_field[1]] - Min)/(Max - Min)\n",
    "    res_gdf.head()\n",
    "\n",
    "    res_gdf.to_file(\"3.Results_geojson/\"+file_name+\".geojson\",driver=\"GeoJSON\")\n",
    "    res_gdf.to_file(\"4.Results_shp/\"+file_name+\".shp\")\n",
    "    res_gdf.to_file('access.gpkg', driver='GPKG', layer=file_name)\n",
    "    res_gdf.drop([\"geometry\",\"orig\"],axis=1,inplace=True)\n",
    "    res_gdf.to_csv(\"5.Results_csv_without15mi/\"+file_name+\".csv\",index=False)\n",
    "    #break;"
   ]
  },
  {
   "cell_type": "code",
   "execution_count": null,
   "metadata": {},
   "outputs": [],
   "source": []
  },
  {
   "cell_type": "markdown",
   "metadata": {},
   "source": [
    "## Visualize Results"
   ]
  },
  {
   "cell_type": "code",
   "execution_count": null,
   "metadata": {},
   "outputs": [],
   "source": []
  }
 ],
 "metadata": {
  "kernelspec": {
   "display_name": "Python 3.10.4 ('base')",
   "language": "python",
   "name": "python3"
  },
  "language_info": {
   "codemirror_mode": {
    "name": "ipython",
    "version": 3
   },
   "file_extension": ".py",
   "mimetype": "text/x-python",
   "name": "python",
   "nbconvert_exporter": "python",
   "pygments_lexer": "ipython3",
   "version": "3.10.4"
  },
  "orig_nbformat": 4,
  "vscode": {
   "interpreter": {
    "hash": "93a3673a3758fdf33d6ba0423f037f6c2442f629d113b8691bc0e228a41716bd"
   }
  }
 },
 "nbformat": 4,
 "nbformat_minor": 2
}
